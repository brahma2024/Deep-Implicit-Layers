{
  "nbformat": 4,
  "nbformat_minor": 0,
  "metadata": {
    "colab": {
      "provenance": [],
      "authorship_tag": "ABX9TyPAXfJn3+HD6nd/iNWOKdZ+",
      "include_colab_link": true
    },
    "kernelspec": {
      "name": "python3",
      "display_name": "Python 3"
    },
    "language_info": {
      "name": "python"
    }
  },
  "cells": [
    {
      "cell_type": "markdown",
      "metadata": {
        "id": "view-in-github",
        "colab_type": "text"
      },
      "source": [
        "<a href=\"https://colab.research.google.com/github/brahma2024/Deep-Implicit-Layers/blob/main/Ch2_1_ImplicitFunc%2BAutoDiff.ipynb\" target=\"_parent\"><img src=\"https://colab.research.google.com/assets/colab-badge.svg\" alt=\"Open In Colab\"/></a>"
      ]
    },
    {
      "cell_type": "markdown",
      "source": [
        "# Chapter 2: Implicit Functions and Automatic Differentiation\n",
        "\n",
        "https://implicit-layers-tutorial.org/implicit_functions/\n",
        "- exploring methods to compute Numerical Fixed points\n",
        "- This chapter uses JAX (instead of Pytorch)\n",
        "\n",
        "Covers:\n",
        "- [Naive Forward iterations](https://en.wikipedia.org/wiki/Fixed-point_iteration) for computing fixed point\n",
        "- [Newton's method](https://en.wikipedia.org/wiki/Newton%27s_method) to compute fixed point\n",
        "- [Anderson Acceleration](https://en.wikipedia.org/wiki/Anderson_acceleration) to compute fixed point"
      ],
      "metadata": {
        "id": "n1C-_qbklr_w"
      }
    },
    {
      "cell_type": "code",
      "source": [
        "!pip install fvcore\n",
        "# import jax.numpy as jnp\n",
        "import torch\n",
        "import torch.profiler\n",
        "from torch.autograd import grad\n",
        "from torch.autograd import functional\n",
        "import numpy as np\n",
        "from fvcore.nn import FlopCountAnalysis\n",
        "import matplotlib.pyplot as plt\n",
        "\n",
        "%matplotlib inline"
      ],
      "metadata": {
        "id": "3TL4-dh3175r",
        "colab": {
          "base_uri": "https://localhost:8080/"
        },
        "outputId": "f9ac86e6-e726-4742-8cfe-9b734574e77d"
      },
      "execution_count": null,
      "outputs": [
        {
          "output_type": "stream",
          "name": "stdout",
          "text": [
            "Collecting fvcore\n",
            "  Downloading fvcore-0.1.5.post20221221.tar.gz (50 kB)\n",
            "\u001b[2K     \u001b[90m━━━━━━━━━━━━━━━━━━━━━━━━━━━━━━━━━━━━━━━━\u001b[0m \u001b[32m50.2/50.2 kB\u001b[0m \u001b[31m2.2 MB/s\u001b[0m eta \u001b[36m0:00:00\u001b[0m\n",
            "\u001b[?25h  Preparing metadata (setup.py) ... \u001b[?25l\u001b[?25hdone\n",
            "Requirement already satisfied: numpy in /usr/local/lib/python3.10/dist-packages (from fvcore) (1.26.4)\n",
            "Collecting yacs>=0.1.6 (from fvcore)\n",
            "  Downloading yacs-0.1.8-py3-none-any.whl.metadata (639 bytes)\n",
            "Requirement already satisfied: pyyaml>=5.1 in /usr/local/lib/python3.10/dist-packages (from fvcore) (6.0.2)\n",
            "Requirement already satisfied: tqdm in /usr/local/lib/python3.10/dist-packages (from fvcore) (4.66.5)\n",
            "Requirement already satisfied: termcolor>=1.1 in /usr/local/lib/python3.10/dist-packages (from fvcore) (2.4.0)\n",
            "Requirement already satisfied: Pillow in /usr/local/lib/python3.10/dist-packages (from fvcore) (9.4.0)\n",
            "Requirement already satisfied: tabulate in /usr/local/lib/python3.10/dist-packages (from fvcore) (0.9.0)\n",
            "Collecting iopath>=0.1.7 (from fvcore)\n",
            "  Downloading iopath-0.1.10.tar.gz (42 kB)\n",
            "\u001b[2K     \u001b[90m━━━━━━━━━━━━━━━━━━━━━━━━━━━━━━━━━━━━━━━━\u001b[0m \u001b[32m42.2/42.2 kB\u001b[0m \u001b[31m1.4 MB/s\u001b[0m eta \u001b[36m0:00:00\u001b[0m\n",
            "\u001b[?25h  Preparing metadata (setup.py) ... \u001b[?25l\u001b[?25hdone\n",
            "Requirement already satisfied: typing_extensions in /usr/local/lib/python3.10/dist-packages (from iopath>=0.1.7->fvcore) (4.12.2)\n",
            "Collecting portalocker (from iopath>=0.1.7->fvcore)\n",
            "  Downloading portalocker-2.10.1-py3-none-any.whl.metadata (8.5 kB)\n",
            "Downloading yacs-0.1.8-py3-none-any.whl (14 kB)\n",
            "Downloading portalocker-2.10.1-py3-none-any.whl (18 kB)\n",
            "Building wheels for collected packages: fvcore, iopath\n",
            "  Building wheel for fvcore (setup.py) ... \u001b[?25l\u001b[?25hdone\n",
            "  Created wheel for fvcore: filename=fvcore-0.1.5.post20221221-py3-none-any.whl size=61395 sha256=7f4399d9fe4103631b5fd069208c9b5bef69890ec5859ab965e0329777370167\n",
            "  Stored in directory: /root/.cache/pip/wheels/01/c0/af/77c1cf53a1be9e42a52b48e5af2169d40ec2e89f7362489dd0\n",
            "  Building wheel for iopath (setup.py) ... \u001b[?25l\u001b[?25hdone\n",
            "  Created wheel for iopath: filename=iopath-0.1.10-py3-none-any.whl size=31529 sha256=329819414fe9e55743db88e1a19ec33f09107949c1dd47b59f814ab053657e97\n",
            "  Stored in directory: /root/.cache/pip/wheels/9a/a3/b6/ac0fcd1b4ed5cfeb3db92e6a0e476cfd48ed0df92b91080c1d\n",
            "Successfully built fvcore iopath\n",
            "Installing collected packages: yacs, portalocker, iopath, fvcore\n",
            "Successfully installed fvcore-0.1.5.post20221221 iopath-0.1.10 portalocker-2.10.1 yacs-0.1.8\n"
          ]
        }
      ]
    },
    {
      "cell_type": "code",
      "execution_count": null,
      "metadata": {
        "id": "_8wxM-Jwljw0"
      },
      "outputs": [],
      "source": [
        "# Define the naive forward iteration solver\n",
        "def fwd_solver(f, z_init):\n",
        "  z_prev, z = z_init, f(z_init)\n",
        "  # print(f'{f(z_init)=}')\n",
        "  # print(f'{jnp.linalg.norm(z_prev - z)=}')\n",
        "\n",
        "  # jax implementation\n",
        "  # while jnp.linalg.norm(z_prev - z) > 1e-5:\n",
        "\n",
        "  # pytorch implementation\n",
        "  while torch.norm(z_prev - z) > 1e-5:\n",
        "    z_prev, z = z, f(z)\n",
        "    # print(f'{torch.norm(z_prev - z)=}')\n",
        "  return z"
      ]
    },
    {
      "cell_type": "code",
      "source": [
        "# import jax\n",
        "from torch.autograd.functional import jacobian\n",
        "\n",
        "# Define the Newtown's Iteration method as a solver\n",
        "def newton_solver(f, z_init):\n",
        "  f_root = lambda z: f(z) - z\n",
        "  # g = lambda z: z - jnp.linalg.solve(jax.jacobian(f_root)(z), f_root(z)) # jax implementation\n",
        "  g = lambda z: z - torch.linalg.solve(jacobian(f_root, z), f_root(z)) # pytoch implementation\n",
        "  return fwd_solver(g, z_init)"
      ],
      "metadata": {
        "id": "_YlYV6O9nLRg"
      },
      "execution_count": null,
      "outputs": []
    },
    {
      "cell_type": "code",
      "source": [
        "# Define the Anderson Acceleartion solver\n",
        "def anderson_solver(f, z_init, m=5, lam=1e-4, max_iter=50, tol=1e-5, beta=1.0):\n",
        "  x0 = z_init\n",
        "  x1 = f(x0)\n",
        "  x2 = f(x1)\n",
        "  # jax implementation\n",
        "  # X = jnp.concatenate([jnp.stack([x0, x1]), jnp.zeros((m - 2, *jnp.shape(x0)))])\n",
        "  # F = jnp.concatenate([jnp.stack([x1, x2]), jnp.zeros((m - 2, *jnp.shape(x0)))])\n",
        "\n",
        "  # pytorch implementation\n",
        "  X = torch.cat([torch.stack((x0, x1)), torch.zeros((m - 2, *x0.shape))])\n",
        "  F = torch.cat([torch.stack((x1, x2)), torch.zeros((m - 2, *x0.shape))])\n",
        "\n",
        "  res = []\n",
        "  for k in range(2, max_iter):\n",
        "    n = min(k, m)\n",
        "    G = F[:n] - X[:n]\n",
        "    GTG = torch.tensordot(G, G, [list(range(1, G.ndim))] * 2)\n",
        "    # jax implementation\n",
        "    # H = jnp.block([[jnp.zeros((1, 1)), jnp.ones((1, n))],\n",
        "    #               [jnp.ones((n, 1)), GTG]]) + lam * jnp.eye(n + 1)\n",
        "    # alpha = jnp.linalg.solve(H, jnp.zeros(n+1).at[0].set(1))[1:]\n",
        "    # xk = beta * torch.dot(alpha, F[:n]) + (1-beta) * torch.dot(alpha, X[:n])\n",
        "    # X = X.at[k % m].set(xk)\n",
        "    # F = F.at[k % m].set(f(xk))\n",
        "\n",
        "    # pytorch implementation\n",
        "    H = torch.cat([torch.cat([torch.zeros((1, 1)), torch.ones((1, n))], dim=1),\n",
        "                   torch.cat([torch.ones((n, 1)), GTG], dim=1)], dim=0) + lam * torch.eye(n + 1)\n",
        "    rhs = torch.zeros(n + 1)\n",
        "    rhs[0] = 1  # Set the first element to 1\n",
        "    alpha = torch.linalg.solve(H, rhs)[1:]\n",
        "\n",
        "    xk = beta * torch.matmul(alpha, F[:n]) + (1-beta) * torch.matmul(alpha, X[:n])\n",
        "    X[k % m] = xk\n",
        "    F[k % m] = f(xk)\n",
        "\n",
        "    res = torch.linalg.norm(F[k % m] - X[k % m]) / (1e-5 + torch.linalg.norm(F[k % m]))\n",
        "    if res < tol:\n",
        "      break\n",
        "\n",
        "  return xk"
      ],
      "metadata": {
        "id": "0YVF-LRYoD3p"
      },
      "execution_count": null,
      "outputs": []
    },
    {
      "cell_type": "markdown",
      "source": [
        "**Fixed Point Layer**\n",
        "\n",
        "The layer takes as arguments\n",
        "\n",
        "1. a solver, aptly named solver,\n",
        "2. a function f for which to find the fixed point,\n",
        "3. parameters params, and\n",
        "4. input values x.\n",
        "\n",
        "With those inputs, it computes as its output the fixed-point of the function.\n",
        "\n",
        "Here’s the function f we’ll use, so that its paramters are just a weight matrix W:\n",
        "\n",
        "    f = lambda W, x, z: jnp.tanh(jnp.dot(W, z) + x)"
      ],
      "metadata": {
        "id": "TouTsPlpQkIx"
      }
    },
    {
      "cell_type": "code",
      "source": [
        "# Creating a toy DEQ (Deep Equilibrium) fixed-point layer, which can use any of the solvers deployed above\n",
        "def fixed_point_layer(solver, f, params, x):\n",
        "  # z_star = solver(lambda z: f(params, x, z), z_init=jnp.zeros_like(x))\n",
        "  z_star = solver(lambda z: f(params, x, z), z_init=torch.zeros_like(x))\n",
        "  return z_star"
      ],
      "metadata": {
        "id": "jtbJEslawv6Z"
      },
      "execution_count": null,
      "outputs": []
    },
    {
      "cell_type": "code",
      "source": [
        "# define the function\n",
        "# f = lambda W, x, z: jnp.tanh(jnp.dot(W, z) + x)\n",
        "f = lambda W, x, z: torch.tanh(torch.matmul(W, z) + x)"
      ],
      "metadata": {
        "id": "OTD4xJK4RAJM"
      },
      "execution_count": null,
      "outputs": []
    },
    {
      "cell_type": "code",
      "source": [
        "# from jax import random\n",
        "# import jax.numpy as jnp\n",
        "torch.manual_seed(0)\n",
        "\n",
        "# initialize some random values for the parameters and inputs:\n",
        "ndim = 10\n",
        "# W = random.normal(random.PRNGKey(0), (ndim, ndim)) / jnp.sqrt(ndim)\n",
        "# x = random.normal(random.PRNGKey(1), (ndim,))\n",
        "W = torch.randn((ndim, ndim)) / torch.sqrt(torch.tensor(ndim, dtype=torch.float32))\n",
        "x = torch.randn((ndim,))\n",
        "W = torch.tensor(W, requires_grad=True)\n",
        "x = torch.tensor(x, requires_grad=True)\n",
        "print(f'{W.shape=} | {x.shape=}')\n",
        "print(f'{W=} | {x=}')"
      ],
      "metadata": {
        "id": "4YdFEhEfRMNv",
        "colab": {
          "base_uri": "https://localhost:8080/"
        },
        "outputId": "0f9d6cb7-5f0b-4a20-db83-ce87d39598eb"
      },
      "execution_count": null,
      "outputs": [
        {
          "output_type": "stream",
          "name": "stdout",
          "text": [
            "W.shape=torch.Size([10, 10]) | x.shape=torch.Size([10])\n",
            "W=tensor([[-3.5602e-01, -3.6441e-01, -7.9240e-02, -1.3720e-01,  2.6839e-01,\n",
            "          2.1883e-01, -9.9932e-02, -6.6889e-01,  1.0191e-01, -3.9950e-01],\n",
            "        [ 1.1067e-01,  9.7441e-02,  3.7897e-02,  3.9138e-01,  3.5316e-01,\n",
            "         -7.8196e-02, -4.2775e-01, -5.3630e-01,  1.7919e-01,  2.5093e-01],\n",
            "        [ 1.8937e-01, -4.9176e-01, -1.0795e-01,  5.8597e-01,  2.3723e-01,\n",
            "         -1.8515e-01, -5.4833e-02,  5.8021e-02,  4.3936e-01,  5.0164e-01],\n",
            "        [ 2.9925e-01, -2.6679e-01, -1.9403e-01,  9.9905e-03, -1.5580e-01,\n",
            "          7.8556e-02,  1.3904e-01,  3.5548e-02,  2.0264e-01,  1.3951e-01],\n",
            "        [-3.2353e-02,  2.5059e-01, -9.1601e-02,  1.6604e-02,  1.6534e-01,\n",
            "          7.2802e-01, -4.6451e-01, -5.0176e-01, -2.1285e-01,  2.7601e-01],\n",
            "        [ 3.3373e-01,  5.6239e-02, -7.2838e-02, -1.2388e-01,  1.7180e-01,\n",
            "         -1.2496e-01, -1.4111e-01,  2.3528e-01,  4.8098e-01,  1.0785e+00],\n",
            "        [-4.8420e-01, -3.9027e-01,  5.7545e-01, -1.7441e-01, -1.8001e-01,\n",
            "          2.9092e-01,  3.5127e-01,  4.0789e-01, -4.6744e-01,  8.1183e-01],\n",
            "        [-1.4961e-01,  1.0611e-01, -5.1524e-01, -1.7384e-01, -1.5174e-01,\n",
            "         -1.5801e-01, -3.3741e-01,  3.5257e-01, -4.4484e-02,  2.5480e-01],\n",
            "        [-2.9519e-02,  2.1726e-01, -2.6510e-01,  2.8202e-04, -8.2641e-01,\n",
            "         -5.3647e-01, -7.2176e-02,  8.8530e-02,  2.3162e-02,  3.5206e-01],\n",
            "        [ 8.9261e-02,  1.3731e-01,  1.4450e-01, -2.7365e-01,  2.4707e-01,\n",
            "         -2.9308e-01,  6.5275e-02, -1.0545e-01, -1.3561e-01,  7.3655e-02]],\n",
            "       requires_grad=True) | x=tensor([ 1.3232,  0.0371, -0.2849, -0.1334,  1.8929,  3.1110, -0.4584, -0.3360,\n",
            "        -1.5700,  1.2315], requires_grad=True)\n"
          ]
        },
        {
          "output_type": "stream",
          "name": "stderr",
          "text": [
            "<ipython-input-7-8571e11073b7>:11: UserWarning: To copy construct from a tensor, it is recommended to use sourceTensor.clone().detach() or sourceTensor.clone().detach().requires_grad_(True), rather than torch.tensor(sourceTensor).\n",
            "  W = torch.tensor(W, requires_grad=True)\n",
            "<ipython-input-7-8571e11073b7>:12: UserWarning: To copy construct from a tensor, it is recommended to use sourceTensor.clone().detach() or sourceTensor.clone().detach().requires_grad_(True), rather than torch.tensor(sourceTensor).\n",
            "  x = torch.tensor(x, requires_grad=True)\n"
          ]
        }
      ]
    },
    {
      "cell_type": "code",
      "source": [
        "# taking weights + input values same as from jax.random\n",
        "# compare jax and pytorch output for same set of initialized weights and inputs\n",
        "# W = torch.tensor([[-0.62646943,  0.3314612 ,  0.2813855 ,  0.01112047, -0.29958108,\n",
        "#          0.26919097,  0.00988069, -0.12322951,  0.00417674, -0.1329807 ],\n",
        "#        [-0.3900877 , -0.39605355,  0.31223935,  0.254865  , -0.12991595,\n",
        "#          0.30794927, -0.21753468, -0.25078502, -0.62400335,  0.04913804],\n",
        "#        [-0.1836838 ,  0.5016327 ,  0.09010185,  0.20182689,  0.01919276,\n",
        "#          0.12584354, -0.07185219, -0.22306114,  0.20778245, -0.57114726],\n",
        "#        [ 0.32912743, -0.6233769 , -0.02189714,  0.190992  , -0.12137587,\n",
        "#          0.10278042,  0.08896769, -0.47816026,  0.27667585, -0.25164938],\n",
        "#        [ 0.1188938 , -0.1439303 ,  0.04284617,  0.3795554 ,  0.55041873,\n",
        "#          0.31262004, -0.00856635, -0.37457463, -0.30257002,  0.31004906],\n",
        "#        [ 0.06992795,  0.15385827,  0.53687525,  0.06366048, -0.18408304,\n",
        "#         -0.12399336,  0.01583631,  0.6573366 ,  0.05143053, -0.21865143],\n",
        "#        [ 0.15432113,  0.5598078 , -0.01582264,  0.38707498,  0.1734462 ,\n",
        "#          0.5159388 ,  0.14582428, -0.04668416, -0.10670727,  0.52476496],\n",
        "#        [-0.15761589,  0.17414679,  0.3637611 ,  0.08810832,  0.08628508,\n",
        "#         -0.23733257,  0.02885483,  0.5609416 , -0.44097972,  0.02117103],\n",
        "#        [ 0.3405292 ,  0.1203666 , -0.02716885, -0.15123804, -0.05169257,\n",
        "#         -0.01307351, -0.06963191,  0.19860576, -0.3241417 ,  0.13959946],\n",
        "#        [-0.43475202, -0.5352189 , -0.2541536 , -0.02742853,  0.19993733,\n",
        "#         -0.23109101, -0.24291793,  0.7471586 ,  0.369477  , -0.07171907]])\n",
        "# W = torch.tensor(W, requires_grad=True)\n",
        "# X = torch.tensor([ 0.690805  , -0.48744103, -1.155789  ,  0.12108463, -0.19598432,\n",
        "#        -0.5078766 ,  0.91568655,  1.70968   , -0.36749417,  0.14315689])\n",
        "\n",
        "# print(f'{W.shape=} | {x.shape=}')\n",
        "# print(f'{W=} | {x=}')"
      ],
      "metadata": {
        "id": "bLwxhd6eGYoe"
      },
      "execution_count": null,
      "outputs": []
    },
    {
      "cell_type": "markdown",
      "source": [
        "**Solving for Fixed Point**\n",
        "- Using each of the solvers defined above\n",
        "- Objective: show that it does not matter how we find the solution to the fixed point, until we find the solution\n",
        "- This allows us to seperately optimize on the `\"approach to find the solution\" in order to achieve better memory usage, efficiency, accuracy and speed`"
      ],
      "metadata": {
        "id": "KEzvcUtsRwF4"
      }
    },
    {
      "cell_type": "code",
      "source": [
        "# computing fixed point using naive forward iteration\n",
        "\n",
        "# Use torch.profiler to get a comprehensive view of both FLOP costs and memory usage, along with other performance metrics\n",
        "with torch.profiler.profile(\n",
        "    activities=[\n",
        "        torch.profiler.ProfilerActivity.CPU,\n",
        "        torch.profiler.ProfilerActivity.CUDA,\n",
        "    ],\n",
        "    record_shapes=True,\n",
        "    profile_memory=True,\n",
        "    with_stack=True\n",
        ") as prof:\n",
        "  z_star = fixed_point_layer(solver=fwd_solver, f=f, params=W, x=x)\n",
        "\n",
        "print(z_star, '\\n')\n",
        "print(prof.key_averages().table(sort_by=\"cuda_time_total\", row_limit=10))"
      ],
      "metadata": {
        "colab": {
          "base_uri": "https://localhost:8080/"
        },
        "id": "2yqb5VtGRrG7",
        "outputId": "049c6964-83db-4adb-ab15-628c011aeb80"
      },
      "execution_count": null,
      "outputs": [
        {
          "output_type": "stream",
          "name": "stderr",
          "text": [
            "/usr/local/lib/python3.10/dist-packages/torch/autograd/profiler.py:228: UserWarning: CUDA is not available, disabling CUDA profiling\n",
            "  warn(\"CUDA is not available, disabling CUDA profiling\")\n"
          ]
        },
        {
          "output_type": "stream",
          "name": "stdout",
          "text": [
            "tensor([ 0.8016,  0.5530, -0.3657, -0.1409,  0.9984,  0.9993, -0.0781, -0.2827,\n",
            "        -0.9855,  0.9128], grad_fn=<TanhBackward0>) \n",
            "\n",
            "-----------------------------  ------------  ------------  ------------  ------------  ------------  ------------  ------------  ------------  \n",
            "                         Name    Self CPU %      Self CPU   CPU total %     CPU total  CPU time avg       CPU Mem  Self CPU Mem    # of Calls  \n",
            "-----------------------------  ------------  ------------  ------------  ------------  ------------  ------------  ------------  ------------  \n",
            "             aten::zeros_like         0.30%     270.000us         4.00%       3.552ms       3.552ms          40 b           0 b             1  \n",
            "             aten::empty_like         3.64%       3.232ms         3.70%       3.280ms       3.280ms          40 b           0 b             1  \n",
            "          aten::empty_strided         0.14%     128.000us         0.14%     128.000us       3.368us         172 b         172 b            38  \n",
            "                  aten::zero_         0.00%       2.000us         0.00%       2.000us       2.000us           0 b           0 b             1  \n",
            "                 aten::matmul         0.30%     266.000us        16.52%      14.657ms     396.135us       1.45 Kb           0 b            37  \n",
            "                     aten::mv         4.30%       3.818ms        16.22%      14.391ms     388.946us       1.45 Kb          40 b            37  \n",
            "                  aten::empty         0.09%      79.000us         0.09%      79.000us       2.135us       1.41 Kb       1.41 Kb            37  \n",
            "                 aten::addmv_        11.83%      10.494ms        11.83%      10.494ms     283.622us           0 b           0 b            37  \n",
            "                    aten::add         6.12%       5.427ms         6.12%       5.427ms     146.676us       1.45 Kb       1.45 Kb            37  \n",
            "                     [memory]         0.00%       0.000us         0.00%       0.000us       0.000us      -4.52 Kb      -4.52 Kb           187  \n",
            "-----------------------------  ------------  ------------  ------------  ------------  ------------  ------------  ------------  ------------  \n",
            "Self CPU time total: 88.739ms\n",
            "\n"
          ]
        }
      ]
    },
    {
      "cell_type": "markdown",
      "source": [
        "# Counting FLOPs required\n",
        "\n",
        "To calculate FLOPs (Floating Point Operations) for the given code, we can break down the operations involved in your computation. Here's how you can analyze the FLOPs:\n",
        "\n",
        "**Step 1:** Analyzing the Operations\n",
        "Your code includes the following main operations:\n",
        "\n",
        "1. Matrix multiplication (torch.matmul): This multiplies a matrix W of shape (ndim, ndim) by a vector z of shape (ndim,).\n",
        "2. Addition (+): Adding the vector x of shape (ndim,) to the result of the matrix multiplication.\n",
        "3. Non-linear activation (torch.tanh): Applying the hyperbolic tangent function to each element of the resulting vector.\n",
        "\n",
        "**Step 2:** Breaking Down the FLOPs for Each Operation\n",
        "\n",
        "1. Matrix Multiplication (torch.matmul):\n",
        "\n",
        "  - The matrix W has dimensions (ndim, ndim) and the vector z has dimensions (ndim,).\n",
        "  - The FLOPs for matrix-vector multiplication are calculated as 2 × num_rows_in_W × num_columns_in_W = 2 × num_rows_in_W × num_columns_in_W.\n",
        "  - For torch.matmul(W, z):\n",
        "  FLOPs = 2 × ndim × ndim = 2 × ndim ** 2\n",
        "\n",
        "2. Addition (+):\n",
        "\n",
        "  - The addition is performed element-wise between the vector resulting from the matrix multiplication and the vector x of shape (ndim,).\n",
        "  - FLOPs = ndim (one addition per element).\n",
        "  \n",
        "3. Non-linear Activation (torch.tanh):\n",
        "\n",
        "  - The torch.tanh function is applied element-wise to the result.\n",
        "  - FLOPs depend on the implementation of tanh, but typically you can count one FLOP per element for simplicity.\n",
        "  - FLOPs = ndim.\n",
        "\n",
        "\n",
        "**Step 3:** Summing the FLOPs\n",
        "Let's sum the FLOPs for all the operations:\n",
        "\n",
        "1. Matrix Multiplication: 2 × ndim ** 2 FLOPs.\n",
        "2. Addition: ndim FLOPs.\n",
        "3. Tanh Activation: ndim FLOPs.\n",
        "\n",
        "So, the total FLOPs for one evaluation of f(W, x, z) is: Total FLOPs = 2 × ndim ** 2 + 2 × ndim\n",
        "\n",
        "Example Calculation for ndim = 10\n",
        "If ndim = 10, the FLOPs would be:\n",
        "\n",
        "- Matrix Multiplication: 2 × 10 ** 2 = 200 FLOPs.\n",
        "- Addition: 10 FLOPs.\n",
        "- Tanh Activation: 10 FLOPs.\n",
        "- Total FLOPs: 200+10+10=220 FLOPs.\n",
        "\n",
        "--------------------------------------------\n",
        "**Step 4:** Verifying FLOPs Programmatically\n",
        "To programmatically calculate FLOPs in PyTorch, you would use the torch.utils.benchmark module or external libraries like fvcore. However, as this is a manual breakdown, no specific tool has been used in this example.\n",
        "\n",
        "\n",
        "FLOPS/s\n",
        "If we can get time an operation  (using torch.utils.benchmark module or external libraries like fvcore)\n",
        "Say in example above we calculated the FLOPs to be 220 for the given operation,\n",
        "and say took approximately 12.37 us per run, then:\n",
        "\n",
        "FLOP/s= (220 FLOPs /12.37 × 10 ** −6 seconds) ≈ 17.79 × 10 ** 6 FLOP/s"
      ],
      "metadata": {
        "id": "PfUxg2aFVtAV"
      }
    },
    {
      "cell_type": "code",
      "source": [
        "# computing fixed point using Newton's method\n",
        "z_star = fixed_point_layer(solver=newton_solver, f=f, params=W, x=x)\n",
        "print(z_star)"
      ],
      "metadata": {
        "colab": {
          "base_uri": "https://localhost:8080/"
        },
        "id": "ZFAnzYmiU7ER",
        "outputId": "cd721db2-2fbe-4a4f-a468-dda9eb05192a"
      },
      "execution_count": null,
      "outputs": [
        {
          "output_type": "stream",
          "name": "stdout",
          "text": [
            "tensor([ 0.8016,  0.5530, -0.3657, -0.1409,  0.9984,  0.9993, -0.0781, -0.2827,\n",
            "        -0.9855,  0.9128], grad_fn=<SubBackward0>)\n"
          ]
        }
      ]
    },
    {
      "cell_type": "code",
      "source": [
        "# computing fixed point using Anderson Acceleration\n",
        "z_star = fixed_point_layer(solver=anderson_solver, f=f, params=W, x=x)\n",
        "print(z_star)"
      ],
      "metadata": {
        "colab": {
          "base_uri": "https://localhost:8080/"
        },
        "id": "qWbVc09GVvLc",
        "outputId": "f5c65ec1-9ccd-4e24-e230-3eedcb47584f"
      },
      "execution_count": null,
      "outputs": [
        {
          "output_type": "stream",
          "name": "stdout",
          "text": [
            "tensor([ 0.8016,  0.5530, -0.3657, -0.1409,  0.9984,  0.9993, -0.0781, -0.2828,\n",
            "        -0.9855,  0.9128], grad_fn=<AddBackward0>)\n"
          ]
        }
      ]
    },
    {
      "cell_type": "markdown",
      "source": [
        "**comparing z* i.e. fixed-point-layer values from JAX and Pytroch**\n",
        "- **JAX**\n",
        "  - fwd solver\n",
        "  [ 0.00649598 -0.70159584 -0.984715   -0.04196559 -0.6152218  -0.4818382\n",
        "  0.5783123   0.9556704  -0.08373147  0.8447805 ]\n",
        "  - newton solver\n",
        "  [ 0.00649404 -0.701595   -0.98471504 -0.04196507 -0.6152211  -0.48183846\n",
        "  0.5783124   0.9556705  -0.08372924  0.8447799 ]\n",
        "  - anderson_solver\n",
        "  [ 0.00649838 -0.70159334 -0.9847147  -0.0419427  -0.6152192  -0.48183313\n",
        "  0.57832295  0.95566976 -0.08373422  0.8447751 ]\n",
        "\n",
        "\n",
        "- **Pytorch**\n",
        "  - fwd_solver\n",
        "  - newton solver\n",
        "  - anderson_solver\n",
        "\n"
      ],
      "metadata": {
        "id": "PaJyjqgmR5c7"
      }
    },
    {
      "cell_type": "markdown",
      "source": [
        "**What we've shown**\n",
        "- Up to numerical tolerances, we can see that we’re computing about the same numerical fixed point regardless of the solver we use to find it. That is, we’re decoupled the value to be computed from the way in which it’s computed."
      ],
      "metadata": {
        "id": "7bqThJ7JYdAz"
      }
    },
    {
      "cell_type": "markdown",
      "source": [
        "# Naive automatic differentiation through iterative solvers\n",
        "We can already differentiate through our fixed_point_layer function. For example, we can use torch.grad (jax.grad) to compute the gradient of the sum of the outputs with respect to the parameter matrix:"
      ],
      "metadata": {
        "id": "0h3p_6C7df4d"
      }
    },
    {
      "cell_type": "code",
      "source": [
        "output = fixed_point_layer(solver=fwd_solver, f=f, params=W, x=x)\n",
        "g = grad(output.sum(), W)\n",
        "print(g)"
      ],
      "metadata": {
        "colab": {
          "base_uri": "https://localhost:8080/"
        },
        "id": "RhkKhueNd1H4",
        "outputId": "5fd01617-7210-49f6-af62-d7ed9658c4e6"
      },
      "execution_count": null,
      "outputs": [
        {
          "output_type": "stream",
          "name": "stdout",
          "text": [
            "(tensor([[ 2.0962e-01,  1.4461e-01, -9.5635e-02, -3.6848e-02,  2.6108e-01,\n",
            "          2.6130e-01, -2.0437e-02, -7.3932e-02, -2.5770e-01,  2.3870e-01],\n",
            "        [ 2.0758e-01,  1.4323e-01, -9.4735e-02, -3.6507e-02,  2.5856e-01,\n",
            "          2.5878e-01, -2.0278e-02, -7.3165e-02, -2.5520e-01,  2.3639e-01],\n",
            "        [ 3.8268e-01,  2.6397e-01, -1.7457e-01, -6.7257e-02,  4.7663e-01,\n",
            "          4.7704e-01, -3.7270e-02, -1.3500e-01, -4.7045e-01,  4.3576e-01],\n",
            "        [ 6.8319e-01,  4.7129e-01, -3.1169e-01, -1.2009e-01,  8.5092e-01,\n",
            "          8.5165e-01, -6.6587e-02, -2.4097e-01, -8.3989e-01,  7.7796e-01],\n",
            "        [ 2.1999e-03,  1.5176e-03, -1.0037e-03, -3.8673e-04,  2.7401e-03,\n",
            "          2.7424e-03, -2.1447e-04, -7.7587e-04, -2.7046e-03,  2.5051e-03],\n",
            "        [ 1.0503e-03,  7.2449e-04, -4.7915e-04, -1.8461e-04,  1.3081e-03,\n",
            "          1.3093e-03, -1.0232e-04, -3.7043e-04, -1.2912e-03,  1.1960e-03],\n",
            "        [ 6.2219e-01,  4.2916e-01, -2.8383e-01, -1.0935e-01,  7.7495e-01,\n",
            "          7.7561e-01, -6.0580e-02, -2.1946e-01, -7.6490e-01,  7.0850e-01],\n",
            "        [ 1.1145e+00,  7.6878e-01, -5.0849e-01, -1.9591e-01,  1.3882e+00,\n",
            "          1.3894e+00, -1.0855e-01, -3.9300e-01, -1.3702e+00,  1.2692e+00],\n",
            "        [ 2.2632e-02,  1.5613e-02, -1.0326e-02, -3.9784e-03,  2.8189e-02,\n",
            "          2.8213e-02, -2.2060e-03, -7.9822e-03, -2.7823e-02,  2.5772e-02],\n",
            "        [ 3.1341e-01,  2.1618e-01, -1.4298e-01, -5.5089e-02,  3.9036e-01,\n",
            "          3.9069e-01, -3.0528e-02, -1.1052e-01, -3.8530e-01,  3.5689e-01]]),)\n"
          ]
        }
      ]
    },
    {
      "cell_type": "code",
      "source": [
        "!pip install torchviz\n",
        "from torchviz import make_dot"
      ],
      "metadata": {
        "colab": {
          "base_uri": "https://localhost:8080/"
        },
        "id": "YbMaKmq401oX",
        "outputId": "33a3b5d9-d709-4a3f-871d-49eb7126aa64"
      },
      "execution_count": null,
      "outputs": [
        {
          "output_type": "stream",
          "name": "stdout",
          "text": [
            "Collecting torchviz\n",
            "  Downloading torchviz-0.0.2.tar.gz (4.9 kB)\n",
            "  Preparing metadata (setup.py) ... \u001b[?25l\u001b[?25hdone\n",
            "Requirement already satisfied: torch in /usr/local/lib/python3.10/dist-packages (from torchviz) (2.3.1+cu121)\n",
            "Requirement already satisfied: graphviz in /usr/local/lib/python3.10/dist-packages (from torchviz) (0.20.3)\n",
            "Requirement already satisfied: filelock in /usr/local/lib/python3.10/dist-packages (from torch->torchviz) (3.15.4)\n",
            "Requirement already satisfied: typing-extensions>=4.8.0 in /usr/local/lib/python3.10/dist-packages (from torch->torchviz) (4.12.2)\n",
            "Requirement already satisfied: sympy in /usr/local/lib/python3.10/dist-packages (from torch->torchviz) (1.13.1)\n",
            "Requirement already satisfied: networkx in /usr/local/lib/python3.10/dist-packages (from torch->torchviz) (3.3)\n",
            "Requirement already satisfied: jinja2 in /usr/local/lib/python3.10/dist-packages (from torch->torchviz) (3.1.4)\n",
            "Requirement already satisfied: fsspec in /usr/local/lib/python3.10/dist-packages (from torch->torchviz) (2024.6.1)\n",
            "Collecting nvidia-cuda-nvrtc-cu12==12.1.105 (from torch->torchviz)\n",
            "  Using cached nvidia_cuda_nvrtc_cu12-12.1.105-py3-none-manylinux1_x86_64.whl.metadata (1.5 kB)\n",
            "Collecting nvidia-cuda-runtime-cu12==12.1.105 (from torch->torchviz)\n",
            "  Using cached nvidia_cuda_runtime_cu12-12.1.105-py3-none-manylinux1_x86_64.whl.metadata (1.5 kB)\n",
            "Collecting nvidia-cuda-cupti-cu12==12.1.105 (from torch->torchviz)\n",
            "  Using cached nvidia_cuda_cupti_cu12-12.1.105-py3-none-manylinux1_x86_64.whl.metadata (1.6 kB)\n",
            "Collecting nvidia-cudnn-cu12==8.9.2.26 (from torch->torchviz)\n",
            "  Using cached nvidia_cudnn_cu12-8.9.2.26-py3-none-manylinux1_x86_64.whl.metadata (1.6 kB)\n",
            "Collecting nvidia-cublas-cu12==12.1.3.1 (from torch->torchviz)\n",
            "  Using cached nvidia_cublas_cu12-12.1.3.1-py3-none-manylinux1_x86_64.whl.metadata (1.5 kB)\n",
            "Collecting nvidia-cufft-cu12==11.0.2.54 (from torch->torchviz)\n",
            "  Using cached nvidia_cufft_cu12-11.0.2.54-py3-none-manylinux1_x86_64.whl.metadata (1.5 kB)\n",
            "Collecting nvidia-curand-cu12==10.3.2.106 (from torch->torchviz)\n",
            "  Using cached nvidia_curand_cu12-10.3.2.106-py3-none-manylinux1_x86_64.whl.metadata (1.5 kB)\n",
            "Collecting nvidia-cusolver-cu12==11.4.5.107 (from torch->torchviz)\n",
            "  Using cached nvidia_cusolver_cu12-11.4.5.107-py3-none-manylinux1_x86_64.whl.metadata (1.6 kB)\n",
            "Collecting nvidia-cusparse-cu12==12.1.0.106 (from torch->torchviz)\n",
            "  Using cached nvidia_cusparse_cu12-12.1.0.106-py3-none-manylinux1_x86_64.whl.metadata (1.6 kB)\n",
            "Collecting nvidia-nccl-cu12==2.20.5 (from torch->torchviz)\n",
            "  Using cached nvidia_nccl_cu12-2.20.5-py3-none-manylinux2014_x86_64.whl.metadata (1.8 kB)\n",
            "Collecting nvidia-nvtx-cu12==12.1.105 (from torch->torchviz)\n",
            "  Using cached nvidia_nvtx_cu12-12.1.105-py3-none-manylinux1_x86_64.whl.metadata (1.7 kB)\n",
            "Requirement already satisfied: triton==2.3.1 in /usr/local/lib/python3.10/dist-packages (from torch->torchviz) (2.3.1)\n",
            "Collecting nvidia-nvjitlink-cu12 (from nvidia-cusolver-cu12==11.4.5.107->torch->torchviz)\n",
            "  Using cached nvidia_nvjitlink_cu12-12.6.20-py3-none-manylinux2014_x86_64.whl.metadata (1.5 kB)\n",
            "Requirement already satisfied: MarkupSafe>=2.0 in /usr/local/lib/python3.10/dist-packages (from jinja2->torch->torchviz) (2.1.5)\n",
            "Requirement already satisfied: mpmath<1.4,>=1.1.0 in /usr/local/lib/python3.10/dist-packages (from sympy->torch->torchviz) (1.3.0)\n",
            "Using cached nvidia_cublas_cu12-12.1.3.1-py3-none-manylinux1_x86_64.whl (410.6 MB)\n",
            "Using cached nvidia_cuda_cupti_cu12-12.1.105-py3-none-manylinux1_x86_64.whl (14.1 MB)\n",
            "Using cached nvidia_cuda_nvrtc_cu12-12.1.105-py3-none-manylinux1_x86_64.whl (23.7 MB)\n",
            "Using cached nvidia_cuda_runtime_cu12-12.1.105-py3-none-manylinux1_x86_64.whl (823 kB)\n",
            "Using cached nvidia_cudnn_cu12-8.9.2.26-py3-none-manylinux1_x86_64.whl (731.7 MB)\n",
            "Using cached nvidia_cufft_cu12-11.0.2.54-py3-none-manylinux1_x86_64.whl (121.6 MB)\n",
            "Using cached nvidia_curand_cu12-10.3.2.106-py3-none-manylinux1_x86_64.whl (56.5 MB)\n",
            "Using cached nvidia_cusolver_cu12-11.4.5.107-py3-none-manylinux1_x86_64.whl (124.2 MB)\n",
            "Using cached nvidia_cusparse_cu12-12.1.0.106-py3-none-manylinux1_x86_64.whl (196.0 MB)\n",
            "Using cached nvidia_nccl_cu12-2.20.5-py3-none-manylinux2014_x86_64.whl (176.2 MB)\n",
            "Using cached nvidia_nvtx_cu12-12.1.105-py3-none-manylinux1_x86_64.whl (99 kB)\n",
            "Using cached nvidia_nvjitlink_cu12-12.6.20-py3-none-manylinux2014_x86_64.whl (19.7 MB)\n",
            "Building wheels for collected packages: torchviz\n",
            "  Building wheel for torchviz (setup.py) ... \u001b[?25l\u001b[?25hdone\n",
            "  Created wheel for torchviz: filename=torchviz-0.0.2-py3-none-any.whl size=4132 sha256=6e581701355143b97f90c027fc3ebba620a4027e574bf343d4e774ec6ac4e202\n",
            "  Stored in directory: /root/.cache/pip/wheels/4c/97/88/a02973217949e0db0c9f4346d154085f4725f99c4f15a87094\n",
            "Successfully built torchviz\n",
            "Installing collected packages: nvidia-nvtx-cu12, nvidia-nvjitlink-cu12, nvidia-nccl-cu12, nvidia-curand-cu12, nvidia-cufft-cu12, nvidia-cuda-runtime-cu12, nvidia-cuda-nvrtc-cu12, nvidia-cuda-cupti-cu12, nvidia-cublas-cu12, nvidia-cusparse-cu12, nvidia-cudnn-cu12, nvidia-cusolver-cu12, torchviz\n",
            "Successfully installed nvidia-cublas-cu12-12.1.3.1 nvidia-cuda-cupti-cu12-12.1.105 nvidia-cuda-nvrtc-cu12-12.1.105 nvidia-cuda-runtime-cu12-12.1.105 nvidia-cudnn-cu12-8.9.2.26 nvidia-cufft-cu12-11.0.2.54 nvidia-curand-cu12-10.3.2.106 nvidia-cusolver-cu12-11.4.5.107 nvidia-cusparse-cu12-12.1.0.106 nvidia-nccl-cu12-2.20.5 nvidia-nvjitlink-cu12-12.6.20 nvidia-nvtx-cu12-12.1.105 torchviz-0.0.2\n"
          ]
        }
      ]
    },
    {
      "cell_type": "code",
      "source": [
        "# Visualizing the computational graph of the network above\n",
        "\n",
        "graph = make_dot(output.sum(), params={'W': W, 'x': x})\n",
        "graph.attr('node', shape='record', style='filled', fillcolor='lightblue', fontname='Helvetica', fontsize='10')\n",
        "graph.node_attr.update(fontsize='12')\n",
        "\n",
        "graph"
      ],
      "metadata": {
        "colab": {
          "base_uri": "https://localhost:8080/",
          "height": 1000
        },
        "id": "NFZ-wDFRltAL",
        "outputId": "de9ccd43-2e8e-4dbe-a6a0-86373897c3c0"
      },
      "execution_count": null,
      "outputs": [
        {
          "output_type": "execute_result",
          "data": {
            "image/svg+xml": "<?xml version=\"1.0\" encoding=\"UTF-8\" standalone=\"no\"?>\n<!DOCTYPE svg PUBLIC \"-//W3C//DTD SVG 1.1//EN\"\n \"http://www.w3.org/Graphics/SVG/1.1/DTD/svg11.dtd\">\n<!-- Generated by graphviz version 2.43.0 (0)\n -->\n<!-- Title: %3 Pages: 1 -->\n<svg width=\"1424pt\" height=\"3294pt\"\n viewBox=\"0.00 0.00 1423.54 3294.00\" xmlns=\"http://www.w3.org/2000/svg\" xmlns:xlink=\"http://www.w3.org/1999/xlink\">\n<g id=\"graph0\" class=\"graph\" transform=\"scale(0.5 0.5) rotate(0) translate(4 6563)\">\n<title>%3</title>\n<polygon fill=\"white\" stroke=\"transparent\" points=\"-4,4 -4,-6563 2834,-6563 2834,4 -4,4\"/>\n<!-- 139163179746144 -->\n<g id=\"node1\" class=\"node\">\n<title>139163179746144</title>\n<polygon fill=\"#caff70\" stroke=\"black\" points=\"2149,-35 2095,-35 2095,0 2149,0 2149,-35\"/>\n<text text-anchor=\"middle\" x=\"2122\" y=\"-7.4\" font-family=\"monospace\" font-size=\"12.00\"> ()</text>\n</g>\n<!-- 139163174012240 -->\n<g id=\"node2\" class=\"node\">\n<title>139163174012240</title>\n<polygon fill=\"lightgrey\" stroke=\"black\" points=\"2175.5,-92 2068.5,-92 2068.5,-71 2175.5,-71 2175.5,-92\"/>\n<text text-anchor=\"middle\" x=\"2122\" y=\"-78.4\" font-family=\"monospace\" font-size=\"12.00\">SumBackward0</text>\n</g>\n<!-- 139163174012240&#45;&gt;139163179746144 -->\n<g id=\"edge188\" class=\"edge\">\n<title>139163174012240&#45;&gt;139163179746144</title>\n<path fill=\"none\" stroke=\"black\" d=\"M2122,-70.81C2122,-63.96 2122,-54.41 2122,-45.34\"/>\n<polygon fill=\"black\" stroke=\"black\" points=\"2125.5,-45.11 2122,-35.11 2118.5,-45.11 2125.5,-45.11\"/>\n</g>\n<!-- 139163174012816 -->\n<g id=\"node3\" class=\"node\">\n<title>139163174012816</title>\n<polygon fill=\"lightgrey\" stroke=\"black\" points=\"2179,-149 2065,-149 2065,-128 2179,-128 2179,-149\"/>\n<text text-anchor=\"middle\" x=\"2122\" y=\"-135.4\" font-family=\"monospace\" font-size=\"12.00\">TanhBackward0</text>\n</g>\n<!-- 139163174012816&#45;&gt;139163174012240 -->\n<g id=\"edge1\" class=\"edge\">\n<title>139163174012816&#45;&gt;139163174012240</title>\n<path fill=\"none\" stroke=\"black\" d=\"M2122,-127.92C2122,-120.91 2122,-111.14 2122,-102.47\"/>\n<polygon fill=\"black\" stroke=\"black\" points=\"2125.5,-102.34 2122,-92.34 2118.5,-102.34 2125.5,-102.34\"/>\n</g>\n<!-- 139163174012096 -->\n<g id=\"node4\" class=\"node\">\n<title>139163174012096</title>\n<polygon fill=\"lightgrey\" stroke=\"black\" points=\"2175.5,-206 2068.5,-206 2068.5,-185 2175.5,-185 2175.5,-206\"/>\n<text text-anchor=\"middle\" x=\"2122\" y=\"-192.4\" font-family=\"monospace\" font-size=\"12.00\">AddBackward0</text>\n</g>\n<!-- 139163174012096&#45;&gt;139163174012816 -->\n<g id=\"edge2\" class=\"edge\">\n<title>139163174012096&#45;&gt;139163174012816</title>\n<path fill=\"none\" stroke=\"black\" d=\"M2122,-184.92C2122,-177.91 2122,-168.14 2122,-159.47\"/>\n<polygon fill=\"black\" stroke=\"black\" points=\"2125.5,-159.34 2122,-149.34 2118.5,-159.34 2125.5,-159.34\"/>\n</g>\n<!-- 139163174012144 -->\n<g id=\"node5\" class=\"node\">\n<title>139163174012144</title>\n<polygon fill=\"lightgrey\" stroke=\"black\" points=\"2129.5,-263 2030.5,-263 2030.5,-242 2129.5,-242 2129.5,-263\"/>\n<text text-anchor=\"middle\" x=\"2080\" y=\"-249.4\" font-family=\"monospace\" font-size=\"12.00\">MvBackward0</text>\n</g>\n<!-- 139163174012144&#45;&gt;139163174012096 -->\n<g id=\"edge3\" class=\"edge\">\n<title>139163174012144&#45;&gt;139163174012096</title>\n<path fill=\"none\" stroke=\"black\" d=\"M2087.32,-241.92C2093.09,-234.36 2101.3,-223.61 2108.28,-214.46\"/>\n<polygon fill=\"black\" stroke=\"black\" points=\"2111.2,-216.41 2114.49,-206.34 2105.63,-212.16 2111.2,-216.41\"/>\n</g>\n<!-- 139163174011760 -->\n<g id=\"node6\" class=\"node\">\n<title>139163174011760</title>\n<polygon fill=\"lightgrey\" stroke=\"black\" points=\"745,-6482.5 623,-6482.5 623,-6461.5 745,-6461.5 745,-6482.5\"/>\n<text text-anchor=\"middle\" x=\"684\" y=\"-6468.9\" font-family=\"monospace\" font-size=\"12.00\">AccumulateGrad</text>\n</g>\n<!-- 139163174011760&#45;&gt;139163174012144 -->\n<g id=\"edge4\" class=\"edge\">\n<title>139163174011760&#45;&gt;139163174012144</title>\n<path fill=\"none\" stroke=\"black\" d=\"M622.76,-6471.82C484.71,-6472.73 153.63,-6469.42 56,-6419 21.67,-6401.27 0,-6391.14 0,-6352.5 0,-6352.5 0,-6352.5 0,-365.5 0,-261.51 1679.75,-253.97 2020.23,-253.51\"/>\n<polygon fill=\"black\" stroke=\"black\" points=\"2020.39,-257.01 2030.38,-253.5 2020.38,-250.01 2020.39,-257.01\"/>\n</g>\n<!-- 139163174011520 -->\n<g id=\"node10\" class=\"node\">\n<title>139163174011520</title>\n<polygon fill=\"lightgrey\" stroke=\"black\" points=\"2128.5,-434 2029.5,-434 2029.5,-413 2128.5,-413 2128.5,-434\"/>\n<text text-anchor=\"middle\" x=\"2079\" y=\"-420.4\" font-family=\"monospace\" font-size=\"12.00\">MvBackward0</text>\n</g>\n<!-- 139163174011760&#45;&gt;139163174011520 -->\n<g id=\"edge9\" class=\"edge\">\n<title>139163174011760&#45;&gt;139163174011520</title>\n<path fill=\"none\" stroke=\"black\" d=\"M622.78,-6471.43C490.94,-6471.44 184.78,-6466.19 94,-6419 59.72,-6401.18 38,-6391.14 38,-6352.5 38,-6352.5 38,-6352.5 38,-536.5 38,-434.56 1682.71,-425.39 2019.27,-424.58\"/>\n<polygon fill=\"black\" stroke=\"black\" points=\"2019.32,-428.08 2029.31,-424.55 2019.3,-421.08 2019.32,-428.08\"/>\n</g>\n<!-- 139163174010992 -->\n<g id=\"node13\" class=\"node\">\n<title>139163174010992</title>\n<polygon fill=\"lightgrey\" stroke=\"black\" points=\"1796.5,-605 1697.5,-605 1697.5,-584 1796.5,-584 1796.5,-605\"/>\n<text text-anchor=\"middle\" x=\"1747\" y=\"-591.4\" font-family=\"monospace\" font-size=\"12.00\">MvBackward0</text>\n</g>\n<!-- 139163174011760&#45;&gt;139163174010992 -->\n<g id=\"edge13\" class=\"edge\">\n<title>139163174011760&#45;&gt;139163174010992</title>\n<path fill=\"none\" stroke=\"black\" d=\"M622.94,-6471C497.6,-6470.07 215.99,-6462.99 132,-6419 97.77,-6401.07 76,-6391.14 76,-6352.5 76,-6352.5 76,-6352.5 76,-707.5 76,-625.02 1389.09,-600.76 1687.27,-596.31\"/>\n<polygon fill=\"black\" stroke=\"black\" points=\"1687.5,-599.81 1697.44,-596.16 1687.39,-592.81 1687.5,-599.81\"/>\n</g>\n<!-- 139163174011280 -->\n<g id=\"node16\" class=\"node\">\n<title>139163174011280</title>\n<polygon fill=\"lightgrey\" stroke=\"black\" points=\"1630.5,-776 1531.5,-776 1531.5,-755 1630.5,-755 1630.5,-776\"/>\n<text text-anchor=\"middle\" x=\"1581\" y=\"-762.4\" font-family=\"monospace\" font-size=\"12.00\">MvBackward0</text>\n</g>\n<!-- 139163174011760&#45;&gt;139163174011280 -->\n<g id=\"edge17\" class=\"edge\">\n<title>139163174011760&#45;&gt;139163174011280</title>\n<path fill=\"none\" stroke=\"black\" d=\"M622.61,-6470.49C503.76,-6468.59 247.13,-6459.73 170,-6419 135.83,-6400.96 114,-6391.14 114,-6352.5 114,-6352.5 114,-6352.5 114,-878.5 114,-806.71 1245.8,-774.62 1521.16,-767.88\"/>\n<polygon fill=\"black\" stroke=\"black\" points=\"1521.44,-771.38 1531.35,-767.63 1521.27,-764.38 1521.44,-771.38\"/>\n</g>\n<!-- 139163174013056 -->\n<g id=\"node19\" class=\"node\">\n<title>139163174013056</title>\n<polygon fill=\"lightgrey\" stroke=\"black\" points=\"1547.5,-947 1448.5,-947 1448.5,-926 1547.5,-926 1547.5,-947\"/>\n<text text-anchor=\"middle\" x=\"1498\" y=\"-933.4\" font-family=\"monospace\" font-size=\"12.00\">MvBackward0</text>\n</g>\n<!-- 139163174011760&#45;&gt;139163174013056 -->\n<g id=\"edge21\" class=\"edge\">\n<title>139163174011760&#45;&gt;139163174013056</title>\n<path fill=\"none\" stroke=\"black\" d=\"M622.83,-6469.92C510.96,-6467.02 278.42,-6456.55 208,-6419 173.9,-6400.82 152,-6391.14 152,-6352.5 152,-6352.5 152,-6352.5 152,-1049.5 152,-983.99 1178.06,-947.49 1438.48,-939.29\"/>\n<polygon fill=\"black\" stroke=\"black\" points=\"1438.61,-942.79 1448.5,-938.97 1438.39,-935.79 1438.61,-942.79\"/>\n</g>\n<!-- 139163174013392 -->\n<g id=\"node22\" class=\"node\">\n<title>139163174013392</title>\n<polygon fill=\"lightgrey\" stroke=\"black\" points=\"1505.5,-1118 1406.5,-1118 1406.5,-1097 1505.5,-1097 1505.5,-1118\"/>\n<text text-anchor=\"middle\" x=\"1456\" y=\"-1104.4\" font-family=\"monospace\" font-size=\"12.00\">MvBackward0</text>\n</g>\n<!-- 139163174011760&#45;&gt;139163174013392 -->\n<g id=\"edge25\" class=\"edge\">\n<title>139163174011760&#45;&gt;139163174013392</title>\n<path fill=\"none\" stroke=\"black\" d=\"M622.79,-6469.24C518.08,-6465.32 309.69,-6453.35 246,-6419 211.99,-6400.66 190,-6391.14 190,-6352.5 190,-6352.5 190,-6352.5 190,-1220.5 190,-1159.15 1145.63,-1119.86 1396.36,-1110.61\"/>\n<polygon fill=\"black\" stroke=\"black\" points=\"1396.51,-1114.11 1406.37,-1110.24 1396.25,-1107.11 1396.51,-1114.11\"/>\n</g>\n<!-- 139163174013728 -->\n<g id=\"node25\" class=\"node\">\n<title>139163174013728</title>\n<polygon fill=\"lightgrey\" stroke=\"black\" points=\"1484.5,-1289 1385.5,-1289 1385.5,-1268 1484.5,-1268 1484.5,-1289\"/>\n<text text-anchor=\"middle\" x=\"1435\" y=\"-1275.4\" font-family=\"monospace\" font-size=\"12.00\">MvBackward0</text>\n</g>\n<!-- 139163174011760&#45;&gt;139163174013728 -->\n<g id=\"edge29\" class=\"edge\">\n<title>139163174011760&#45;&gt;139163174013728</title>\n<path fill=\"none\" stroke=\"black\" d=\"M622.67,-6468.43C525.42,-6463.46 341,-6450.14 284,-6419 250.09,-6400.47 228,-6391.14 228,-6352.5 228,-6352.5 228,-6352.5 228,-1391.5 228,-1333.21 1132.15,-1291.92 1375.37,-1281.87\"/>\n<polygon fill=\"black\" stroke=\"black\" points=\"1375.59,-1285.36 1385.43,-1281.46 1375.3,-1278.37 1375.59,-1285.36\"/>\n</g>\n<!-- 139163174014064 -->\n<g id=\"node28\" class=\"node\">\n<title>139163174014064</title>\n<polygon fill=\"lightgrey\" stroke=\"black\" points=\"1474.5,-1460 1375.5,-1460 1375.5,-1439 1474.5,-1439 1474.5,-1460\"/>\n<text text-anchor=\"middle\" x=\"1425\" y=\"-1446.4\" font-family=\"monospace\" font-size=\"12.00\">MvBackward0</text>\n</g>\n<!-- 139163174011760&#45;&gt;139163174014064 -->\n<g id=\"edge33\" class=\"edge\">\n<title>139163174011760&#45;&gt;139163174014064</title>\n<path fill=\"none\" stroke=\"black\" d=\"M622.67,-6467.46C533.28,-6461.42 372.38,-6446.97 322,-6419 288.22,-6400.25 266,-6391.14 266,-6352.5 266,-6352.5 266,-6352.5 266,-1562.5 266,-1450.95 1127.55,-1448.5 1365.03,-1449.94\"/>\n<polygon fill=\"black\" stroke=\"black\" points=\"1365.18,-1453.44 1375.2,-1450.01 1365.22,-1446.44 1365.18,-1453.44\"/>\n</g>\n<!-- 139163174014400 -->\n<g id=\"node31\" class=\"node\">\n<title>139163174014400</title>\n<polygon fill=\"lightgrey\" stroke=\"black\" points=\"1469.5,-1631 1370.5,-1631 1370.5,-1610 1469.5,-1610 1469.5,-1631\"/>\n<text text-anchor=\"middle\" x=\"1420\" y=\"-1617.4\" font-family=\"monospace\" font-size=\"12.00\">MvBackward0</text>\n</g>\n<!-- 139163174011760&#45;&gt;139163174014400 -->\n<g id=\"edge37\" class=\"edge\">\n<title>139163174011760&#45;&gt;139163174014400</title>\n<path fill=\"none\" stroke=\"black\" d=\"M622.8,-6466.37C541.46,-6459.35 402.91,-6444.09 359,-6419 325.7,-6399.97 304,-6390.85 304,-6352.5 304,-6352.5 304,-6352.5 304,-1733.5 304,-1626.41 1128.15,-1620.66 1359.98,-1621.17\"/>\n<polygon fill=\"black\" stroke=\"black\" points=\"1360.23,-1624.67 1370.24,-1621.2 1360.25,-1617.67 1360.23,-1624.67\"/>\n</g>\n<!-- 139163174014736 -->\n<g id=\"node34\" class=\"node\">\n<title>139163174014736</title>\n<polygon fill=\"lightgrey\" stroke=\"black\" points=\"1466.5,-1802 1367.5,-1802 1367.5,-1781 1466.5,-1781 1466.5,-1802\"/>\n<text text-anchor=\"middle\" x=\"1417\" y=\"-1788.4\" font-family=\"monospace\" font-size=\"12.00\">MvBackward0</text>\n</g>\n<!-- 139163174011760&#45;&gt;139163174014736 -->\n<g id=\"edge41\" class=\"edge\">\n<title>139163174011760&#45;&gt;139163174014736</title>\n<path fill=\"none\" stroke=\"black\" d=\"M622.84,-6464.99C550.02,-6456.97 433.51,-6441.16 396,-6419 363.22,-6399.63 342,-6390.57 342,-6352.5 342,-6352.5 342,-6352.5 342,-1904.5 342,-1801.59 1131.43,-1792.81 1357.3,-1792.4\"/>\n<polygon fill=\"black\" stroke=\"black\" points=\"1357.31,-1795.9 1367.31,-1792.39 1357.3,-1788.9 1357.31,-1795.9\"/>\n</g>\n<!-- 139163174015072 -->\n<g id=\"node37\" class=\"node\">\n<title>139163174015072</title>\n<polygon fill=\"lightgrey\" stroke=\"black\" points=\"1465.5,-1973 1366.5,-1973 1366.5,-1952 1465.5,-1952 1465.5,-1973\"/>\n<text text-anchor=\"middle\" x=\"1416\" y=\"-1959.4\" font-family=\"monospace\" font-size=\"12.00\">MvBackward0</text>\n</g>\n<!-- 139163174011760&#45;&gt;139163174015072 -->\n<g id=\"edge45\" class=\"edge\">\n<title>139163174011760&#45;&gt;139163174015072</title>\n<path fill=\"none\" stroke=\"black\" d=\"M622.74,-6470.65C568.01,-6467.67 487.64,-6456.46 429,-6419 398.06,-6399.24 380,-6389.21 380,-6352.5 380,-6352.5 380,-6352.5 380,-2075.5 380,-1976.61 1135.78,-1964.94 1356.29,-1963.64\"/>\n<polygon fill=\"black\" stroke=\"black\" points=\"1356.4,-1967.14 1366.38,-1963.59 1356.36,-1960.14 1356.4,-1967.14\"/>\n</g>\n<!-- 139163174015408 -->\n<g id=\"node40\" class=\"node\">\n<title>139163174015408</title>\n<polygon fill=\"lightgrey\" stroke=\"black\" points=\"1464.5,-2144 1365.5,-2144 1365.5,-2123 1464.5,-2123 1464.5,-2144\"/>\n<text text-anchor=\"middle\" x=\"1415\" y=\"-2130.4\" font-family=\"monospace\" font-size=\"12.00\">MvBackward0</text>\n</g>\n<!-- 139163174011760&#45;&gt;139163174015408 -->\n<g id=\"edge49\" class=\"edge\">\n<title>139163174011760&#45;&gt;139163174015408</title>\n<path fill=\"none\" stroke=\"black\" d=\"M622.97,-6469.63C544.44,-6464.25 418,-6441.73 418,-6352.5 418,-6352.5 418,-6352.5 418,-2246.5 418,-2151.66 1139.71,-2137.13 1355.05,-2134.9\"/>\n<polygon fill=\"black\" stroke=\"black\" points=\"1355.25,-2138.4 1365.22,-2134.8 1355.18,-2131.4 1355.25,-2138.4\"/>\n</g>\n<!-- 139163174015744 -->\n<g id=\"node43\" class=\"node\">\n<title>139163174015744</title>\n<polygon fill=\"lightgrey\" stroke=\"black\" points=\"1464.5,-2315 1365.5,-2315 1365.5,-2294 1464.5,-2294 1464.5,-2315\"/>\n<text text-anchor=\"middle\" x=\"1415\" y=\"-2301.4\" font-family=\"monospace\" font-size=\"12.00\">MvBackward0</text>\n</g>\n<!-- 139163174011760&#45;&gt;139163174015744 -->\n<g id=\"edge53\" class=\"edge\">\n<title>139163174011760&#45;&gt;139163174015744</title>\n<path fill=\"none\" stroke=\"black\" d=\"M622.9,-6465.37C555.36,-6455.39 456,-6427.89 456,-6352.5 456,-6352.5 456,-6352.5 456,-2417.5 456,-2326.53 1145.6,-2309.3 1355.26,-2306.17\"/>\n<polygon fill=\"black\" stroke=\"black\" points=\"1355.51,-2309.67 1365.46,-2306.02 1355.41,-2302.67 1355.51,-2309.67\"/>\n</g>\n<!-- 139163174016080 -->\n<g id=\"node46\" class=\"node\">\n<title>139163174016080</title>\n<polygon fill=\"lightgrey\" stroke=\"black\" points=\"1464.5,-2486 1365.5,-2486 1365.5,-2465 1464.5,-2465 1464.5,-2486\"/>\n<text text-anchor=\"middle\" x=\"1415\" y=\"-2472.4\" font-family=\"monospace\" font-size=\"12.00\">MvBackward0</text>\n</g>\n<!-- 139163174011760&#45;&gt;139163174016080 -->\n<g id=\"edge57\" class=\"edge\">\n<title>139163174011760&#45;&gt;139163174016080</title>\n<path fill=\"none\" stroke=\"black\" d=\"M630.82,-6461.47C574.61,-6447.98 494,-6417.33 494,-6352.5 494,-6352.5 494,-6352.5 494,-2588.5 494,-2501.42 1151.13,-2481.54 1355.25,-2477.46\"/>\n<polygon fill=\"black\" stroke=\"black\" points=\"1355.55,-2480.96 1365.48,-2477.27 1355.42,-2473.96 1355.55,-2480.96\"/>\n</g>\n<!-- 139163174016416 -->\n<g id=\"node49\" class=\"node\">\n<title>139163174016416</title>\n<polygon fill=\"lightgrey\" stroke=\"black\" points=\"1464.5,-2657 1365.5,-2657 1365.5,-2636 1464.5,-2636 1464.5,-2657\"/>\n<text text-anchor=\"middle\" x=\"1415\" y=\"-2643.4\" font-family=\"monospace\" font-size=\"12.00\">MvBackward0</text>\n</g>\n<!-- 139163174011760&#45;&gt;139163174016416 -->\n<g id=\"edge61\" class=\"edge\">\n<title>139163174011760&#45;&gt;139163174016416</title>\n<path fill=\"none\" stroke=\"black\" d=\"M650.64,-6461.42C605.9,-6446.28 532,-6412.23 532,-6352.5 532,-6352.5 532,-6352.5 532,-2759.5 532,-2676.34 1156.4,-2653.84 1355.07,-2648.79\"/>\n<polygon fill=\"black\" stroke=\"black\" points=\"1355.41,-2652.28 1365.32,-2648.53 1355.23,-2645.28 1355.41,-2652.28\"/>\n</g>\n<!-- 139163174016752 -->\n<g id=\"node52\" class=\"node\">\n<title>139163174016752</title>\n<polygon fill=\"lightgrey\" stroke=\"black\" points=\"1464.5,-2828 1365.5,-2828 1365.5,-2807 1464.5,-2807 1464.5,-2828\"/>\n<text text-anchor=\"middle\" x=\"1415\" y=\"-2814.4\" font-family=\"monospace\" font-size=\"12.00\">MvBackward0</text>\n</g>\n<!-- 139163174011760&#45;&gt;139163174016752 -->\n<g id=\"edge65\" class=\"edge\">\n<title>139163174011760&#45;&gt;139163174016752</title>\n<path fill=\"none\" stroke=\"black\" d=\"M663.62,-6461.45C630.83,-6444.51 570,-6405.88 570,-6352.5 570,-6352.5 570,-6352.5 570,-2930.5 570,-2851.21 1162.17,-2826.19 1355.06,-2820.14\"/>\n<polygon fill=\"black\" stroke=\"black\" points=\"1355.41,-2823.63 1365.3,-2819.82 1355.19,-2816.63 1355.41,-2823.63\"/>\n</g>\n<!-- 139163174017088 -->\n<g id=\"node55\" class=\"node\">\n<title>139163174017088</title>\n<polygon fill=\"lightgrey\" stroke=\"black\" points=\"1464.5,-2999 1365.5,-2999 1365.5,-2978 1464.5,-2978 1464.5,-2999\"/>\n<text text-anchor=\"middle\" x=\"1415\" y=\"-2985.4\" font-family=\"monospace\" font-size=\"12.00\">MvBackward0</text>\n</g>\n<!-- 139163174011760&#45;&gt;139163174017088 -->\n<g id=\"edge69\" class=\"edge\">\n<title>139163174011760&#45;&gt;139163174017088</title>\n<path fill=\"none\" stroke=\"black\" d=\"M672.12,-6461.28C650.75,-6442.62 608,-6399.43 608,-6352.5 608,-6352.5 608,-6352.5 608,-3101.5 608,-3026.06 1168.46,-2998.57 1355.24,-2991.51\"/>\n<polygon fill=\"black\" stroke=\"black\" points=\"1355.57,-2995 1365.43,-2991.13 1355.31,-2988 1355.57,-2995\"/>\n</g>\n<!-- 139163174017424 -->\n<g id=\"node58\" class=\"node\">\n<title>139163174017424</title>\n<polygon fill=\"lightgrey\" stroke=\"black\" points=\"1464.5,-3170 1365.5,-3170 1365.5,-3149 1464.5,-3149 1464.5,-3170\"/>\n<text text-anchor=\"middle\" x=\"1415\" y=\"-3156.4\" font-family=\"monospace\" font-size=\"12.00\">MvBackward0</text>\n</g>\n<!-- 139163174011760&#45;&gt;139163174017424 -->\n<g id=\"edge73\" class=\"edge\">\n<title>139163174011760&#45;&gt;139163174017424</title>\n<path fill=\"none\" stroke=\"black\" d=\"M678.56,-6461.2C668.05,-6441.33 646,-6394.63 646,-6352.5 646,-6352.5 646,-6352.5 646,-3272.5 646,-3200.91 1174.64,-3171.04 1355.31,-3162.92\"/>\n<polygon fill=\"black\" stroke=\"black\" points=\"1355.6,-3166.41 1365.43,-3162.47 1355.29,-3159.42 1355.6,-3166.41\"/>\n</g>\n<!-- 139163174017760 -->\n<g id=\"node61\" class=\"node\">\n<title>139163174017760</title>\n<polygon fill=\"lightgrey\" stroke=\"black\" points=\"1464.5,-3341 1365.5,-3341 1365.5,-3320 1464.5,-3320 1464.5,-3341\"/>\n<text text-anchor=\"middle\" x=\"1415\" y=\"-3327.4\" font-family=\"monospace\" font-size=\"12.00\">MvBackward0</text>\n</g>\n<!-- 139163174011760&#45;&gt;139163174017760 -->\n<g id=\"edge77\" class=\"edge\">\n<title>139163174011760&#45;&gt;139163174017760</title>\n<path fill=\"none\" stroke=\"black\" d=\"M684,-6461.48C684,-6441.35 684,-6393.03 684,-6352.5 684,-6352.5 684,-6352.5 684,-3443.5 684,-3375.76 1180.81,-3343.59 1355.29,-3334.38\"/>\n<polygon fill=\"black\" stroke=\"black\" points=\"1355.53,-3337.87 1365.33,-3333.86 1355.16,-3330.88 1355.53,-3337.87\"/>\n</g>\n<!-- 139163174018096 -->\n<g id=\"node64\" class=\"node\">\n<title>139163174018096</title>\n<polygon fill=\"lightgrey\" stroke=\"black\" points=\"1464.5,-3512 1365.5,-3512 1365.5,-3491 1464.5,-3491 1464.5,-3512\"/>\n<text text-anchor=\"middle\" x=\"1415\" y=\"-3498.4\" font-family=\"monospace\" font-size=\"12.00\">MvBackward0</text>\n</g>\n<!-- 139163174011760&#45;&gt;139163174018096 -->\n<g id=\"edge81\" class=\"edge\">\n<title>139163174011760&#45;&gt;139163174018096</title>\n<path fill=\"none\" stroke=\"black\" d=\"M689.44,-6461.2C699.95,-6441.33 722,-6394.63 722,-6352.5 722,-6352.5 722,-6352.5 722,-3614.5 722,-3550.6 1187.15,-3516.23 1355.28,-3505.89\"/>\n<polygon fill=\"black\" stroke=\"black\" points=\"1355.67,-3509.37 1365.44,-3505.27 1355.25,-3502.39 1355.67,-3509.37\"/>\n</g>\n<!-- 139163174018432 -->\n<g id=\"node67\" class=\"node\">\n<title>139163174018432</title>\n<polygon fill=\"lightgrey\" stroke=\"black\" points=\"1464.5,-3683 1365.5,-3683 1365.5,-3662 1464.5,-3662 1464.5,-3683\"/>\n<text text-anchor=\"middle\" x=\"1415\" y=\"-3669.4\" font-family=\"monospace\" font-size=\"12.00\">MvBackward0</text>\n</g>\n<!-- 139163174011760&#45;&gt;139163174018432 -->\n<g id=\"edge85\" class=\"edge\">\n<title>139163174011760&#45;&gt;139163174018432</title>\n<path fill=\"none\" stroke=\"black\" d=\"M696.27,-6461.46C707.91,-6451.84 725.18,-6436.03 736,-6419 752.85,-6392.48 760,-6383.92 760,-6352.5 760,-6352.5 760,-6352.5 760,-3785.5 760,-3725.46 1193.15,-3689 1354.97,-3677.48\"/>\n<polygon fill=\"black\" stroke=\"black\" points=\"1355.5,-3680.95 1365.23,-3676.76 1355.01,-3673.97 1355.5,-3680.95\"/>\n</g>\n<!-- 139163174018768 -->\n<g id=\"node70\" class=\"node\">\n<title>139163174018768</title>\n<polygon fill=\"lightgrey\" stroke=\"black\" points=\"1464.5,-3854 1365.5,-3854 1365.5,-3833 1464.5,-3833 1464.5,-3854\"/>\n<text text-anchor=\"middle\" x=\"1415\" y=\"-3840.4\" font-family=\"monospace\" font-size=\"12.00\">MvBackward0</text>\n</g>\n<!-- 139163174011760&#45;&gt;139163174018768 -->\n<g id=\"edge89\" class=\"edge\">\n<title>139163174011760&#45;&gt;139163174018768</title>\n<path fill=\"none\" stroke=\"black\" d=\"M710.62,-6461.47C730.57,-6453.09 757.21,-6439.07 774,-6419 794.16,-6394.9 798,-6383.92 798,-6352.5 798,-6352.5 798,-6352.5 798,-3956.5 798,-3900.26 1199.96,-3861.84 1355,-3849.12\"/>\n<polygon fill=\"black\" stroke=\"black\" points=\"1355.61,-3852.58 1365.29,-3848.28 1355.04,-3845.6 1355.61,-3852.58\"/>\n</g>\n<!-- 139163174019104 -->\n<g id=\"node73\" class=\"node\">\n<title>139163174019104</title>\n<polygon fill=\"lightgrey\" stroke=\"black\" points=\"1464.5,-4025 1365.5,-4025 1365.5,-4004 1464.5,-4004 1464.5,-4025\"/>\n<text text-anchor=\"middle\" x=\"1415\" y=\"-4011.4\" font-family=\"monospace\" font-size=\"12.00\">MvBackward0</text>\n</g>\n<!-- 139163174011760&#45;&gt;139163174019104 -->\n<g id=\"edge93\" class=\"edge\">\n<title>139163174011760&#45;&gt;139163174019104</title>\n<path fill=\"none\" stroke=\"black\" d=\"M732.67,-6461.42C759.22,-6453.93 790.89,-6440.96 812,-6419 833.77,-6396.35 836,-6383.92 836,-6352.5 836,-6352.5 836,-6352.5 836,-4127.5 836,-4022.58 1207.12,-4013.87 1355.12,-4014.57\"/>\n<polygon fill=\"black\" stroke=\"black\" points=\"1355.36,-4018.07 1365.38,-4014.63 1355.41,-4011.07 1355.36,-4018.07\"/>\n</g>\n<!-- 139163174019440 -->\n<g id=\"node76\" class=\"node\">\n<title>139163174019440</title>\n<polygon fill=\"lightgrey\" stroke=\"black\" points=\"1464.5,-4196 1365.5,-4196 1365.5,-4175 1464.5,-4175 1464.5,-4196\"/>\n<text text-anchor=\"middle\" x=\"1415\" y=\"-4182.4\" font-family=\"monospace\" font-size=\"12.00\">MvBackward0</text>\n</g>\n<!-- 139163174011760&#45;&gt;139163174019440 -->\n<g id=\"edge97\" class=\"edge\">\n<title>139163174011760&#45;&gt;139163174019440</title>\n<path fill=\"none\" stroke=\"black\" d=\"M745.26,-6465.2C779.94,-6458.95 821.87,-6445.95 850,-6419 872.69,-6397.26 874,-6383.92 874,-6352.5 874,-6352.5 874,-6352.5 874,-4298.5 874,-4201.18 1213.92,-4187.77 1354.87,-4186.4\"/>\n<polygon fill=\"black\" stroke=\"black\" points=\"1355.1,-4189.9 1365.07,-4186.32 1355.05,-4182.9 1355.1,-4189.9\"/>\n</g>\n<!-- 139163174019776 -->\n<g id=\"node79\" class=\"node\">\n<title>139163174019776</title>\n<polygon fill=\"lightgrey\" stroke=\"black\" points=\"1464.5,-4367 1365.5,-4367 1365.5,-4346 1464.5,-4346 1464.5,-4367\"/>\n<text text-anchor=\"middle\" x=\"1415\" y=\"-4353.4\" font-family=\"monospace\" font-size=\"12.00\">MvBackward0</text>\n</g>\n<!-- 139163174011760&#45;&gt;139163174019776 -->\n<g id=\"edge101\" class=\"edge\">\n<title>139163174011760&#45;&gt;139163174019776</title>\n<path fill=\"none\" stroke=\"black\" d=\"M745.06,-6470.12C789.77,-6466.32 849.16,-6454.25 888,-6419 911.27,-6397.88 912,-6383.92 912,-6352.5 912,-6352.5 912,-6352.5 912,-4469.5 912,-4379.58 1222.13,-4361.82 1355.35,-4358.34\"/>\n<polygon fill=\"black\" stroke=\"black\" points=\"1355.48,-4361.83 1365.39,-4358.09 1355.31,-4354.84 1355.48,-4361.83\"/>\n</g>\n<!-- 139163174020112 -->\n<g id=\"node82\" class=\"node\">\n<title>139163174020112</title>\n<polygon fill=\"lightgrey\" stroke=\"black\" points=\"1464.5,-4538 1365.5,-4538 1365.5,-4517 1464.5,-4517 1464.5,-4538\"/>\n<text text-anchor=\"middle\" x=\"1415\" y=\"-4524.4\" font-family=\"monospace\" font-size=\"12.00\">MvBackward0</text>\n</g>\n<!-- 139163174011760&#45;&gt;139163174020112 -->\n<g id=\"edge105\" class=\"edge\">\n<title>139163174011760&#45;&gt;139163174020112</title>\n<path fill=\"none\" stroke=\"black\" d=\"M745.02,-6464.66C807.61,-6457 899.46,-6442.18 926,-6419 949.66,-6398.33 950,-6383.92 950,-6352.5 950,-6352.5 950,-6352.5 950,-4640.5 950,-4558.12 1229.35,-4536.16 1355.01,-4530.45\"/>\n<polygon fill=\"black\" stroke=\"black\" points=\"1355.4,-4533.93 1365.24,-4530 1355.09,-4526.94 1355.4,-4533.93\"/>\n</g>\n<!-- 139163174020448 -->\n<g id=\"node85\" class=\"node\">\n<title>139163174020448</title>\n<polygon fill=\"lightgrey\" stroke=\"black\" points=\"1464.5,-4709 1365.5,-4709 1365.5,-4688 1464.5,-4688 1464.5,-4709\"/>\n<text text-anchor=\"middle\" x=\"1415\" y=\"-4695.4\" font-family=\"monospace\" font-size=\"12.00\">MvBackward0</text>\n</g>\n<!-- 139163174011760&#45;&gt;139163174020448 -->\n<g id=\"edge109\" class=\"edge\">\n<title>139163174011760&#45;&gt;139163174020448</title>\n<path fill=\"none\" stroke=\"black\" d=\"M745.13,-6466.69C817.34,-6460.41 931.73,-6446.4 964,-6419 987.95,-6398.66 988,-6383.92 988,-6352.5 988,-6352.5 988,-6352.5 988,-4811.5 988,-4736.55 1237.27,-4710.75 1354.9,-4702.75\"/>\n<polygon fill=\"black\" stroke=\"black\" points=\"1355.43,-4706.22 1365.18,-4702.07 1354.97,-4699.23 1355.43,-4706.22\"/>\n</g>\n<!-- 139163174020784 -->\n<g id=\"node88\" class=\"node\">\n<title>139163174020784</title>\n<polygon fill=\"lightgrey\" stroke=\"black\" points=\"1464.5,-4880 1365.5,-4880 1365.5,-4859 1464.5,-4859 1464.5,-4880\"/>\n<text text-anchor=\"middle\" x=\"1415\" y=\"-4866.4\" font-family=\"monospace\" font-size=\"12.00\">MvBackward0</text>\n</g>\n<!-- 139163174011760&#45;&gt;139163174020784 -->\n<g id=\"edge113\" class=\"edge\">\n<title>139163174011760&#45;&gt;139163174020784</title>\n<path fill=\"none\" stroke=\"black\" d=\"M745.28,-6468.24C826.48,-6463.39 963.92,-6450.64 1002,-6419 1026.17,-6398.92 1026,-6383.92 1026,-6352.5 1026,-6352.5 1026,-6352.5 1026,-4982.5 1026,-4914.84 1246.04,-4885.6 1355.14,-4875.26\"/>\n<polygon fill=\"black\" stroke=\"black\" points=\"1355.7,-4878.73 1365.34,-4874.32 1355.06,-4871.76 1355.7,-4878.73\"/>\n</g>\n<!-- 139163174021120 -->\n<g id=\"node91\" class=\"node\">\n<title>139163174021120</title>\n<polygon fill=\"lightgrey\" stroke=\"black\" points=\"1464.5,-5051 1365.5,-5051 1365.5,-5030 1464.5,-5030 1464.5,-5051\"/>\n<text text-anchor=\"middle\" x=\"1415\" y=\"-5037.4\" font-family=\"monospace\" font-size=\"12.00\">MvBackward0</text>\n</g>\n<!-- 139163174011760&#45;&gt;139163174021120 -->\n<g id=\"edge117\" class=\"edge\">\n<title>139163174011760&#45;&gt;139163174021120</title>\n<path fill=\"none\" stroke=\"black\" d=\"M745.01,-6469.49C834.61,-6466.07 995.97,-6454.95 1040,-6419 1064.34,-6399.13 1064,-6383.92 1064,-6352.5 1064,-6352.5 1064,-6352.5 1064,-5153.5 1064,-5093.05 1255.33,-5060.81 1355.47,-5048.08\"/>\n<polygon fill=\"black\" stroke=\"black\" points=\"1355.96,-5051.54 1365.45,-5046.83 1355.1,-5044.6 1355.96,-5051.54\"/>\n</g>\n<!-- 139163174021456 -->\n<g id=\"node94\" class=\"node\">\n<title>139163174021456</title>\n<polygon fill=\"lightgrey\" stroke=\"black\" points=\"1464.5,-5222 1365.5,-5222 1365.5,-5201 1464.5,-5201 1464.5,-5222\"/>\n<text text-anchor=\"middle\" x=\"1415\" y=\"-5208.4\" font-family=\"monospace\" font-size=\"12.00\">MvBackward0</text>\n</g>\n<!-- 139163174011760&#45;&gt;139163174021456 -->\n<g id=\"edge121\" class=\"edge\">\n<title>139163174011760&#45;&gt;139163174021456</title>\n<path fill=\"none\" stroke=\"black\" d=\"M745.05,-6470.49C842.68,-6468.46 1028.02,-6459.24 1078,-6419 1102.48,-6399.3 1102,-6383.92 1102,-6352.5 1102,-6352.5 1102,-6352.5 1102,-5324.5 1102,-5271.24 1264.72,-5236.56 1355.51,-5221.35\"/>\n<polygon fill=\"black\" stroke=\"black\" points=\"1356.11,-5224.8 1365.4,-5219.72 1354.97,-5217.89 1356.11,-5224.8\"/>\n</g>\n<!-- 139163174021792 -->\n<g id=\"node97\" class=\"node\">\n<title>139163174021792</title>\n<polygon fill=\"lightgrey\" stroke=\"black\" points=\"1464.5,-5393 1365.5,-5393 1365.5,-5372 1464.5,-5372 1464.5,-5393\"/>\n<text text-anchor=\"middle\" x=\"1415\" y=\"-5379.4\" font-family=\"monospace\" font-size=\"12.00\">MvBackward0</text>\n</g>\n<!-- 139163174011760&#45;&gt;139163174021792 -->\n<g id=\"edge125\" class=\"edge\">\n<title>139163174011760&#45;&gt;139163174021792</title>\n<path fill=\"none\" stroke=\"black\" d=\"M745.39,-6471.32C850.74,-6470.63 1060.07,-6463.51 1116,-6419 1140.59,-6399.44 1140,-6383.92 1140,-6352.5 1140,-6352.5 1140,-6352.5 1140,-5495.5 1140,-5449.28 1274.95,-5412.85 1355.78,-5395.18\"/>\n<polygon fill=\"black\" stroke=\"black\" points=\"1356.8,-5398.54 1365.84,-5393.02 1355.32,-5391.7 1356.8,-5398.54\"/>\n</g>\n<!-- 139163174022128 -->\n<g id=\"node100\" class=\"node\">\n<title>139163174022128</title>\n<polygon fill=\"lightgrey\" stroke=\"black\" points=\"1464.5,-5564 1365.5,-5564 1365.5,-5543 1464.5,-5543 1464.5,-5564\"/>\n<text text-anchor=\"middle\" x=\"1415\" y=\"-5550.4\" font-family=\"monospace\" font-size=\"12.00\">MvBackward0</text>\n</g>\n<!-- 139163174011760&#45;&gt;139163174022128 -->\n<g id=\"edge129\" class=\"edge\">\n<title>139163174011760&#45;&gt;139163174022128</title>\n<path fill=\"none\" stroke=\"black\" d=\"M745.06,-6467.82C865,-6461.06 1122.48,-6443.83 1154,-6419 1178.68,-6399.55 1178,-6383.92 1178,-6352.5 1178,-6352.5 1178,-6352.5 1178,-5666.5 1178,-5588.21 1285.03,-5564.56 1355.24,-5557.47\"/>\n<polygon fill=\"black\" stroke=\"black\" points=\"1355.68,-5560.95 1365.32,-5556.54 1355.04,-5553.98 1355.68,-5560.95\"/>\n</g>\n<!-- 139163174022464 -->\n<g id=\"node103\" class=\"node\">\n<title>139163174022464</title>\n<polygon fill=\"lightgrey\" stroke=\"black\" points=\"1464.5,-5735 1365.5,-5735 1365.5,-5714 1464.5,-5714 1464.5,-5735\"/>\n<text text-anchor=\"middle\" x=\"1415\" y=\"-5721.4\" font-family=\"monospace\" font-size=\"12.00\">MvBackward0</text>\n</g>\n<!-- 139163174011760&#45;&gt;139163174022464 -->\n<g id=\"edge133\" class=\"edge\">\n<title>139163174011760&#45;&gt;139163174022464</title>\n<path fill=\"none\" stroke=\"black\" d=\"M745.09,-6468.36C872.44,-6462.35 1157.42,-6446.02 1192,-6419 1216.76,-6399.66 1216,-6383.92 1216,-6352.5 1216,-6352.5 1216,-6352.5 1216,-5837.5 1216,-5772.85 1296.74,-5745.12 1355.37,-5733.5\"/>\n<polygon fill=\"black\" stroke=\"black\" points=\"1356.11,-5736.93 1365.3,-5731.65 1354.82,-5730.05 1356.11,-5736.93\"/>\n</g>\n<!-- 139163174022800 -->\n<g id=\"node106\" class=\"node\">\n<title>139163174022800</title>\n<polygon fill=\"lightgrey\" stroke=\"black\" points=\"1464.5,-5906 1365.5,-5906 1365.5,-5885 1464.5,-5885 1464.5,-5906\"/>\n<text text-anchor=\"middle\" x=\"1415\" y=\"-5892.4\" font-family=\"monospace\" font-size=\"12.00\">MvBackward0</text>\n</g>\n<!-- 139163174011760&#45;&gt;139163174022800 -->\n<g id=\"edge137\" class=\"edge\">\n<title>139163174011760&#45;&gt;139163174022800</title>\n<path fill=\"none\" stroke=\"black\" d=\"M745.05,-6468.83C879.51,-6463.54 1192.33,-6448.22 1230,-6419 1254.83,-6399.74 1254,-6383.92 1254,-6352.5 1254,-6352.5 1254,-6352.5 1254,-6008.5 1254,-5954.14 1316.61,-5924.02 1363.74,-5909.05\"/>\n<polygon fill=\"black\" stroke=\"black\" points=\"1364.98,-5912.34 1373.54,-5906.09 1362.95,-5905.64 1364.98,-5912.34\"/>\n</g>\n<!-- 139163174023136 -->\n<g id=\"node109\" class=\"node\">\n<title>139163174023136</title>\n<polygon fill=\"lightgrey\" stroke=\"black\" points=\"1464.5,-6077 1365.5,-6077 1365.5,-6056 1464.5,-6056 1464.5,-6077\"/>\n<text text-anchor=\"middle\" x=\"1415\" y=\"-6063.4\" font-family=\"monospace\" font-size=\"12.00\">MvBackward0</text>\n</g>\n<!-- 139163174011760&#45;&gt;139163174023136 -->\n<g id=\"edge141\" class=\"edge\">\n<title>139163174011760&#45;&gt;139163174023136</title>\n<path fill=\"none\" stroke=\"black\" d=\"M745.03,-6469.24C886.37,-6464.65 1227.23,-6450.42 1268,-6419 1292.89,-6399.82 1292,-6383.92 1292,-6352.5 1292,-6352.5 1292,-6352.5 1292,-6179.5 1292,-6131.38 1344.1,-6098.46 1380.48,-6081.33\"/>\n<polygon fill=\"black\" stroke=\"black\" points=\"1382.14,-6084.42 1389.81,-6077.12 1379.26,-6078.04 1382.14,-6084.42\"/>\n</g>\n<!-- 139163174023472 -->\n<g id=\"node112\" class=\"node\">\n<title>139163174023472</title>\n<polygon fill=\"lightgrey\" stroke=\"black\" points=\"1464.5,-6248 1365.5,-6248 1365.5,-6227 1464.5,-6227 1464.5,-6248\"/>\n<text text-anchor=\"middle\" x=\"1415\" y=\"-6234.4\" font-family=\"monospace\" font-size=\"12.00\">MvBackward0</text>\n</g>\n<!-- 139163174011760&#45;&gt;139163174023472 -->\n<g id=\"edge145\" class=\"edge\">\n<title>139163174011760&#45;&gt;139163174023472</title>\n<path fill=\"none\" stroke=\"black\" d=\"M745.22,-6469.7C893.47,-6466.01 1262.78,-6453.45 1306,-6419 1355.24,-6379.75 1311.51,-6334.59 1349,-6284 1358.47,-6271.22 1372.63,-6260.79 1385.42,-6253.15\"/>\n<polygon fill=\"black\" stroke=\"black\" points=\"1387.4,-6256.05 1394.39,-6248.09 1383.96,-6249.95 1387.4,-6256.05\"/>\n</g>\n<!-- 139163174023808 -->\n<g id=\"node115\" class=\"node\">\n<title>139163174023808</title>\n<polygon fill=\"lightgrey\" stroke=\"black\" points=\"1461.5,-6419 1362.5,-6419 1362.5,-6398 1461.5,-6398 1461.5,-6419\"/>\n<text text-anchor=\"middle\" x=\"1412\" y=\"-6405.4\" font-family=\"monospace\" font-size=\"12.00\">MvBackward0</text>\n</g>\n<!-- 139163174011760&#45;&gt;139163174023808 -->\n<g id=\"edge149\" class=\"edge\">\n<title>139163174011760&#45;&gt;139163174023808</title>\n<path fill=\"none\" stroke=\"black\" d=\"M745.08,-6467.42C861.7,-6460.31 1124.05,-6443.01 1344,-6419 1346.68,-6418.71 1349.43,-6418.39 1352.2,-6418.06\"/>\n<polygon fill=\"black\" stroke=\"black\" points=\"1352.79,-6421.51 1362.28,-6416.8 1351.92,-6414.57 1352.79,-6421.51\"/>\n</g>\n<!-- 139163180494784 -->\n<g id=\"node7\" class=\"node\">\n<title>139163180494784</title>\n<polygon fill=\"lightblue\" stroke=\"black\" points=\"726,-6559 642,-6559 642,-6525 726,-6525 726,-6559\"/>\n<text text-anchor=\"middle\" x=\"684\" y=\"-6545.4\" font-family=\"monospace\" font-size=\"12.00\">W</text>\n<text text-anchor=\"middle\" x=\"684\" y=\"-6532.4\" font-family=\"monospace\" font-size=\"12.00\"> (10, 10)</text>\n</g>\n<!-- 139163180494784&#45;&gt;139163174011760 -->\n<g id=\"edge5\" class=\"edge\">\n<title>139163180494784&#45;&gt;139163174011760</title>\n<path fill=\"none\" stroke=\"black\" d=\"M684,-6524.88C684,-6515.31 684,-6503.09 684,-6492.91\"/>\n<polygon fill=\"black\" stroke=\"black\" points=\"687.5,-6492.89 684,-6482.89 680.5,-6492.89 687.5,-6492.89\"/>\n</g>\n<!-- 139163174012960 -->\n<g id=\"node8\" class=\"node\">\n<title>139163174012960</title>\n<polygon fill=\"lightgrey\" stroke=\"black\" points=\"2137,-320 2023,-320 2023,-299 2137,-299 2137,-320\"/>\n<text text-anchor=\"middle\" x=\"2080\" y=\"-306.4\" font-family=\"monospace\" font-size=\"12.00\">TanhBackward0</text>\n</g>\n<!-- 139163174012960&#45;&gt;139163174012144 -->\n<g id=\"edge6\" class=\"edge\">\n<title>139163174012960&#45;&gt;139163174012144</title>\n<path fill=\"none\" stroke=\"black\" d=\"M2080,-298.92C2080,-291.91 2080,-282.14 2080,-273.47\"/>\n<polygon fill=\"black\" stroke=\"black\" points=\"2083.5,-273.34 2080,-263.34 2076.5,-273.34 2083.5,-273.34\"/>\n</g>\n<!-- 139163174011712 -->\n<g id=\"node9\" class=\"node\">\n<title>139163174011712</title>\n<polygon fill=\"lightgrey\" stroke=\"black\" points=\"2133.5,-377 2026.5,-377 2026.5,-356 2133.5,-356 2133.5,-377\"/>\n<text text-anchor=\"middle\" x=\"2080\" y=\"-363.4\" font-family=\"monospace\" font-size=\"12.00\">AddBackward0</text>\n</g>\n<!-- 139163174011712&#45;&gt;139163174012960 -->\n<g id=\"edge7\" class=\"edge\">\n<title>139163174011712&#45;&gt;139163174012960</title>\n<path fill=\"none\" stroke=\"black\" d=\"M2080,-355.92C2080,-348.91 2080,-339.14 2080,-330.47\"/>\n<polygon fill=\"black\" stroke=\"black\" points=\"2083.5,-330.34 2080,-320.34 2076.5,-330.34 2083.5,-330.34\"/>\n</g>\n<!-- 139163174011520&#45;&gt;139163174011712 -->\n<g id=\"edge8\" class=\"edge\">\n<title>139163174011520&#45;&gt;139163174011712</title>\n<path fill=\"none\" stroke=\"black\" d=\"M2079.17,-412.92C2079.3,-405.91 2079.48,-396.14 2079.64,-387.47\"/>\n<polygon fill=\"black\" stroke=\"black\" points=\"2083.14,-387.4 2079.82,-377.34 2076.14,-387.28 2083.14,-387.4\"/>\n</g>\n<!-- 139163174012768 -->\n<g id=\"node11\" class=\"node\">\n<title>139163174012768</title>\n<polygon fill=\"lightgrey\" stroke=\"black\" points=\"2136,-491 2022,-491 2022,-470 2136,-470 2136,-491\"/>\n<text text-anchor=\"middle\" x=\"2079\" y=\"-477.4\" font-family=\"monospace\" font-size=\"12.00\">TanhBackward0</text>\n</g>\n<!-- 139163174012768&#45;&gt;139163174011520 -->\n<g id=\"edge10\" class=\"edge\">\n<title>139163174012768&#45;&gt;139163174011520</title>\n<path fill=\"none\" stroke=\"black\" d=\"M2079,-469.92C2079,-462.91 2079,-453.14 2079,-444.47\"/>\n<polygon fill=\"black\" stroke=\"black\" points=\"2082.5,-444.34 2079,-434.34 2075.5,-444.34 2082.5,-444.34\"/>\n</g>\n<!-- 139163174012672 -->\n<g id=\"node12\" class=\"node\">\n<title>139163174012672</title>\n<polygon fill=\"lightgrey\" stroke=\"black\" points=\"2132.5,-548 2025.5,-548 2025.5,-527 2132.5,-527 2132.5,-548\"/>\n<text text-anchor=\"middle\" x=\"2079\" y=\"-534.4\" font-family=\"monospace\" font-size=\"12.00\">AddBackward0</text>\n</g>\n<!-- 139163174012672&#45;&gt;139163174012768 -->\n<g id=\"edge11\" class=\"edge\">\n<title>139163174012672&#45;&gt;139163174012768</title>\n<path fill=\"none\" stroke=\"black\" d=\"M2079,-526.92C2079,-519.91 2079,-510.14 2079,-501.47\"/>\n<polygon fill=\"black\" stroke=\"black\" points=\"2082.5,-501.34 2079,-491.34 2075.5,-501.34 2082.5,-501.34\"/>\n</g>\n<!-- 139163174010992&#45;&gt;139163174012672 -->\n<g id=\"edge12\" class=\"edge\">\n<title>139163174010992&#45;&gt;139163174012672</title>\n<path fill=\"none\" stroke=\"black\" d=\"M1796.7,-585.27C1855,-575.61 1951.74,-559.58 2015.45,-549.03\"/>\n<polygon fill=\"black\" stroke=\"black\" points=\"2016.08,-552.47 2025.37,-547.38 2014.94,-545.57 2016.08,-552.47\"/>\n</g>\n<!-- 139163174011088 -->\n<g id=\"node14\" class=\"node\">\n<title>139163174011088</title>\n<polygon fill=\"lightgrey\" stroke=\"black\" points=\"1804,-662 1690,-662 1690,-641 1804,-641 1804,-662\"/>\n<text text-anchor=\"middle\" x=\"1747\" y=\"-648.4\" font-family=\"monospace\" font-size=\"12.00\">TanhBackward0</text>\n</g>\n<!-- 139163174011088&#45;&gt;139163174010992 -->\n<g id=\"edge14\" class=\"edge\">\n<title>139163174011088&#45;&gt;139163174010992</title>\n<path fill=\"none\" stroke=\"black\" d=\"M1747,-640.92C1747,-633.91 1747,-624.14 1747,-615.47\"/>\n<polygon fill=\"black\" stroke=\"black\" points=\"1750.5,-615.34 1747,-605.34 1743.5,-615.34 1750.5,-615.34\"/>\n</g>\n<!-- 139163174011184 -->\n<g id=\"node15\" class=\"node\">\n<title>139163174011184</title>\n<polygon fill=\"lightgrey\" stroke=\"black\" points=\"1800.5,-719 1693.5,-719 1693.5,-698 1800.5,-698 1800.5,-719\"/>\n<text text-anchor=\"middle\" x=\"1747\" y=\"-705.4\" font-family=\"monospace\" font-size=\"12.00\">AddBackward0</text>\n</g>\n<!-- 139163174011184&#45;&gt;139163174011088 -->\n<g id=\"edge15\" class=\"edge\">\n<title>139163174011184&#45;&gt;139163174011088</title>\n<path fill=\"none\" stroke=\"black\" d=\"M1747,-697.92C1747,-690.91 1747,-681.14 1747,-672.47\"/>\n<polygon fill=\"black\" stroke=\"black\" points=\"1750.5,-672.34 1747,-662.34 1743.5,-672.34 1750.5,-672.34\"/>\n</g>\n<!-- 139163174011280&#45;&gt;139163174011184 -->\n<g id=\"edge16\" class=\"edge\">\n<title>139163174011280&#45;&gt;139163174011184</title>\n<path fill=\"none\" stroke=\"black\" d=\"M1609.91,-754.92C1637.21,-745.88 1678.31,-732.26 1708.4,-722.29\"/>\n<polygon fill=\"black\" stroke=\"black\" points=\"1709.75,-725.53 1718.14,-719.06 1707.54,-718.89 1709.75,-725.53\"/>\n</g>\n<!-- 139163174011376 -->\n<g id=\"node17\" class=\"node\">\n<title>139163174011376</title>\n<polygon fill=\"lightgrey\" stroke=\"black\" points=\"1638,-833 1524,-833 1524,-812 1638,-812 1638,-833\"/>\n<text text-anchor=\"middle\" x=\"1581\" y=\"-819.4\" font-family=\"monospace\" font-size=\"12.00\">TanhBackward0</text>\n</g>\n<!-- 139163174011376&#45;&gt;139163174011280 -->\n<g id=\"edge18\" class=\"edge\">\n<title>139163174011376&#45;&gt;139163174011280</title>\n<path fill=\"none\" stroke=\"black\" d=\"M1581,-811.92C1581,-804.91 1581,-795.14 1581,-786.47\"/>\n<polygon fill=\"black\" stroke=\"black\" points=\"1584.5,-786.34 1581,-776.34 1577.5,-786.34 1584.5,-786.34\"/>\n</g>\n<!-- 139163174013008 -->\n<g id=\"node18\" class=\"node\">\n<title>139163174013008</title>\n<polygon fill=\"lightgrey\" stroke=\"black\" points=\"1634.5,-890 1527.5,-890 1527.5,-869 1634.5,-869 1634.5,-890\"/>\n<text text-anchor=\"middle\" x=\"1581\" y=\"-876.4\" font-family=\"monospace\" font-size=\"12.00\">AddBackward0</text>\n</g>\n<!-- 139163174013008&#45;&gt;139163174011376 -->\n<g id=\"edge19\" class=\"edge\">\n<title>139163174013008&#45;&gt;139163174011376</title>\n<path fill=\"none\" stroke=\"black\" d=\"M1581,-868.92C1581,-861.91 1581,-852.14 1581,-843.47\"/>\n<polygon fill=\"black\" stroke=\"black\" points=\"1584.5,-843.34 1581,-833.34 1577.5,-843.34 1584.5,-843.34\"/>\n</g>\n<!-- 139163174013056&#45;&gt;139163174013008 -->\n<g id=\"edge20\" class=\"edge\">\n<title>139163174013056&#45;&gt;139163174013008</title>\n<path fill=\"none\" stroke=\"black\" d=\"M1512.46,-925.92C1525,-917.61 1543.37,-905.44 1557.94,-895.78\"/>\n<polygon fill=\"black\" stroke=\"black\" points=\"1560.03,-898.6 1566.43,-890.16 1556.16,-892.76 1560.03,-898.6\"/>\n</g>\n<!-- 139163174013248 -->\n<g id=\"node20\" class=\"node\">\n<title>139163174013248</title>\n<polygon fill=\"lightgrey\" stroke=\"black\" points=\"1555,-1004 1441,-1004 1441,-983 1555,-983 1555,-1004\"/>\n<text text-anchor=\"middle\" x=\"1498\" y=\"-990.4\" font-family=\"monospace\" font-size=\"12.00\">TanhBackward0</text>\n</g>\n<!-- 139163174013248&#45;&gt;139163174013056 -->\n<g id=\"edge22\" class=\"edge\">\n<title>139163174013248&#45;&gt;139163174013056</title>\n<path fill=\"none\" stroke=\"black\" d=\"M1498,-982.92C1498,-975.91 1498,-966.14 1498,-957.47\"/>\n<polygon fill=\"black\" stroke=\"black\" points=\"1501.5,-957.34 1498,-947.34 1494.5,-957.34 1501.5,-957.34\"/>\n</g>\n<!-- 139163174013344 -->\n<g id=\"node21\" class=\"node\">\n<title>139163174013344</title>\n<polygon fill=\"lightgrey\" stroke=\"black\" points=\"1551.5,-1061 1444.5,-1061 1444.5,-1040 1551.5,-1040 1551.5,-1061\"/>\n<text text-anchor=\"middle\" x=\"1498\" y=\"-1047.4\" font-family=\"monospace\" font-size=\"12.00\">AddBackward0</text>\n</g>\n<!-- 139163174013344&#45;&gt;139163174013248 -->\n<g id=\"edge23\" class=\"edge\">\n<title>139163174013344&#45;&gt;139163174013248</title>\n<path fill=\"none\" stroke=\"black\" d=\"M1498,-1039.92C1498,-1032.91 1498,-1023.14 1498,-1014.47\"/>\n<polygon fill=\"black\" stroke=\"black\" points=\"1501.5,-1014.34 1498,-1004.34 1494.5,-1014.34 1501.5,-1014.34\"/>\n</g>\n<!-- 139163174013392&#45;&gt;139163174013344 -->\n<g id=\"edge24\" class=\"edge\">\n<title>139163174013392&#45;&gt;139163174013344</title>\n<path fill=\"none\" stroke=\"black\" d=\"M1463.32,-1096.92C1469.09,-1089.36 1477.3,-1078.61 1484.28,-1069.46\"/>\n<polygon fill=\"black\" stroke=\"black\" points=\"1487.2,-1071.41 1490.49,-1061.34 1481.63,-1067.16 1487.2,-1071.41\"/>\n</g>\n<!-- 139163174013584 -->\n<g id=\"node23\" class=\"node\">\n<title>139163174013584</title>\n<polygon fill=\"lightgrey\" stroke=\"black\" points=\"1513,-1175 1399,-1175 1399,-1154 1513,-1154 1513,-1175\"/>\n<text text-anchor=\"middle\" x=\"1456\" y=\"-1161.4\" font-family=\"monospace\" font-size=\"12.00\">TanhBackward0</text>\n</g>\n<!-- 139163174013584&#45;&gt;139163174013392 -->\n<g id=\"edge26\" class=\"edge\">\n<title>139163174013584&#45;&gt;139163174013392</title>\n<path fill=\"none\" stroke=\"black\" d=\"M1456,-1153.92C1456,-1146.91 1456,-1137.14 1456,-1128.47\"/>\n<polygon fill=\"black\" stroke=\"black\" points=\"1459.5,-1128.34 1456,-1118.34 1452.5,-1128.34 1459.5,-1128.34\"/>\n</g>\n<!-- 139163174013680 -->\n<g id=\"node24\" class=\"node\">\n<title>139163174013680</title>\n<polygon fill=\"lightgrey\" stroke=\"black\" points=\"1509.5,-1232 1402.5,-1232 1402.5,-1211 1509.5,-1211 1509.5,-1232\"/>\n<text text-anchor=\"middle\" x=\"1456\" y=\"-1218.4\" font-family=\"monospace\" font-size=\"12.00\">AddBackward0</text>\n</g>\n<!-- 139163174013680&#45;&gt;139163174013584 -->\n<g id=\"edge27\" class=\"edge\">\n<title>139163174013680&#45;&gt;139163174013584</title>\n<path fill=\"none\" stroke=\"black\" d=\"M1456,-1210.92C1456,-1203.91 1456,-1194.14 1456,-1185.47\"/>\n<polygon fill=\"black\" stroke=\"black\" points=\"1459.5,-1185.34 1456,-1175.34 1452.5,-1185.34 1459.5,-1185.34\"/>\n</g>\n<!-- 139163174013728&#45;&gt;139163174013680 -->\n<g id=\"edge28\" class=\"edge\">\n<title>139163174013728&#45;&gt;139163174013680</title>\n<path fill=\"none\" stroke=\"black\" d=\"M1438.66,-1267.92C1441.39,-1260.75 1445.23,-1250.71 1448.6,-1241.89\"/>\n<polygon fill=\"black\" stroke=\"black\" points=\"1451.95,-1242.93 1452.24,-1232.34 1445.41,-1240.43 1451.95,-1242.93\"/>\n</g>\n<!-- 139163174013920 -->\n<g id=\"node26\" class=\"node\">\n<title>139163174013920</title>\n<polygon fill=\"lightgrey\" stroke=\"black\" points=\"1492,-1346 1378,-1346 1378,-1325 1492,-1325 1492,-1346\"/>\n<text text-anchor=\"middle\" x=\"1435\" y=\"-1332.4\" font-family=\"monospace\" font-size=\"12.00\">TanhBackward0</text>\n</g>\n<!-- 139163174013920&#45;&gt;139163174013728 -->\n<g id=\"edge30\" class=\"edge\">\n<title>139163174013920&#45;&gt;139163174013728</title>\n<path fill=\"none\" stroke=\"black\" d=\"M1435,-1324.92C1435,-1317.91 1435,-1308.14 1435,-1299.47\"/>\n<polygon fill=\"black\" stroke=\"black\" points=\"1438.5,-1299.34 1435,-1289.34 1431.5,-1299.34 1438.5,-1299.34\"/>\n</g>\n<!-- 139163174014016 -->\n<g id=\"node27\" class=\"node\">\n<title>139163174014016</title>\n<polygon fill=\"lightgrey\" stroke=\"black\" points=\"1488.5,-1403 1381.5,-1403 1381.5,-1382 1488.5,-1382 1488.5,-1403\"/>\n<text text-anchor=\"middle\" x=\"1435\" y=\"-1389.4\" font-family=\"monospace\" font-size=\"12.00\">AddBackward0</text>\n</g>\n<!-- 139163174014016&#45;&gt;139163174013920 -->\n<g id=\"edge31\" class=\"edge\">\n<title>139163174014016&#45;&gt;139163174013920</title>\n<path fill=\"none\" stroke=\"black\" d=\"M1435,-1381.92C1435,-1374.91 1435,-1365.14 1435,-1356.47\"/>\n<polygon fill=\"black\" stroke=\"black\" points=\"1438.5,-1356.34 1435,-1346.34 1431.5,-1356.34 1438.5,-1356.34\"/>\n</g>\n<!-- 139163174014064&#45;&gt;139163174014016 -->\n<g id=\"edge32\" class=\"edge\">\n<title>139163174014064&#45;&gt;139163174014016</title>\n<path fill=\"none\" stroke=\"black\" d=\"M1426.74,-1438.92C1428.02,-1431.91 1429.79,-1422.14 1431.37,-1413.47\"/>\n<polygon fill=\"black\" stroke=\"black\" points=\"1434.87,-1413.81 1433.21,-1403.34 1427.98,-1412.55 1434.87,-1413.81\"/>\n</g>\n<!-- 139163174014256 -->\n<g id=\"node29\" class=\"node\">\n<title>139163174014256</title>\n<polygon fill=\"lightgrey\" stroke=\"black\" points=\"1482,-1517 1368,-1517 1368,-1496 1482,-1496 1482,-1517\"/>\n<text text-anchor=\"middle\" x=\"1425\" y=\"-1503.4\" font-family=\"monospace\" font-size=\"12.00\">TanhBackward0</text>\n</g>\n<!-- 139163174014256&#45;&gt;139163174014064 -->\n<g id=\"edge34\" class=\"edge\">\n<title>139163174014256&#45;&gt;139163174014064</title>\n<path fill=\"none\" stroke=\"black\" d=\"M1425,-1495.92C1425,-1488.91 1425,-1479.14 1425,-1470.47\"/>\n<polygon fill=\"black\" stroke=\"black\" points=\"1428.5,-1470.34 1425,-1460.34 1421.5,-1470.34 1428.5,-1470.34\"/>\n</g>\n<!-- 139163174014352 -->\n<g id=\"node30\" class=\"node\">\n<title>139163174014352</title>\n<polygon fill=\"lightgrey\" stroke=\"black\" points=\"1478.5,-1574 1371.5,-1574 1371.5,-1553 1478.5,-1553 1478.5,-1574\"/>\n<text text-anchor=\"middle\" x=\"1425\" y=\"-1560.4\" font-family=\"monospace\" font-size=\"12.00\">AddBackward0</text>\n</g>\n<!-- 139163174014352&#45;&gt;139163174014256 -->\n<g id=\"edge35\" class=\"edge\">\n<title>139163174014352&#45;&gt;139163174014256</title>\n<path fill=\"none\" stroke=\"black\" d=\"M1425,-1552.92C1425,-1545.91 1425,-1536.14 1425,-1527.47\"/>\n<polygon fill=\"black\" stroke=\"black\" points=\"1428.5,-1527.34 1425,-1517.34 1421.5,-1527.34 1428.5,-1527.34\"/>\n</g>\n<!-- 139163174014400&#45;&gt;139163174014352 -->\n<g id=\"edge36\" class=\"edge\">\n<title>139163174014400&#45;&gt;139163174014352</title>\n<path fill=\"none\" stroke=\"black\" d=\"M1420.87,-1609.92C1421.51,-1602.91 1422.4,-1593.14 1423.18,-1584.47\"/>\n<polygon fill=\"black\" stroke=\"black\" points=\"1426.69,-1584.62 1424.11,-1574.34 1419.71,-1583.98 1426.69,-1584.62\"/>\n</g>\n<!-- 139163174014592 -->\n<g id=\"node32\" class=\"node\">\n<title>139163174014592</title>\n<polygon fill=\"lightgrey\" stroke=\"black\" points=\"1477,-1688 1363,-1688 1363,-1667 1477,-1667 1477,-1688\"/>\n<text text-anchor=\"middle\" x=\"1420\" y=\"-1674.4\" font-family=\"monospace\" font-size=\"12.00\">TanhBackward0</text>\n</g>\n<!-- 139163174014592&#45;&gt;139163174014400 -->\n<g id=\"edge38\" class=\"edge\">\n<title>139163174014592&#45;&gt;139163174014400</title>\n<path fill=\"none\" stroke=\"black\" d=\"M1420,-1666.92C1420,-1659.91 1420,-1650.14 1420,-1641.47\"/>\n<polygon fill=\"black\" stroke=\"black\" points=\"1423.5,-1641.34 1420,-1631.34 1416.5,-1641.34 1423.5,-1641.34\"/>\n</g>\n<!-- 139163174014688 -->\n<g id=\"node33\" class=\"node\">\n<title>139163174014688</title>\n<polygon fill=\"lightgrey\" stroke=\"black\" points=\"1473.5,-1745 1366.5,-1745 1366.5,-1724 1473.5,-1724 1473.5,-1745\"/>\n<text text-anchor=\"middle\" x=\"1420\" y=\"-1731.4\" font-family=\"monospace\" font-size=\"12.00\">AddBackward0</text>\n</g>\n<!-- 139163174014688&#45;&gt;139163174014592 -->\n<g id=\"edge39\" class=\"edge\">\n<title>139163174014688&#45;&gt;139163174014592</title>\n<path fill=\"none\" stroke=\"black\" d=\"M1420,-1723.92C1420,-1716.91 1420,-1707.14 1420,-1698.47\"/>\n<polygon fill=\"black\" stroke=\"black\" points=\"1423.5,-1698.34 1420,-1688.34 1416.5,-1698.34 1423.5,-1698.34\"/>\n</g>\n<!-- 139163174014736&#45;&gt;139163174014688 -->\n<g id=\"edge40\" class=\"edge\">\n<title>139163174014736&#45;&gt;139163174014688</title>\n<path fill=\"none\" stroke=\"black\" d=\"M1417.52,-1780.92C1417.91,-1773.91 1418.44,-1764.14 1418.91,-1755.47\"/>\n<polygon fill=\"black\" stroke=\"black\" points=\"1422.41,-1755.52 1419.46,-1745.34 1415.42,-1755.14 1422.41,-1755.52\"/>\n</g>\n<!-- 139163174014928 -->\n<g id=\"node35\" class=\"node\">\n<title>139163174014928</title>\n<polygon fill=\"lightgrey\" stroke=\"black\" points=\"1474,-1859 1360,-1859 1360,-1838 1474,-1838 1474,-1859\"/>\n<text text-anchor=\"middle\" x=\"1417\" y=\"-1845.4\" font-family=\"monospace\" font-size=\"12.00\">TanhBackward0</text>\n</g>\n<!-- 139163174014928&#45;&gt;139163174014736 -->\n<g id=\"edge42\" class=\"edge\">\n<title>139163174014928&#45;&gt;139163174014736</title>\n<path fill=\"none\" stroke=\"black\" d=\"M1417,-1837.92C1417,-1830.91 1417,-1821.14 1417,-1812.47\"/>\n<polygon fill=\"black\" stroke=\"black\" points=\"1420.5,-1812.34 1417,-1802.34 1413.5,-1812.34 1420.5,-1812.34\"/>\n</g>\n<!-- 139163174015024 -->\n<g id=\"node36\" class=\"node\">\n<title>139163174015024</title>\n<polygon fill=\"lightgrey\" stroke=\"black\" points=\"1470.5,-1916 1363.5,-1916 1363.5,-1895 1470.5,-1895 1470.5,-1916\"/>\n<text text-anchor=\"middle\" x=\"1417\" y=\"-1902.4\" font-family=\"monospace\" font-size=\"12.00\">AddBackward0</text>\n</g>\n<!-- 139163174015024&#45;&gt;139163174014928 -->\n<g id=\"edge43\" class=\"edge\">\n<title>139163174015024&#45;&gt;139163174014928</title>\n<path fill=\"none\" stroke=\"black\" d=\"M1417,-1894.92C1417,-1887.91 1417,-1878.14 1417,-1869.47\"/>\n<polygon fill=\"black\" stroke=\"black\" points=\"1420.5,-1869.34 1417,-1859.34 1413.5,-1869.34 1420.5,-1869.34\"/>\n</g>\n<!-- 139163174015072&#45;&gt;139163174015024 -->\n<g id=\"edge44\" class=\"edge\">\n<title>139163174015072&#45;&gt;139163174015024</title>\n<path fill=\"none\" stroke=\"black\" d=\"M1416.17,-1951.92C1416.3,-1944.91 1416.48,-1935.14 1416.64,-1926.47\"/>\n<polygon fill=\"black\" stroke=\"black\" points=\"1420.14,-1926.4 1416.82,-1916.34 1413.14,-1926.28 1420.14,-1926.4\"/>\n</g>\n<!-- 139163174015264 -->\n<g id=\"node38\" class=\"node\">\n<title>139163174015264</title>\n<polygon fill=\"lightgrey\" stroke=\"black\" points=\"1473,-2030 1359,-2030 1359,-2009 1473,-2009 1473,-2030\"/>\n<text text-anchor=\"middle\" x=\"1416\" y=\"-2016.4\" font-family=\"monospace\" font-size=\"12.00\">TanhBackward0</text>\n</g>\n<!-- 139163174015264&#45;&gt;139163174015072 -->\n<g id=\"edge46\" class=\"edge\">\n<title>139163174015264&#45;&gt;139163174015072</title>\n<path fill=\"none\" stroke=\"black\" d=\"M1416,-2008.92C1416,-2001.91 1416,-1992.14 1416,-1983.47\"/>\n<polygon fill=\"black\" stroke=\"black\" points=\"1419.5,-1983.34 1416,-1973.34 1412.5,-1983.34 1419.5,-1983.34\"/>\n</g>\n<!-- 139163174015360 -->\n<g id=\"node39\" class=\"node\">\n<title>139163174015360</title>\n<polygon fill=\"lightgrey\" stroke=\"black\" points=\"1469.5,-2087 1362.5,-2087 1362.5,-2066 1469.5,-2066 1469.5,-2087\"/>\n<text text-anchor=\"middle\" x=\"1416\" y=\"-2073.4\" font-family=\"monospace\" font-size=\"12.00\">AddBackward0</text>\n</g>\n<!-- 139163174015360&#45;&gt;139163174015264 -->\n<g id=\"edge47\" class=\"edge\">\n<title>139163174015360&#45;&gt;139163174015264</title>\n<path fill=\"none\" stroke=\"black\" d=\"M1416,-2065.92C1416,-2058.91 1416,-2049.14 1416,-2040.47\"/>\n<polygon fill=\"black\" stroke=\"black\" points=\"1419.5,-2040.34 1416,-2030.34 1412.5,-2040.34 1419.5,-2040.34\"/>\n</g>\n<!-- 139163174015408&#45;&gt;139163174015360 -->\n<g id=\"edge48\" class=\"edge\">\n<title>139163174015408&#45;&gt;139163174015360</title>\n<path fill=\"none\" stroke=\"black\" d=\"M1415.17,-2122.92C1415.3,-2115.91 1415.48,-2106.14 1415.64,-2097.47\"/>\n<polygon fill=\"black\" stroke=\"black\" points=\"1419.14,-2097.4 1415.82,-2087.34 1412.14,-2097.28 1419.14,-2097.4\"/>\n</g>\n<!-- 139163174015600 -->\n<g id=\"node41\" class=\"node\">\n<title>139163174015600</title>\n<polygon fill=\"lightgrey\" stroke=\"black\" points=\"1472,-2201 1358,-2201 1358,-2180 1472,-2180 1472,-2201\"/>\n<text text-anchor=\"middle\" x=\"1415\" y=\"-2187.4\" font-family=\"monospace\" font-size=\"12.00\">TanhBackward0</text>\n</g>\n<!-- 139163174015600&#45;&gt;139163174015408 -->\n<g id=\"edge50\" class=\"edge\">\n<title>139163174015600&#45;&gt;139163174015408</title>\n<path fill=\"none\" stroke=\"black\" d=\"M1415,-2179.92C1415,-2172.91 1415,-2163.14 1415,-2154.47\"/>\n<polygon fill=\"black\" stroke=\"black\" points=\"1418.5,-2154.34 1415,-2144.34 1411.5,-2154.34 1418.5,-2154.34\"/>\n</g>\n<!-- 139163174015696 -->\n<g id=\"node42\" class=\"node\">\n<title>139163174015696</title>\n<polygon fill=\"lightgrey\" stroke=\"black\" points=\"1468.5,-2258 1361.5,-2258 1361.5,-2237 1468.5,-2237 1468.5,-2258\"/>\n<text text-anchor=\"middle\" x=\"1415\" y=\"-2244.4\" font-family=\"monospace\" font-size=\"12.00\">AddBackward0</text>\n</g>\n<!-- 139163174015696&#45;&gt;139163174015600 -->\n<g id=\"edge51\" class=\"edge\">\n<title>139163174015696&#45;&gt;139163174015600</title>\n<path fill=\"none\" stroke=\"black\" d=\"M1415,-2236.92C1415,-2229.91 1415,-2220.14 1415,-2211.47\"/>\n<polygon fill=\"black\" stroke=\"black\" points=\"1418.5,-2211.34 1415,-2201.34 1411.5,-2211.34 1418.5,-2211.34\"/>\n</g>\n<!-- 139163174015744&#45;&gt;139163174015696 -->\n<g id=\"edge52\" class=\"edge\">\n<title>139163174015744&#45;&gt;139163174015696</title>\n<path fill=\"none\" stroke=\"black\" d=\"M1415,-2293.92C1415,-2286.91 1415,-2277.14 1415,-2268.47\"/>\n<polygon fill=\"black\" stroke=\"black\" points=\"1418.5,-2268.34 1415,-2258.34 1411.5,-2268.34 1418.5,-2268.34\"/>\n</g>\n<!-- 139163174015936 -->\n<g id=\"node44\" class=\"node\">\n<title>139163174015936</title>\n<polygon fill=\"lightgrey\" stroke=\"black\" points=\"1472,-2372 1358,-2372 1358,-2351 1472,-2351 1472,-2372\"/>\n<text text-anchor=\"middle\" x=\"1415\" y=\"-2358.4\" font-family=\"monospace\" font-size=\"12.00\">TanhBackward0</text>\n</g>\n<!-- 139163174015936&#45;&gt;139163174015744 -->\n<g id=\"edge54\" class=\"edge\">\n<title>139163174015936&#45;&gt;139163174015744</title>\n<path fill=\"none\" stroke=\"black\" d=\"M1415,-2350.92C1415,-2343.91 1415,-2334.14 1415,-2325.47\"/>\n<polygon fill=\"black\" stroke=\"black\" points=\"1418.5,-2325.34 1415,-2315.34 1411.5,-2325.34 1418.5,-2325.34\"/>\n</g>\n<!-- 139163174016032 -->\n<g id=\"node45\" class=\"node\">\n<title>139163174016032</title>\n<polygon fill=\"lightgrey\" stroke=\"black\" points=\"1468.5,-2429 1361.5,-2429 1361.5,-2408 1468.5,-2408 1468.5,-2429\"/>\n<text text-anchor=\"middle\" x=\"1415\" y=\"-2415.4\" font-family=\"monospace\" font-size=\"12.00\">AddBackward0</text>\n</g>\n<!-- 139163174016032&#45;&gt;139163174015936 -->\n<g id=\"edge55\" class=\"edge\">\n<title>139163174016032&#45;&gt;139163174015936</title>\n<path fill=\"none\" stroke=\"black\" d=\"M1415,-2407.92C1415,-2400.91 1415,-2391.14 1415,-2382.47\"/>\n<polygon fill=\"black\" stroke=\"black\" points=\"1418.5,-2382.34 1415,-2372.34 1411.5,-2382.34 1418.5,-2382.34\"/>\n</g>\n<!-- 139163174016080&#45;&gt;139163174016032 -->\n<g id=\"edge56\" class=\"edge\">\n<title>139163174016080&#45;&gt;139163174016032</title>\n<path fill=\"none\" stroke=\"black\" d=\"M1415,-2464.92C1415,-2457.91 1415,-2448.14 1415,-2439.47\"/>\n<polygon fill=\"black\" stroke=\"black\" points=\"1418.5,-2439.34 1415,-2429.34 1411.5,-2439.34 1418.5,-2439.34\"/>\n</g>\n<!-- 139163174016272 -->\n<g id=\"node47\" class=\"node\">\n<title>139163174016272</title>\n<polygon fill=\"lightgrey\" stroke=\"black\" points=\"1472,-2543 1358,-2543 1358,-2522 1472,-2522 1472,-2543\"/>\n<text text-anchor=\"middle\" x=\"1415\" y=\"-2529.4\" font-family=\"monospace\" font-size=\"12.00\">TanhBackward0</text>\n</g>\n<!-- 139163174016272&#45;&gt;139163174016080 -->\n<g id=\"edge58\" class=\"edge\">\n<title>139163174016272&#45;&gt;139163174016080</title>\n<path fill=\"none\" stroke=\"black\" d=\"M1415,-2521.92C1415,-2514.91 1415,-2505.14 1415,-2496.47\"/>\n<polygon fill=\"black\" stroke=\"black\" points=\"1418.5,-2496.34 1415,-2486.34 1411.5,-2496.34 1418.5,-2496.34\"/>\n</g>\n<!-- 139163174016368 -->\n<g id=\"node48\" class=\"node\">\n<title>139163174016368</title>\n<polygon fill=\"lightgrey\" stroke=\"black\" points=\"1468.5,-2600 1361.5,-2600 1361.5,-2579 1468.5,-2579 1468.5,-2600\"/>\n<text text-anchor=\"middle\" x=\"1415\" y=\"-2586.4\" font-family=\"monospace\" font-size=\"12.00\">AddBackward0</text>\n</g>\n<!-- 139163174016368&#45;&gt;139163174016272 -->\n<g id=\"edge59\" class=\"edge\">\n<title>139163174016368&#45;&gt;139163174016272</title>\n<path fill=\"none\" stroke=\"black\" d=\"M1415,-2578.92C1415,-2571.91 1415,-2562.14 1415,-2553.47\"/>\n<polygon fill=\"black\" stroke=\"black\" points=\"1418.5,-2553.34 1415,-2543.34 1411.5,-2553.34 1418.5,-2553.34\"/>\n</g>\n<!-- 139163174016416&#45;&gt;139163174016368 -->\n<g id=\"edge60\" class=\"edge\">\n<title>139163174016416&#45;&gt;139163174016368</title>\n<path fill=\"none\" stroke=\"black\" d=\"M1415,-2635.92C1415,-2628.91 1415,-2619.14 1415,-2610.47\"/>\n<polygon fill=\"black\" stroke=\"black\" points=\"1418.5,-2610.34 1415,-2600.34 1411.5,-2610.34 1418.5,-2610.34\"/>\n</g>\n<!-- 139163174016608 -->\n<g id=\"node50\" class=\"node\">\n<title>139163174016608</title>\n<polygon fill=\"lightgrey\" stroke=\"black\" points=\"1472,-2714 1358,-2714 1358,-2693 1472,-2693 1472,-2714\"/>\n<text text-anchor=\"middle\" x=\"1415\" y=\"-2700.4\" font-family=\"monospace\" font-size=\"12.00\">TanhBackward0</text>\n</g>\n<!-- 139163174016608&#45;&gt;139163174016416 -->\n<g id=\"edge62\" class=\"edge\">\n<title>139163174016608&#45;&gt;139163174016416</title>\n<path fill=\"none\" stroke=\"black\" d=\"M1415,-2692.92C1415,-2685.91 1415,-2676.14 1415,-2667.47\"/>\n<polygon fill=\"black\" stroke=\"black\" points=\"1418.5,-2667.34 1415,-2657.34 1411.5,-2667.34 1418.5,-2667.34\"/>\n</g>\n<!-- 139163174016704 -->\n<g id=\"node51\" class=\"node\">\n<title>139163174016704</title>\n<polygon fill=\"lightgrey\" stroke=\"black\" points=\"1468.5,-2771 1361.5,-2771 1361.5,-2750 1468.5,-2750 1468.5,-2771\"/>\n<text text-anchor=\"middle\" x=\"1415\" y=\"-2757.4\" font-family=\"monospace\" font-size=\"12.00\">AddBackward0</text>\n</g>\n<!-- 139163174016704&#45;&gt;139163174016608 -->\n<g id=\"edge63\" class=\"edge\">\n<title>139163174016704&#45;&gt;139163174016608</title>\n<path fill=\"none\" stroke=\"black\" d=\"M1415,-2749.92C1415,-2742.91 1415,-2733.14 1415,-2724.47\"/>\n<polygon fill=\"black\" stroke=\"black\" points=\"1418.5,-2724.34 1415,-2714.34 1411.5,-2724.34 1418.5,-2724.34\"/>\n</g>\n<!-- 139163174016752&#45;&gt;139163174016704 -->\n<g id=\"edge64\" class=\"edge\">\n<title>139163174016752&#45;&gt;139163174016704</title>\n<path fill=\"none\" stroke=\"black\" d=\"M1415,-2806.92C1415,-2799.91 1415,-2790.14 1415,-2781.47\"/>\n<polygon fill=\"black\" stroke=\"black\" points=\"1418.5,-2781.34 1415,-2771.34 1411.5,-2781.34 1418.5,-2781.34\"/>\n</g>\n<!-- 139163174016944 -->\n<g id=\"node53\" class=\"node\">\n<title>139163174016944</title>\n<polygon fill=\"lightgrey\" stroke=\"black\" points=\"1472,-2885 1358,-2885 1358,-2864 1472,-2864 1472,-2885\"/>\n<text text-anchor=\"middle\" x=\"1415\" y=\"-2871.4\" font-family=\"monospace\" font-size=\"12.00\">TanhBackward0</text>\n</g>\n<!-- 139163174016944&#45;&gt;139163174016752 -->\n<g id=\"edge66\" class=\"edge\">\n<title>139163174016944&#45;&gt;139163174016752</title>\n<path fill=\"none\" stroke=\"black\" d=\"M1415,-2863.92C1415,-2856.91 1415,-2847.14 1415,-2838.47\"/>\n<polygon fill=\"black\" stroke=\"black\" points=\"1418.5,-2838.34 1415,-2828.34 1411.5,-2838.34 1418.5,-2838.34\"/>\n</g>\n<!-- 139163174017040 -->\n<g id=\"node54\" class=\"node\">\n<title>139163174017040</title>\n<polygon fill=\"lightgrey\" stroke=\"black\" points=\"1468.5,-2942 1361.5,-2942 1361.5,-2921 1468.5,-2921 1468.5,-2942\"/>\n<text text-anchor=\"middle\" x=\"1415\" y=\"-2928.4\" font-family=\"monospace\" font-size=\"12.00\">AddBackward0</text>\n</g>\n<!-- 139163174017040&#45;&gt;139163174016944 -->\n<g id=\"edge67\" class=\"edge\">\n<title>139163174017040&#45;&gt;139163174016944</title>\n<path fill=\"none\" stroke=\"black\" d=\"M1415,-2920.92C1415,-2913.91 1415,-2904.14 1415,-2895.47\"/>\n<polygon fill=\"black\" stroke=\"black\" points=\"1418.5,-2895.34 1415,-2885.34 1411.5,-2895.34 1418.5,-2895.34\"/>\n</g>\n<!-- 139163174017088&#45;&gt;139163174017040 -->\n<g id=\"edge68\" class=\"edge\">\n<title>139163174017088&#45;&gt;139163174017040</title>\n<path fill=\"none\" stroke=\"black\" d=\"M1415,-2977.92C1415,-2970.91 1415,-2961.14 1415,-2952.47\"/>\n<polygon fill=\"black\" stroke=\"black\" points=\"1418.5,-2952.34 1415,-2942.34 1411.5,-2952.34 1418.5,-2952.34\"/>\n</g>\n<!-- 139163174017280 -->\n<g id=\"node56\" class=\"node\">\n<title>139163174017280</title>\n<polygon fill=\"lightgrey\" stroke=\"black\" points=\"1472,-3056 1358,-3056 1358,-3035 1472,-3035 1472,-3056\"/>\n<text text-anchor=\"middle\" x=\"1415\" y=\"-3042.4\" font-family=\"monospace\" font-size=\"12.00\">TanhBackward0</text>\n</g>\n<!-- 139163174017280&#45;&gt;139163174017088 -->\n<g id=\"edge70\" class=\"edge\">\n<title>139163174017280&#45;&gt;139163174017088</title>\n<path fill=\"none\" stroke=\"black\" d=\"M1415,-3034.92C1415,-3027.91 1415,-3018.14 1415,-3009.47\"/>\n<polygon fill=\"black\" stroke=\"black\" points=\"1418.5,-3009.34 1415,-2999.34 1411.5,-3009.34 1418.5,-3009.34\"/>\n</g>\n<!-- 139163174017376 -->\n<g id=\"node57\" class=\"node\">\n<title>139163174017376</title>\n<polygon fill=\"lightgrey\" stroke=\"black\" points=\"1468.5,-3113 1361.5,-3113 1361.5,-3092 1468.5,-3092 1468.5,-3113\"/>\n<text text-anchor=\"middle\" x=\"1415\" y=\"-3099.4\" font-family=\"monospace\" font-size=\"12.00\">AddBackward0</text>\n</g>\n<!-- 139163174017376&#45;&gt;139163174017280 -->\n<g id=\"edge71\" class=\"edge\">\n<title>139163174017376&#45;&gt;139163174017280</title>\n<path fill=\"none\" stroke=\"black\" d=\"M1415,-3091.92C1415,-3084.91 1415,-3075.14 1415,-3066.47\"/>\n<polygon fill=\"black\" stroke=\"black\" points=\"1418.5,-3066.34 1415,-3056.34 1411.5,-3066.34 1418.5,-3066.34\"/>\n</g>\n<!-- 139163174017424&#45;&gt;139163174017376 -->\n<g id=\"edge72\" class=\"edge\">\n<title>139163174017424&#45;&gt;139163174017376</title>\n<path fill=\"none\" stroke=\"black\" d=\"M1415,-3148.92C1415,-3141.91 1415,-3132.14 1415,-3123.47\"/>\n<polygon fill=\"black\" stroke=\"black\" points=\"1418.5,-3123.34 1415,-3113.34 1411.5,-3123.34 1418.5,-3123.34\"/>\n</g>\n<!-- 139163174017616 -->\n<g id=\"node59\" class=\"node\">\n<title>139163174017616</title>\n<polygon fill=\"lightgrey\" stroke=\"black\" points=\"1472,-3227 1358,-3227 1358,-3206 1472,-3206 1472,-3227\"/>\n<text text-anchor=\"middle\" x=\"1415\" y=\"-3213.4\" font-family=\"monospace\" font-size=\"12.00\">TanhBackward0</text>\n</g>\n<!-- 139163174017616&#45;&gt;139163174017424 -->\n<g id=\"edge74\" class=\"edge\">\n<title>139163174017616&#45;&gt;139163174017424</title>\n<path fill=\"none\" stroke=\"black\" d=\"M1415,-3205.92C1415,-3198.91 1415,-3189.14 1415,-3180.47\"/>\n<polygon fill=\"black\" stroke=\"black\" points=\"1418.5,-3180.34 1415,-3170.34 1411.5,-3180.34 1418.5,-3180.34\"/>\n</g>\n<!-- 139163174017712 -->\n<g id=\"node60\" class=\"node\">\n<title>139163174017712</title>\n<polygon fill=\"lightgrey\" stroke=\"black\" points=\"1468.5,-3284 1361.5,-3284 1361.5,-3263 1468.5,-3263 1468.5,-3284\"/>\n<text text-anchor=\"middle\" x=\"1415\" y=\"-3270.4\" font-family=\"monospace\" font-size=\"12.00\">AddBackward0</text>\n</g>\n<!-- 139163174017712&#45;&gt;139163174017616 -->\n<g id=\"edge75\" class=\"edge\">\n<title>139163174017712&#45;&gt;139163174017616</title>\n<path fill=\"none\" stroke=\"black\" d=\"M1415,-3262.92C1415,-3255.91 1415,-3246.14 1415,-3237.47\"/>\n<polygon fill=\"black\" stroke=\"black\" points=\"1418.5,-3237.34 1415,-3227.34 1411.5,-3237.34 1418.5,-3237.34\"/>\n</g>\n<!-- 139163174017760&#45;&gt;139163174017712 -->\n<g id=\"edge76\" class=\"edge\">\n<title>139163174017760&#45;&gt;139163174017712</title>\n<path fill=\"none\" stroke=\"black\" d=\"M1415,-3319.92C1415,-3312.91 1415,-3303.14 1415,-3294.47\"/>\n<polygon fill=\"black\" stroke=\"black\" points=\"1418.5,-3294.34 1415,-3284.34 1411.5,-3294.34 1418.5,-3294.34\"/>\n</g>\n<!-- 139163174017952 -->\n<g id=\"node62\" class=\"node\">\n<title>139163174017952</title>\n<polygon fill=\"lightgrey\" stroke=\"black\" points=\"1472,-3398 1358,-3398 1358,-3377 1472,-3377 1472,-3398\"/>\n<text text-anchor=\"middle\" x=\"1415\" y=\"-3384.4\" font-family=\"monospace\" font-size=\"12.00\">TanhBackward0</text>\n</g>\n<!-- 139163174017952&#45;&gt;139163174017760 -->\n<g id=\"edge78\" class=\"edge\">\n<title>139163174017952&#45;&gt;139163174017760</title>\n<path fill=\"none\" stroke=\"black\" d=\"M1415,-3376.92C1415,-3369.91 1415,-3360.14 1415,-3351.47\"/>\n<polygon fill=\"black\" stroke=\"black\" points=\"1418.5,-3351.34 1415,-3341.34 1411.5,-3351.34 1418.5,-3351.34\"/>\n</g>\n<!-- 139163174018048 -->\n<g id=\"node63\" class=\"node\">\n<title>139163174018048</title>\n<polygon fill=\"lightgrey\" stroke=\"black\" points=\"1468.5,-3455 1361.5,-3455 1361.5,-3434 1468.5,-3434 1468.5,-3455\"/>\n<text text-anchor=\"middle\" x=\"1415\" y=\"-3441.4\" font-family=\"monospace\" font-size=\"12.00\">AddBackward0</text>\n</g>\n<!-- 139163174018048&#45;&gt;139163174017952 -->\n<g id=\"edge79\" class=\"edge\">\n<title>139163174018048&#45;&gt;139163174017952</title>\n<path fill=\"none\" stroke=\"black\" d=\"M1415,-3433.92C1415,-3426.91 1415,-3417.14 1415,-3408.47\"/>\n<polygon fill=\"black\" stroke=\"black\" points=\"1418.5,-3408.34 1415,-3398.34 1411.5,-3408.34 1418.5,-3408.34\"/>\n</g>\n<!-- 139163174018096&#45;&gt;139163174018048 -->\n<g id=\"edge80\" class=\"edge\">\n<title>139163174018096&#45;&gt;139163174018048</title>\n<path fill=\"none\" stroke=\"black\" d=\"M1415,-3490.92C1415,-3483.91 1415,-3474.14 1415,-3465.47\"/>\n<polygon fill=\"black\" stroke=\"black\" points=\"1418.5,-3465.34 1415,-3455.34 1411.5,-3465.34 1418.5,-3465.34\"/>\n</g>\n<!-- 139163174018288 -->\n<g id=\"node65\" class=\"node\">\n<title>139163174018288</title>\n<polygon fill=\"lightgrey\" stroke=\"black\" points=\"1472,-3569 1358,-3569 1358,-3548 1472,-3548 1472,-3569\"/>\n<text text-anchor=\"middle\" x=\"1415\" y=\"-3555.4\" font-family=\"monospace\" font-size=\"12.00\">TanhBackward0</text>\n</g>\n<!-- 139163174018288&#45;&gt;139163174018096 -->\n<g id=\"edge82\" class=\"edge\">\n<title>139163174018288&#45;&gt;139163174018096</title>\n<path fill=\"none\" stroke=\"black\" d=\"M1415,-3547.92C1415,-3540.91 1415,-3531.14 1415,-3522.47\"/>\n<polygon fill=\"black\" stroke=\"black\" points=\"1418.5,-3522.34 1415,-3512.34 1411.5,-3522.34 1418.5,-3522.34\"/>\n</g>\n<!-- 139163174018384 -->\n<g id=\"node66\" class=\"node\">\n<title>139163174018384</title>\n<polygon fill=\"lightgrey\" stroke=\"black\" points=\"1468.5,-3626 1361.5,-3626 1361.5,-3605 1468.5,-3605 1468.5,-3626\"/>\n<text text-anchor=\"middle\" x=\"1415\" y=\"-3612.4\" font-family=\"monospace\" font-size=\"12.00\">AddBackward0</text>\n</g>\n<!-- 139163174018384&#45;&gt;139163174018288 -->\n<g id=\"edge83\" class=\"edge\">\n<title>139163174018384&#45;&gt;139163174018288</title>\n<path fill=\"none\" stroke=\"black\" d=\"M1415,-3604.92C1415,-3597.91 1415,-3588.14 1415,-3579.47\"/>\n<polygon fill=\"black\" stroke=\"black\" points=\"1418.5,-3579.34 1415,-3569.34 1411.5,-3579.34 1418.5,-3579.34\"/>\n</g>\n<!-- 139163174018432&#45;&gt;139163174018384 -->\n<g id=\"edge84\" class=\"edge\">\n<title>139163174018432&#45;&gt;139163174018384</title>\n<path fill=\"none\" stroke=\"black\" d=\"M1415,-3661.92C1415,-3654.91 1415,-3645.14 1415,-3636.47\"/>\n<polygon fill=\"black\" stroke=\"black\" points=\"1418.5,-3636.34 1415,-3626.34 1411.5,-3636.34 1418.5,-3636.34\"/>\n</g>\n<!-- 139163174018624 -->\n<g id=\"node68\" class=\"node\">\n<title>139163174018624</title>\n<polygon fill=\"lightgrey\" stroke=\"black\" points=\"1472,-3740 1358,-3740 1358,-3719 1472,-3719 1472,-3740\"/>\n<text text-anchor=\"middle\" x=\"1415\" y=\"-3726.4\" font-family=\"monospace\" font-size=\"12.00\">TanhBackward0</text>\n</g>\n<!-- 139163174018624&#45;&gt;139163174018432 -->\n<g id=\"edge86\" class=\"edge\">\n<title>139163174018624&#45;&gt;139163174018432</title>\n<path fill=\"none\" stroke=\"black\" d=\"M1415,-3718.92C1415,-3711.91 1415,-3702.14 1415,-3693.47\"/>\n<polygon fill=\"black\" stroke=\"black\" points=\"1418.5,-3693.34 1415,-3683.34 1411.5,-3693.34 1418.5,-3693.34\"/>\n</g>\n<!-- 139163174018720 -->\n<g id=\"node69\" class=\"node\">\n<title>139163174018720</title>\n<polygon fill=\"lightgrey\" stroke=\"black\" points=\"1468.5,-3797 1361.5,-3797 1361.5,-3776 1468.5,-3776 1468.5,-3797\"/>\n<text text-anchor=\"middle\" x=\"1415\" y=\"-3783.4\" font-family=\"monospace\" font-size=\"12.00\">AddBackward0</text>\n</g>\n<!-- 139163174018720&#45;&gt;139163174018624 -->\n<g id=\"edge87\" class=\"edge\">\n<title>139163174018720&#45;&gt;139163174018624</title>\n<path fill=\"none\" stroke=\"black\" d=\"M1415,-3775.92C1415,-3768.91 1415,-3759.14 1415,-3750.47\"/>\n<polygon fill=\"black\" stroke=\"black\" points=\"1418.5,-3750.34 1415,-3740.34 1411.5,-3750.34 1418.5,-3750.34\"/>\n</g>\n<!-- 139163174018768&#45;&gt;139163174018720 -->\n<g id=\"edge88\" class=\"edge\">\n<title>139163174018768&#45;&gt;139163174018720</title>\n<path fill=\"none\" stroke=\"black\" d=\"M1415,-3832.92C1415,-3825.91 1415,-3816.14 1415,-3807.47\"/>\n<polygon fill=\"black\" stroke=\"black\" points=\"1418.5,-3807.34 1415,-3797.34 1411.5,-3807.34 1418.5,-3807.34\"/>\n</g>\n<!-- 139163174018960 -->\n<g id=\"node71\" class=\"node\">\n<title>139163174018960</title>\n<polygon fill=\"lightgrey\" stroke=\"black\" points=\"1472,-3911 1358,-3911 1358,-3890 1472,-3890 1472,-3911\"/>\n<text text-anchor=\"middle\" x=\"1415\" y=\"-3897.4\" font-family=\"monospace\" font-size=\"12.00\">TanhBackward0</text>\n</g>\n<!-- 139163174018960&#45;&gt;139163174018768 -->\n<g id=\"edge90\" class=\"edge\">\n<title>139163174018960&#45;&gt;139163174018768</title>\n<path fill=\"none\" stroke=\"black\" d=\"M1415,-3889.92C1415,-3882.91 1415,-3873.14 1415,-3864.47\"/>\n<polygon fill=\"black\" stroke=\"black\" points=\"1418.5,-3864.34 1415,-3854.34 1411.5,-3864.34 1418.5,-3864.34\"/>\n</g>\n<!-- 139163174019056 -->\n<g id=\"node72\" class=\"node\">\n<title>139163174019056</title>\n<polygon fill=\"lightgrey\" stroke=\"black\" points=\"1468.5,-3968 1361.5,-3968 1361.5,-3947 1468.5,-3947 1468.5,-3968\"/>\n<text text-anchor=\"middle\" x=\"1415\" y=\"-3954.4\" font-family=\"monospace\" font-size=\"12.00\">AddBackward0</text>\n</g>\n<!-- 139163174019056&#45;&gt;139163174018960 -->\n<g id=\"edge91\" class=\"edge\">\n<title>139163174019056&#45;&gt;139163174018960</title>\n<path fill=\"none\" stroke=\"black\" d=\"M1415,-3946.92C1415,-3939.91 1415,-3930.14 1415,-3921.47\"/>\n<polygon fill=\"black\" stroke=\"black\" points=\"1418.5,-3921.34 1415,-3911.34 1411.5,-3921.34 1418.5,-3921.34\"/>\n</g>\n<!-- 139163174019104&#45;&gt;139163174019056 -->\n<g id=\"edge92\" class=\"edge\">\n<title>139163174019104&#45;&gt;139163174019056</title>\n<path fill=\"none\" stroke=\"black\" d=\"M1415,-4003.92C1415,-3996.91 1415,-3987.14 1415,-3978.47\"/>\n<polygon fill=\"black\" stroke=\"black\" points=\"1418.5,-3978.34 1415,-3968.34 1411.5,-3978.34 1418.5,-3978.34\"/>\n</g>\n<!-- 139163174019296 -->\n<g id=\"node74\" class=\"node\">\n<title>139163174019296</title>\n<polygon fill=\"lightgrey\" stroke=\"black\" points=\"1472,-4082 1358,-4082 1358,-4061 1472,-4061 1472,-4082\"/>\n<text text-anchor=\"middle\" x=\"1415\" y=\"-4068.4\" font-family=\"monospace\" font-size=\"12.00\">TanhBackward0</text>\n</g>\n<!-- 139163174019296&#45;&gt;139163174019104 -->\n<g id=\"edge94\" class=\"edge\">\n<title>139163174019296&#45;&gt;139163174019104</title>\n<path fill=\"none\" stroke=\"black\" d=\"M1415,-4060.92C1415,-4053.91 1415,-4044.14 1415,-4035.47\"/>\n<polygon fill=\"black\" stroke=\"black\" points=\"1418.5,-4035.34 1415,-4025.34 1411.5,-4035.34 1418.5,-4035.34\"/>\n</g>\n<!-- 139163174019392 -->\n<g id=\"node75\" class=\"node\">\n<title>139163174019392</title>\n<polygon fill=\"lightgrey\" stroke=\"black\" points=\"1468.5,-4139 1361.5,-4139 1361.5,-4118 1468.5,-4118 1468.5,-4139\"/>\n<text text-anchor=\"middle\" x=\"1415\" y=\"-4125.4\" font-family=\"monospace\" font-size=\"12.00\">AddBackward0</text>\n</g>\n<!-- 139163174019392&#45;&gt;139163174019296 -->\n<g id=\"edge95\" class=\"edge\">\n<title>139163174019392&#45;&gt;139163174019296</title>\n<path fill=\"none\" stroke=\"black\" d=\"M1415,-4117.92C1415,-4110.91 1415,-4101.14 1415,-4092.47\"/>\n<polygon fill=\"black\" stroke=\"black\" points=\"1418.5,-4092.34 1415,-4082.34 1411.5,-4092.34 1418.5,-4092.34\"/>\n</g>\n<!-- 139163174019440&#45;&gt;139163174019392 -->\n<g id=\"edge96\" class=\"edge\">\n<title>139163174019440&#45;&gt;139163174019392</title>\n<path fill=\"none\" stroke=\"black\" d=\"M1415,-4174.92C1415,-4167.91 1415,-4158.14 1415,-4149.47\"/>\n<polygon fill=\"black\" stroke=\"black\" points=\"1418.5,-4149.34 1415,-4139.34 1411.5,-4149.34 1418.5,-4149.34\"/>\n</g>\n<!-- 139163174019632 -->\n<g id=\"node77\" class=\"node\">\n<title>139163174019632</title>\n<polygon fill=\"lightgrey\" stroke=\"black\" points=\"1472,-4253 1358,-4253 1358,-4232 1472,-4232 1472,-4253\"/>\n<text text-anchor=\"middle\" x=\"1415\" y=\"-4239.4\" font-family=\"monospace\" font-size=\"12.00\">TanhBackward0</text>\n</g>\n<!-- 139163174019632&#45;&gt;139163174019440 -->\n<g id=\"edge98\" class=\"edge\">\n<title>139163174019632&#45;&gt;139163174019440</title>\n<path fill=\"none\" stroke=\"black\" d=\"M1415,-4231.92C1415,-4224.91 1415,-4215.14 1415,-4206.47\"/>\n<polygon fill=\"black\" stroke=\"black\" points=\"1418.5,-4206.34 1415,-4196.34 1411.5,-4206.34 1418.5,-4206.34\"/>\n</g>\n<!-- 139163174019728 -->\n<g id=\"node78\" class=\"node\">\n<title>139163174019728</title>\n<polygon fill=\"lightgrey\" stroke=\"black\" points=\"1468.5,-4310 1361.5,-4310 1361.5,-4289 1468.5,-4289 1468.5,-4310\"/>\n<text text-anchor=\"middle\" x=\"1415\" y=\"-4296.4\" font-family=\"monospace\" font-size=\"12.00\">AddBackward0</text>\n</g>\n<!-- 139163174019728&#45;&gt;139163174019632 -->\n<g id=\"edge99\" class=\"edge\">\n<title>139163174019728&#45;&gt;139163174019632</title>\n<path fill=\"none\" stroke=\"black\" d=\"M1415,-4288.92C1415,-4281.91 1415,-4272.14 1415,-4263.47\"/>\n<polygon fill=\"black\" stroke=\"black\" points=\"1418.5,-4263.34 1415,-4253.34 1411.5,-4263.34 1418.5,-4263.34\"/>\n</g>\n<!-- 139163174019776&#45;&gt;139163174019728 -->\n<g id=\"edge100\" class=\"edge\">\n<title>139163174019776&#45;&gt;139163174019728</title>\n<path fill=\"none\" stroke=\"black\" d=\"M1415,-4345.92C1415,-4338.91 1415,-4329.14 1415,-4320.47\"/>\n<polygon fill=\"black\" stroke=\"black\" points=\"1418.5,-4320.34 1415,-4310.34 1411.5,-4320.34 1418.5,-4320.34\"/>\n</g>\n<!-- 139163174019968 -->\n<g id=\"node80\" class=\"node\">\n<title>139163174019968</title>\n<polygon fill=\"lightgrey\" stroke=\"black\" points=\"1472,-4424 1358,-4424 1358,-4403 1472,-4403 1472,-4424\"/>\n<text text-anchor=\"middle\" x=\"1415\" y=\"-4410.4\" font-family=\"monospace\" font-size=\"12.00\">TanhBackward0</text>\n</g>\n<!-- 139163174019968&#45;&gt;139163174019776 -->\n<g id=\"edge102\" class=\"edge\">\n<title>139163174019968&#45;&gt;139163174019776</title>\n<path fill=\"none\" stroke=\"black\" d=\"M1415,-4402.92C1415,-4395.91 1415,-4386.14 1415,-4377.47\"/>\n<polygon fill=\"black\" stroke=\"black\" points=\"1418.5,-4377.34 1415,-4367.34 1411.5,-4377.34 1418.5,-4377.34\"/>\n</g>\n<!-- 139163174020064 -->\n<g id=\"node81\" class=\"node\">\n<title>139163174020064</title>\n<polygon fill=\"lightgrey\" stroke=\"black\" points=\"1468.5,-4481 1361.5,-4481 1361.5,-4460 1468.5,-4460 1468.5,-4481\"/>\n<text text-anchor=\"middle\" x=\"1415\" y=\"-4467.4\" font-family=\"monospace\" font-size=\"12.00\">AddBackward0</text>\n</g>\n<!-- 139163174020064&#45;&gt;139163174019968 -->\n<g id=\"edge103\" class=\"edge\">\n<title>139163174020064&#45;&gt;139163174019968</title>\n<path fill=\"none\" stroke=\"black\" d=\"M1415,-4459.92C1415,-4452.91 1415,-4443.14 1415,-4434.47\"/>\n<polygon fill=\"black\" stroke=\"black\" points=\"1418.5,-4434.34 1415,-4424.34 1411.5,-4434.34 1418.5,-4434.34\"/>\n</g>\n<!-- 139163174020112&#45;&gt;139163174020064 -->\n<g id=\"edge104\" class=\"edge\">\n<title>139163174020112&#45;&gt;139163174020064</title>\n<path fill=\"none\" stroke=\"black\" d=\"M1415,-4516.92C1415,-4509.91 1415,-4500.14 1415,-4491.47\"/>\n<polygon fill=\"black\" stroke=\"black\" points=\"1418.5,-4491.34 1415,-4481.34 1411.5,-4491.34 1418.5,-4491.34\"/>\n</g>\n<!-- 139163174020304 -->\n<g id=\"node83\" class=\"node\">\n<title>139163174020304</title>\n<polygon fill=\"lightgrey\" stroke=\"black\" points=\"1472,-4595 1358,-4595 1358,-4574 1472,-4574 1472,-4595\"/>\n<text text-anchor=\"middle\" x=\"1415\" y=\"-4581.4\" font-family=\"monospace\" font-size=\"12.00\">TanhBackward0</text>\n</g>\n<!-- 139163174020304&#45;&gt;139163174020112 -->\n<g id=\"edge106\" class=\"edge\">\n<title>139163174020304&#45;&gt;139163174020112</title>\n<path fill=\"none\" stroke=\"black\" d=\"M1415,-4573.92C1415,-4566.91 1415,-4557.14 1415,-4548.47\"/>\n<polygon fill=\"black\" stroke=\"black\" points=\"1418.5,-4548.34 1415,-4538.34 1411.5,-4548.34 1418.5,-4548.34\"/>\n</g>\n<!-- 139163174020400 -->\n<g id=\"node84\" class=\"node\">\n<title>139163174020400</title>\n<polygon fill=\"lightgrey\" stroke=\"black\" points=\"1468.5,-4652 1361.5,-4652 1361.5,-4631 1468.5,-4631 1468.5,-4652\"/>\n<text text-anchor=\"middle\" x=\"1415\" y=\"-4638.4\" font-family=\"monospace\" font-size=\"12.00\">AddBackward0</text>\n</g>\n<!-- 139163174020400&#45;&gt;139163174020304 -->\n<g id=\"edge107\" class=\"edge\">\n<title>139163174020400&#45;&gt;139163174020304</title>\n<path fill=\"none\" stroke=\"black\" d=\"M1415,-4630.92C1415,-4623.91 1415,-4614.14 1415,-4605.47\"/>\n<polygon fill=\"black\" stroke=\"black\" points=\"1418.5,-4605.34 1415,-4595.34 1411.5,-4605.34 1418.5,-4605.34\"/>\n</g>\n<!-- 139163174020448&#45;&gt;139163174020400 -->\n<g id=\"edge108\" class=\"edge\">\n<title>139163174020448&#45;&gt;139163174020400</title>\n<path fill=\"none\" stroke=\"black\" d=\"M1415,-4687.92C1415,-4680.91 1415,-4671.14 1415,-4662.47\"/>\n<polygon fill=\"black\" stroke=\"black\" points=\"1418.5,-4662.34 1415,-4652.34 1411.5,-4662.34 1418.5,-4662.34\"/>\n</g>\n<!-- 139163174020640 -->\n<g id=\"node86\" class=\"node\">\n<title>139163174020640</title>\n<polygon fill=\"lightgrey\" stroke=\"black\" points=\"1472,-4766 1358,-4766 1358,-4745 1472,-4745 1472,-4766\"/>\n<text text-anchor=\"middle\" x=\"1415\" y=\"-4752.4\" font-family=\"monospace\" font-size=\"12.00\">TanhBackward0</text>\n</g>\n<!-- 139163174020640&#45;&gt;139163174020448 -->\n<g id=\"edge110\" class=\"edge\">\n<title>139163174020640&#45;&gt;139163174020448</title>\n<path fill=\"none\" stroke=\"black\" d=\"M1415,-4744.92C1415,-4737.91 1415,-4728.14 1415,-4719.47\"/>\n<polygon fill=\"black\" stroke=\"black\" points=\"1418.5,-4719.34 1415,-4709.34 1411.5,-4719.34 1418.5,-4719.34\"/>\n</g>\n<!-- 139163174020736 -->\n<g id=\"node87\" class=\"node\">\n<title>139163174020736</title>\n<polygon fill=\"lightgrey\" stroke=\"black\" points=\"1468.5,-4823 1361.5,-4823 1361.5,-4802 1468.5,-4802 1468.5,-4823\"/>\n<text text-anchor=\"middle\" x=\"1415\" y=\"-4809.4\" font-family=\"monospace\" font-size=\"12.00\">AddBackward0</text>\n</g>\n<!-- 139163174020736&#45;&gt;139163174020640 -->\n<g id=\"edge111\" class=\"edge\">\n<title>139163174020736&#45;&gt;139163174020640</title>\n<path fill=\"none\" stroke=\"black\" d=\"M1415,-4801.92C1415,-4794.91 1415,-4785.14 1415,-4776.47\"/>\n<polygon fill=\"black\" stroke=\"black\" points=\"1418.5,-4776.34 1415,-4766.34 1411.5,-4776.34 1418.5,-4776.34\"/>\n</g>\n<!-- 139163174020784&#45;&gt;139163174020736 -->\n<g id=\"edge112\" class=\"edge\">\n<title>139163174020784&#45;&gt;139163174020736</title>\n<path fill=\"none\" stroke=\"black\" d=\"M1415,-4858.92C1415,-4851.91 1415,-4842.14 1415,-4833.47\"/>\n<polygon fill=\"black\" stroke=\"black\" points=\"1418.5,-4833.34 1415,-4823.34 1411.5,-4833.34 1418.5,-4833.34\"/>\n</g>\n<!-- 139163174020976 -->\n<g id=\"node89\" class=\"node\">\n<title>139163174020976</title>\n<polygon fill=\"lightgrey\" stroke=\"black\" points=\"1472,-4937 1358,-4937 1358,-4916 1472,-4916 1472,-4937\"/>\n<text text-anchor=\"middle\" x=\"1415\" y=\"-4923.4\" font-family=\"monospace\" font-size=\"12.00\">TanhBackward0</text>\n</g>\n<!-- 139163174020976&#45;&gt;139163174020784 -->\n<g id=\"edge114\" class=\"edge\">\n<title>139163174020976&#45;&gt;139163174020784</title>\n<path fill=\"none\" stroke=\"black\" d=\"M1415,-4915.92C1415,-4908.91 1415,-4899.14 1415,-4890.47\"/>\n<polygon fill=\"black\" stroke=\"black\" points=\"1418.5,-4890.34 1415,-4880.34 1411.5,-4890.34 1418.5,-4890.34\"/>\n</g>\n<!-- 139163174021072 -->\n<g id=\"node90\" class=\"node\">\n<title>139163174021072</title>\n<polygon fill=\"lightgrey\" stroke=\"black\" points=\"1468.5,-4994 1361.5,-4994 1361.5,-4973 1468.5,-4973 1468.5,-4994\"/>\n<text text-anchor=\"middle\" x=\"1415\" y=\"-4980.4\" font-family=\"monospace\" font-size=\"12.00\">AddBackward0</text>\n</g>\n<!-- 139163174021072&#45;&gt;139163174020976 -->\n<g id=\"edge115\" class=\"edge\">\n<title>139163174021072&#45;&gt;139163174020976</title>\n<path fill=\"none\" stroke=\"black\" d=\"M1415,-4972.92C1415,-4965.91 1415,-4956.14 1415,-4947.47\"/>\n<polygon fill=\"black\" stroke=\"black\" points=\"1418.5,-4947.34 1415,-4937.34 1411.5,-4947.34 1418.5,-4947.34\"/>\n</g>\n<!-- 139163174021120&#45;&gt;139163174021072 -->\n<g id=\"edge116\" class=\"edge\">\n<title>139163174021120&#45;&gt;139163174021072</title>\n<path fill=\"none\" stroke=\"black\" d=\"M1415,-5029.92C1415,-5022.91 1415,-5013.14 1415,-5004.47\"/>\n<polygon fill=\"black\" stroke=\"black\" points=\"1418.5,-5004.34 1415,-4994.34 1411.5,-5004.34 1418.5,-5004.34\"/>\n</g>\n<!-- 139163174021312 -->\n<g id=\"node92\" class=\"node\">\n<title>139163174021312</title>\n<polygon fill=\"lightgrey\" stroke=\"black\" points=\"1472,-5108 1358,-5108 1358,-5087 1472,-5087 1472,-5108\"/>\n<text text-anchor=\"middle\" x=\"1415\" y=\"-5094.4\" font-family=\"monospace\" font-size=\"12.00\">TanhBackward0</text>\n</g>\n<!-- 139163174021312&#45;&gt;139163174021120 -->\n<g id=\"edge118\" class=\"edge\">\n<title>139163174021312&#45;&gt;139163174021120</title>\n<path fill=\"none\" stroke=\"black\" d=\"M1415,-5086.92C1415,-5079.91 1415,-5070.14 1415,-5061.47\"/>\n<polygon fill=\"black\" stroke=\"black\" points=\"1418.5,-5061.34 1415,-5051.34 1411.5,-5061.34 1418.5,-5061.34\"/>\n</g>\n<!-- 139163174021408 -->\n<g id=\"node93\" class=\"node\">\n<title>139163174021408</title>\n<polygon fill=\"lightgrey\" stroke=\"black\" points=\"1468.5,-5165 1361.5,-5165 1361.5,-5144 1468.5,-5144 1468.5,-5165\"/>\n<text text-anchor=\"middle\" x=\"1415\" y=\"-5151.4\" font-family=\"monospace\" font-size=\"12.00\">AddBackward0</text>\n</g>\n<!-- 139163174021408&#45;&gt;139163174021312 -->\n<g id=\"edge119\" class=\"edge\">\n<title>139163174021408&#45;&gt;139163174021312</title>\n<path fill=\"none\" stroke=\"black\" d=\"M1415,-5143.92C1415,-5136.91 1415,-5127.14 1415,-5118.47\"/>\n<polygon fill=\"black\" stroke=\"black\" points=\"1418.5,-5118.34 1415,-5108.34 1411.5,-5118.34 1418.5,-5118.34\"/>\n</g>\n<!-- 139163174021456&#45;&gt;139163174021408 -->\n<g id=\"edge120\" class=\"edge\">\n<title>139163174021456&#45;&gt;139163174021408</title>\n<path fill=\"none\" stroke=\"black\" d=\"M1415,-5200.92C1415,-5193.91 1415,-5184.14 1415,-5175.47\"/>\n<polygon fill=\"black\" stroke=\"black\" points=\"1418.5,-5175.34 1415,-5165.34 1411.5,-5175.34 1418.5,-5175.34\"/>\n</g>\n<!-- 139163174021648 -->\n<g id=\"node95\" class=\"node\">\n<title>139163174021648</title>\n<polygon fill=\"lightgrey\" stroke=\"black\" points=\"1472,-5279 1358,-5279 1358,-5258 1472,-5258 1472,-5279\"/>\n<text text-anchor=\"middle\" x=\"1415\" y=\"-5265.4\" font-family=\"monospace\" font-size=\"12.00\">TanhBackward0</text>\n</g>\n<!-- 139163174021648&#45;&gt;139163174021456 -->\n<g id=\"edge122\" class=\"edge\">\n<title>139163174021648&#45;&gt;139163174021456</title>\n<path fill=\"none\" stroke=\"black\" d=\"M1415,-5257.92C1415,-5250.91 1415,-5241.14 1415,-5232.47\"/>\n<polygon fill=\"black\" stroke=\"black\" points=\"1418.5,-5232.34 1415,-5222.34 1411.5,-5232.34 1418.5,-5232.34\"/>\n</g>\n<!-- 139163174021744 -->\n<g id=\"node96\" class=\"node\">\n<title>139163174021744</title>\n<polygon fill=\"lightgrey\" stroke=\"black\" points=\"1468.5,-5336 1361.5,-5336 1361.5,-5315 1468.5,-5315 1468.5,-5336\"/>\n<text text-anchor=\"middle\" x=\"1415\" y=\"-5322.4\" font-family=\"monospace\" font-size=\"12.00\">AddBackward0</text>\n</g>\n<!-- 139163174021744&#45;&gt;139163174021648 -->\n<g id=\"edge123\" class=\"edge\">\n<title>139163174021744&#45;&gt;139163174021648</title>\n<path fill=\"none\" stroke=\"black\" d=\"M1415,-5314.92C1415,-5307.91 1415,-5298.14 1415,-5289.47\"/>\n<polygon fill=\"black\" stroke=\"black\" points=\"1418.5,-5289.34 1415,-5279.34 1411.5,-5289.34 1418.5,-5289.34\"/>\n</g>\n<!-- 139163174021792&#45;&gt;139163174021744 -->\n<g id=\"edge124\" class=\"edge\">\n<title>139163174021792&#45;&gt;139163174021744</title>\n<path fill=\"none\" stroke=\"black\" d=\"M1415,-5371.92C1415,-5364.91 1415,-5355.14 1415,-5346.47\"/>\n<polygon fill=\"black\" stroke=\"black\" points=\"1418.5,-5346.34 1415,-5336.34 1411.5,-5346.34 1418.5,-5346.34\"/>\n</g>\n<!-- 139163174021984 -->\n<g id=\"node98\" class=\"node\">\n<title>139163174021984</title>\n<polygon fill=\"lightgrey\" stroke=\"black\" points=\"1472,-5450 1358,-5450 1358,-5429 1472,-5429 1472,-5450\"/>\n<text text-anchor=\"middle\" x=\"1415\" y=\"-5436.4\" font-family=\"monospace\" font-size=\"12.00\">TanhBackward0</text>\n</g>\n<!-- 139163174021984&#45;&gt;139163174021792 -->\n<g id=\"edge126\" class=\"edge\">\n<title>139163174021984&#45;&gt;139163174021792</title>\n<path fill=\"none\" stroke=\"black\" d=\"M1415,-5428.92C1415,-5421.91 1415,-5412.14 1415,-5403.47\"/>\n<polygon fill=\"black\" stroke=\"black\" points=\"1418.5,-5403.34 1415,-5393.34 1411.5,-5403.34 1418.5,-5403.34\"/>\n</g>\n<!-- 139163174022080 -->\n<g id=\"node99\" class=\"node\">\n<title>139163174022080</title>\n<polygon fill=\"lightgrey\" stroke=\"black\" points=\"1468.5,-5507 1361.5,-5507 1361.5,-5486 1468.5,-5486 1468.5,-5507\"/>\n<text text-anchor=\"middle\" x=\"1415\" y=\"-5493.4\" font-family=\"monospace\" font-size=\"12.00\">AddBackward0</text>\n</g>\n<!-- 139163174022080&#45;&gt;139163174021984 -->\n<g id=\"edge127\" class=\"edge\">\n<title>139163174022080&#45;&gt;139163174021984</title>\n<path fill=\"none\" stroke=\"black\" d=\"M1415,-5485.92C1415,-5478.91 1415,-5469.14 1415,-5460.47\"/>\n<polygon fill=\"black\" stroke=\"black\" points=\"1418.5,-5460.34 1415,-5450.34 1411.5,-5460.34 1418.5,-5460.34\"/>\n</g>\n<!-- 139163174022128&#45;&gt;139163174022080 -->\n<g id=\"edge128\" class=\"edge\">\n<title>139163174022128&#45;&gt;139163174022080</title>\n<path fill=\"none\" stroke=\"black\" d=\"M1415,-5542.92C1415,-5535.91 1415,-5526.14 1415,-5517.47\"/>\n<polygon fill=\"black\" stroke=\"black\" points=\"1418.5,-5517.34 1415,-5507.34 1411.5,-5517.34 1418.5,-5517.34\"/>\n</g>\n<!-- 139163174022320 -->\n<g id=\"node101\" class=\"node\">\n<title>139163174022320</title>\n<polygon fill=\"lightgrey\" stroke=\"black\" points=\"1472,-5621 1358,-5621 1358,-5600 1472,-5600 1472,-5621\"/>\n<text text-anchor=\"middle\" x=\"1415\" y=\"-5607.4\" font-family=\"monospace\" font-size=\"12.00\">TanhBackward0</text>\n</g>\n<!-- 139163174022320&#45;&gt;139163174022128 -->\n<g id=\"edge130\" class=\"edge\">\n<title>139163174022320&#45;&gt;139163174022128</title>\n<path fill=\"none\" stroke=\"black\" d=\"M1415,-5599.92C1415,-5592.91 1415,-5583.14 1415,-5574.47\"/>\n<polygon fill=\"black\" stroke=\"black\" points=\"1418.5,-5574.34 1415,-5564.34 1411.5,-5574.34 1418.5,-5574.34\"/>\n</g>\n<!-- 139163174022416 -->\n<g id=\"node102\" class=\"node\">\n<title>139163174022416</title>\n<polygon fill=\"lightgrey\" stroke=\"black\" points=\"1468.5,-5678 1361.5,-5678 1361.5,-5657 1468.5,-5657 1468.5,-5678\"/>\n<text text-anchor=\"middle\" x=\"1415\" y=\"-5664.4\" font-family=\"monospace\" font-size=\"12.00\">AddBackward0</text>\n</g>\n<!-- 139163174022416&#45;&gt;139163174022320 -->\n<g id=\"edge131\" class=\"edge\">\n<title>139163174022416&#45;&gt;139163174022320</title>\n<path fill=\"none\" stroke=\"black\" d=\"M1415,-5656.92C1415,-5649.91 1415,-5640.14 1415,-5631.47\"/>\n<polygon fill=\"black\" stroke=\"black\" points=\"1418.5,-5631.34 1415,-5621.34 1411.5,-5631.34 1418.5,-5631.34\"/>\n</g>\n<!-- 139163174022464&#45;&gt;139163174022416 -->\n<g id=\"edge132\" class=\"edge\">\n<title>139163174022464&#45;&gt;139163174022416</title>\n<path fill=\"none\" stroke=\"black\" d=\"M1415,-5713.92C1415,-5706.91 1415,-5697.14 1415,-5688.47\"/>\n<polygon fill=\"black\" stroke=\"black\" points=\"1418.5,-5688.34 1415,-5678.34 1411.5,-5688.34 1418.5,-5688.34\"/>\n</g>\n<!-- 139163174022656 -->\n<g id=\"node104\" class=\"node\">\n<title>139163174022656</title>\n<polygon fill=\"lightgrey\" stroke=\"black\" points=\"1472,-5792 1358,-5792 1358,-5771 1472,-5771 1472,-5792\"/>\n<text text-anchor=\"middle\" x=\"1415\" y=\"-5778.4\" font-family=\"monospace\" font-size=\"12.00\">TanhBackward0</text>\n</g>\n<!-- 139163174022656&#45;&gt;139163174022464 -->\n<g id=\"edge134\" class=\"edge\">\n<title>139163174022656&#45;&gt;139163174022464</title>\n<path fill=\"none\" stroke=\"black\" d=\"M1415,-5770.92C1415,-5763.91 1415,-5754.14 1415,-5745.47\"/>\n<polygon fill=\"black\" stroke=\"black\" points=\"1418.5,-5745.34 1415,-5735.34 1411.5,-5745.34 1418.5,-5745.34\"/>\n</g>\n<!-- 139163174022752 -->\n<g id=\"node105\" class=\"node\">\n<title>139163174022752</title>\n<polygon fill=\"lightgrey\" stroke=\"black\" points=\"1468.5,-5849 1361.5,-5849 1361.5,-5828 1468.5,-5828 1468.5,-5849\"/>\n<text text-anchor=\"middle\" x=\"1415\" y=\"-5835.4\" font-family=\"monospace\" font-size=\"12.00\">AddBackward0</text>\n</g>\n<!-- 139163174022752&#45;&gt;139163174022656 -->\n<g id=\"edge135\" class=\"edge\">\n<title>139163174022752&#45;&gt;139163174022656</title>\n<path fill=\"none\" stroke=\"black\" d=\"M1415,-5827.92C1415,-5820.91 1415,-5811.14 1415,-5802.47\"/>\n<polygon fill=\"black\" stroke=\"black\" points=\"1418.5,-5802.34 1415,-5792.34 1411.5,-5802.34 1418.5,-5802.34\"/>\n</g>\n<!-- 139163174022800&#45;&gt;139163174022752 -->\n<g id=\"edge136\" class=\"edge\">\n<title>139163174022800&#45;&gt;139163174022752</title>\n<path fill=\"none\" stroke=\"black\" d=\"M1415,-5884.92C1415,-5877.91 1415,-5868.14 1415,-5859.47\"/>\n<polygon fill=\"black\" stroke=\"black\" points=\"1418.5,-5859.34 1415,-5849.34 1411.5,-5859.34 1418.5,-5859.34\"/>\n</g>\n<!-- 139163174022992 -->\n<g id=\"node107\" class=\"node\">\n<title>139163174022992</title>\n<polygon fill=\"lightgrey\" stroke=\"black\" points=\"1472,-5963 1358,-5963 1358,-5942 1472,-5942 1472,-5963\"/>\n<text text-anchor=\"middle\" x=\"1415\" y=\"-5949.4\" font-family=\"monospace\" font-size=\"12.00\">TanhBackward0</text>\n</g>\n<!-- 139163174022992&#45;&gt;139163174022800 -->\n<g id=\"edge138\" class=\"edge\">\n<title>139163174022992&#45;&gt;139163174022800</title>\n<path fill=\"none\" stroke=\"black\" d=\"M1415,-5941.92C1415,-5934.91 1415,-5925.14 1415,-5916.47\"/>\n<polygon fill=\"black\" stroke=\"black\" points=\"1418.5,-5916.34 1415,-5906.34 1411.5,-5916.34 1418.5,-5916.34\"/>\n</g>\n<!-- 139163174023088 -->\n<g id=\"node108\" class=\"node\">\n<title>139163174023088</title>\n<polygon fill=\"lightgrey\" stroke=\"black\" points=\"1468.5,-6020 1361.5,-6020 1361.5,-5999 1468.5,-5999 1468.5,-6020\"/>\n<text text-anchor=\"middle\" x=\"1415\" y=\"-6006.4\" font-family=\"monospace\" font-size=\"12.00\">AddBackward0</text>\n</g>\n<!-- 139163174023088&#45;&gt;139163174022992 -->\n<g id=\"edge139\" class=\"edge\">\n<title>139163174023088&#45;&gt;139163174022992</title>\n<path fill=\"none\" stroke=\"black\" d=\"M1415,-5998.92C1415,-5991.91 1415,-5982.14 1415,-5973.47\"/>\n<polygon fill=\"black\" stroke=\"black\" points=\"1418.5,-5973.34 1415,-5963.34 1411.5,-5973.34 1418.5,-5973.34\"/>\n</g>\n<!-- 139163174023136&#45;&gt;139163174023088 -->\n<g id=\"edge140\" class=\"edge\">\n<title>139163174023136&#45;&gt;139163174023088</title>\n<path fill=\"none\" stroke=\"black\" d=\"M1415,-6055.92C1415,-6048.91 1415,-6039.14 1415,-6030.47\"/>\n<polygon fill=\"black\" stroke=\"black\" points=\"1418.5,-6030.34 1415,-6020.34 1411.5,-6030.34 1418.5,-6030.34\"/>\n</g>\n<!-- 139163174023328 -->\n<g id=\"node110\" class=\"node\">\n<title>139163174023328</title>\n<polygon fill=\"lightgrey\" stroke=\"black\" points=\"1472,-6134 1358,-6134 1358,-6113 1472,-6113 1472,-6134\"/>\n<text text-anchor=\"middle\" x=\"1415\" y=\"-6120.4\" font-family=\"monospace\" font-size=\"12.00\">TanhBackward0</text>\n</g>\n<!-- 139163174023328&#45;&gt;139163174023136 -->\n<g id=\"edge142\" class=\"edge\">\n<title>139163174023328&#45;&gt;139163174023136</title>\n<path fill=\"none\" stroke=\"black\" d=\"M1415,-6112.92C1415,-6105.91 1415,-6096.14 1415,-6087.47\"/>\n<polygon fill=\"black\" stroke=\"black\" points=\"1418.5,-6087.34 1415,-6077.34 1411.5,-6087.34 1418.5,-6087.34\"/>\n</g>\n<!-- 139163174023424 -->\n<g id=\"node111\" class=\"node\">\n<title>139163174023424</title>\n<polygon fill=\"lightgrey\" stroke=\"black\" points=\"1468.5,-6191 1361.5,-6191 1361.5,-6170 1468.5,-6170 1468.5,-6191\"/>\n<text text-anchor=\"middle\" x=\"1415\" y=\"-6177.4\" font-family=\"monospace\" font-size=\"12.00\">AddBackward0</text>\n</g>\n<!-- 139163174023424&#45;&gt;139163174023328 -->\n<g id=\"edge143\" class=\"edge\">\n<title>139163174023424&#45;&gt;139163174023328</title>\n<path fill=\"none\" stroke=\"black\" d=\"M1415,-6169.92C1415,-6162.91 1415,-6153.14 1415,-6144.47\"/>\n<polygon fill=\"black\" stroke=\"black\" points=\"1418.5,-6144.34 1415,-6134.34 1411.5,-6144.34 1418.5,-6144.34\"/>\n</g>\n<!-- 139163174023472&#45;&gt;139163174023424 -->\n<g id=\"edge144\" class=\"edge\">\n<title>139163174023472&#45;&gt;139163174023424</title>\n<path fill=\"none\" stroke=\"black\" d=\"M1415,-6226.92C1415,-6219.91 1415,-6210.14 1415,-6201.47\"/>\n<polygon fill=\"black\" stroke=\"black\" points=\"1418.5,-6201.34 1415,-6191.34 1411.5,-6201.34 1418.5,-6201.34\"/>\n</g>\n<!-- 139163174023664 -->\n<g id=\"node113\" class=\"node\">\n<title>139163174023664</title>\n<polygon fill=\"lightgrey\" stroke=\"black\" points=\"1472,-6305 1358,-6305 1358,-6284 1472,-6284 1472,-6305\"/>\n<text text-anchor=\"middle\" x=\"1415\" y=\"-6291.4\" font-family=\"monospace\" font-size=\"12.00\">TanhBackward0</text>\n</g>\n<!-- 139163174023664&#45;&gt;139163174023472 -->\n<g id=\"edge146\" class=\"edge\">\n<title>139163174023664&#45;&gt;139163174023472</title>\n<path fill=\"none\" stroke=\"black\" d=\"M1415,-6283.92C1415,-6276.91 1415,-6267.14 1415,-6258.47\"/>\n<polygon fill=\"black\" stroke=\"black\" points=\"1418.5,-6258.34 1415,-6248.34 1411.5,-6258.34 1418.5,-6258.34\"/>\n</g>\n<!-- 139163174023760 -->\n<g id=\"node114\" class=\"node\">\n<title>139163174023760</title>\n<polygon fill=\"lightgrey\" stroke=\"black\" points=\"1468.5,-6362 1361.5,-6362 1361.5,-6341 1468.5,-6341 1468.5,-6362\"/>\n<text text-anchor=\"middle\" x=\"1415\" y=\"-6348.4\" font-family=\"monospace\" font-size=\"12.00\">AddBackward0</text>\n</g>\n<!-- 139163174023760&#45;&gt;139163174023664 -->\n<g id=\"edge147\" class=\"edge\">\n<title>139163174023760&#45;&gt;139163174023664</title>\n<path fill=\"none\" stroke=\"black\" d=\"M1415,-6340.92C1415,-6333.91 1415,-6324.14 1415,-6315.47\"/>\n<polygon fill=\"black\" stroke=\"black\" points=\"1418.5,-6315.34 1415,-6305.34 1411.5,-6315.34 1418.5,-6315.34\"/>\n</g>\n<!-- 139163174023808&#45;&gt;139163174023760 -->\n<g id=\"edge148\" class=\"edge\">\n<title>139163174023808&#45;&gt;139163174023760</title>\n<path fill=\"none\" stroke=\"black\" d=\"M1412.52,-6397.92C1412.91,-6390.91 1413.44,-6381.14 1413.91,-6372.47\"/>\n<polygon fill=\"black\" stroke=\"black\" points=\"1417.41,-6372.52 1414.46,-6362.34 1410.42,-6372.14 1417.41,-6372.52\"/>\n</g>\n<!-- 139163174012288 -->\n<g id=\"node116\" class=\"node\">\n<title>139163174012288</title>\n<polygon fill=\"lightgrey\" stroke=\"black\" points=\"2207,-6419 2085,-6419 2085,-6398 2207,-6398 2207,-6419\"/>\n<text text-anchor=\"middle\" x=\"2146\" y=\"-6405.4\" font-family=\"monospace\" font-size=\"12.00\">AccumulateGrad</text>\n</g>\n<!-- 139163174012288&#45;&gt;139163174012096 -->\n<g id=\"edge187\" class=\"edge\">\n<title>139163174012288&#45;&gt;139163174012096</title>\n<path fill=\"none\" stroke=\"black\" d=\"M2207.16,-6407.85C2341.36,-6407.82 2657.47,-6403.23 2755,-6362 2796.03,-6344.65 2830,-6340.05 2830,-6295.5 2830,-6295.5 2830,-6295.5 2830,-308.5 2830,-243.57 2359.38,-210.07 2185.54,-199.91\"/>\n<polygon fill=\"black\" stroke=\"black\" points=\"2185.69,-196.41 2175.51,-199.33 2185.29,-203.4 2185.69,-196.41\"/>\n</g>\n<!-- 139163174012288&#45;&gt;139163174011712 -->\n<g id=\"edge186\" class=\"edge\">\n<title>139163174012288&#45;&gt;139163174011712</title>\n<path fill=\"none\" stroke=\"black\" d=\"M2207.06,-6407.43C2334.73,-6406.51 2625.56,-6400.16 2716,-6362 2757.35,-6344.55 2792,-6340.38 2792,-6295.5 2792,-6295.5 2792,-6295.5 2792,-479.5 2792,-414.17 2318.17,-380.89 2143.59,-370.85\"/>\n<polygon fill=\"black\" stroke=\"black\" points=\"2143.7,-367.35 2133.52,-370.28 2143.3,-374.34 2143.7,-367.35\"/>\n</g>\n<!-- 139163174012288&#45;&gt;139163174012672 -->\n<g id=\"edge185\" class=\"edge\">\n<title>139163174012288&#45;&gt;139163174012672</title>\n<path fill=\"none\" stroke=\"black\" d=\"M2207.26,-6407.07C2328.72,-6405.45 2595.57,-6397.79 2679,-6362 2719.94,-6344.44 2754,-6340.05 2754,-6295.5 2754,-6295.5 2754,-6295.5 2754,-650.5 2754,-588.91 2310.93,-553.6 2142.73,-542.42\"/>\n<polygon fill=\"black\" stroke=\"black\" points=\"2142.74,-538.91 2132.53,-541.75 2142.28,-545.89 2142.74,-538.91\"/>\n</g>\n<!-- 139163174012288&#45;&gt;139163174011184 -->\n<g id=\"edge184\" class=\"edge\">\n<title>139163174012288&#45;&gt;139163174011184</title>\n<path fill=\"none\" stroke=\"black\" d=\"M2207.27,-6408.25C2354.49,-6408.4 2716,-6398.3 2716,-6295.5 2716,-6295.5 2716,-6295.5 2716,-821.5 2716,-730.12 2027.18,-713.21 1811.06,-710.16\"/>\n<polygon fill=\"black\" stroke=\"black\" points=\"1810.87,-706.65 1800.83,-710.02 1810.78,-713.65 1810.87,-706.65\"/>\n</g>\n<!-- 139163174012288&#45;&gt;139163174013008 -->\n<g id=\"edge183\" class=\"edge\">\n<title>139163174012288&#45;&gt;139163174013008</title>\n<path fill=\"none\" stroke=\"black\" d=\"M2207.2,-6406.05C2314.91,-6402.74 2533.51,-6392.39 2603,-6362 2643.82,-6344.15 2678,-6340.05 2678,-6295.5 2678,-6295.5 2678,-6295.5 2678,-992.5 2678,-887.92 1878.84,-880.27 1644.72,-880.27\"/>\n<polygon fill=\"black\" stroke=\"black\" points=\"1644.65,-876.77 1634.65,-880.28 1644.65,-883.77 1644.65,-876.77\"/>\n</g>\n<!-- 139163174012288&#45;&gt;139163174013344 -->\n<g id=\"edge182\" class=\"edge\">\n<title>139163174012288&#45;&gt;139163174013344</title>\n<path fill=\"none\" stroke=\"black\" d=\"M2207.04,-6405.48C2307.62,-6401.38 2503.3,-6390 2566,-6362 2606.37,-6343.97 2640,-6339.72 2640,-6295.5 2640,-6295.5 2640,-6295.5 2640,-1163.5 2640,-1054.31 1802.42,-1050 1561.88,-1051.01\"/>\n<polygon fill=\"black\" stroke=\"black\" points=\"1561.53,-1047.51 1551.55,-1051.06 1561.57,-1054.51 1561.53,-1047.51\"/>\n</g>\n<!-- 139163174012288&#45;&gt;139163174013680 -->\n<g id=\"edge181\" class=\"edge\">\n<title>139163174012288&#45;&gt;139163174013680</title>\n<path fill=\"none\" stroke=\"black\" d=\"M2207.11,-6404.84C2300.54,-6400.01 2473.98,-6387.81 2530,-6362 2569.56,-6343.77 2602,-6339.06 2602,-6295.5 2602,-6295.5 2602,-6295.5 2602,-1334.5 2602,-1224.88 1760.65,-1220.88 1519.74,-1221.99\"/>\n<polygon fill=\"black\" stroke=\"black\" points=\"1519.72,-1218.49 1509.74,-1222.04 1519.75,-1225.49 1519.72,-1218.49\"/>\n</g>\n<!-- 139163174012288&#45;&gt;139163174014016 -->\n<g id=\"edge180\" class=\"edge\">\n<title>139163174012288&#45;&gt;139163174014016</title>\n<path fill=\"none\" stroke=\"black\" d=\"M2207.27,-6404.13C2293.46,-6398.61 2445.51,-6385.8 2495,-6362 2533.38,-6343.54 2564,-6338.09 2564,-6295.5 2564,-6295.5 2564,-6295.5 2564,-1505.5 2564,-1397.66 1737.81,-1392.36 1498.95,-1393.08\"/>\n<polygon fill=\"black\" stroke=\"black\" points=\"1498.68,-1389.59 1488.69,-1393.12 1498.71,-1396.59 1498.68,-1389.59\"/>\n</g>\n<!-- 139163174012288&#45;&gt;139163174014352 -->\n<g id=\"edge179\" class=\"edge\">\n<title>139163174012288&#45;&gt;139163174014352</title>\n<path fill=\"none\" stroke=\"black\" d=\"M2207.03,-6403.35C2285.77,-6397.2 2417.77,-6383.96 2461,-6362 2497.85,-6343.28 2526,-6336.83 2526,-6295.5 2526,-6295.5 2526,-6295.5 2526,-1676.5 2526,-1571.55 1723.92,-1564.16 1488.95,-1564.25\"/>\n<polygon fill=\"black\" stroke=\"black\" points=\"1488.85,-1560.75 1478.85,-1564.26 1488.85,-1567.75 1488.85,-1560.75\"/>\n</g>\n<!-- 139163174012288&#45;&gt;139163174014688 -->\n<g id=\"edge178\" class=\"edge\">\n<title>139163174012288&#45;&gt;139163174014688</title>\n<path fill=\"none\" stroke=\"black\" d=\"M2207.1,-6402.6C2278.82,-6396.01 2392.72,-6382.67 2430,-6362 2464.3,-6342.98 2488,-6334.72 2488,-6295.5 2488,-6295.5 2488,-6295.5 2488,-1847.5 2488,-1745.94 1714.23,-1736.13 1483.92,-1735.46\"/>\n<polygon fill=\"black\" stroke=\"black\" points=\"1483.7,-1731.95 1473.69,-1735.43 1483.69,-1738.95 1483.7,-1731.95\"/>\n</g>\n<!-- 139163174012288&#45;&gt;139163174015024 -->\n<g id=\"edge177\" class=\"edge\">\n<title>139163174012288&#45;&gt;139163174015024</title>\n<path fill=\"none\" stroke=\"black\" d=\"M2207.2,-6401.94C2272.35,-6395.1 2370.32,-6381.9 2402,-6362 2432.87,-6342.62 2450,-6331.95 2450,-6295.5 2450,-6295.5 2450,-6295.5 2450,-2018.5 2450,-1920.51 1705.81,-1908.18 1480.73,-1906.69\"/>\n<polygon fill=\"black\" stroke=\"black\" points=\"1480.74,-1903.19 1470.72,-1906.63 1480.7,-1910.19 1480.74,-1903.19\"/>\n</g>\n<!-- 139163174012288&#45;&gt;139163174015360 -->\n<g id=\"edge176\" class=\"edge\">\n<title>139163174012288&#45;&gt;139163174015360</title>\n<path fill=\"none\" stroke=\"black\" d=\"M2207.03,-6407.39C2285.56,-6403.67 2412,-6383.94 2412,-6295.5 2412,-6295.5 2412,-6295.5 2412,-2189.5 2412,-2095.29 1699.24,-2080.32 1479.63,-2077.95\"/>\n<polygon fill=\"black\" stroke=\"black\" points=\"1479.58,-2074.45 1469.55,-2077.84 1479.51,-2081.45 1479.58,-2074.45\"/>\n</g>\n<!-- 139163174012288&#45;&gt;139163174015696 -->\n<g id=\"edge175\" class=\"edge\">\n<title>139163174012288&#45;&gt;139163174015696</title>\n<path fill=\"none\" stroke=\"black\" d=\"M2207.1,-6403.31C2274.64,-6394.97 2374,-6370.03 2374,-6295.5 2374,-6295.5 2374,-6295.5 2374,-2360.5 2374,-2270.1 1693.06,-2252.52 1478.76,-2249.23\"/>\n<polygon fill=\"black\" stroke=\"black\" points=\"1478.67,-2245.73 1468.61,-2249.08 1478.56,-2252.73 1478.67,-2245.73\"/>\n</g>\n<!-- 139163174012288&#45;&gt;139163174016032 -->\n<g id=\"edge174\" class=\"edge\">\n<title>139163174012288&#45;&gt;139163174016032</title>\n<path fill=\"none\" stroke=\"black\" d=\"M2205.86,-6397.97C2261.55,-6385.29 2336,-6356.86 2336,-6295.5 2336,-6295.5 2336,-6295.5 2336,-2531.5 2336,-2445.02 1687.9,-2424.82 1479.03,-2420.55\"/>\n<polygon fill=\"black\" stroke=\"black\" points=\"1478.9,-2417.05 1468.84,-2420.35 1478.76,-2424.05 1478.9,-2417.05\"/>\n</g>\n<!-- 139163174012288&#45;&gt;139163174016368 -->\n<g id=\"edge173\" class=\"edge\">\n<title>139163174012288&#45;&gt;139163174016368</title>\n<path fill=\"none\" stroke=\"black\" d=\"M2182.79,-6397.94C2227.78,-6383.78 2298,-6352.54 2298,-6295.5 2298,-6295.5 2298,-6295.5 2298,-2702.5 2298,-2619.86 1681.51,-2597.13 1478.77,-2591.89\"/>\n<polygon fill=\"black\" stroke=\"black\" points=\"1478.66,-2588.38 1468.58,-2591.63 1478.48,-2595.38 1478.66,-2588.38\"/>\n</g>\n<!-- 139163174012288&#45;&gt;139163174016704 -->\n<g id=\"edge172\" class=\"edge\">\n<title>139163174012288&#45;&gt;139163174016704</title>\n<path fill=\"none\" stroke=\"black\" d=\"M2168.25,-6397.89C2201.43,-6381.88 2260,-6346.41 2260,-6295.5 2260,-6295.5 2260,-6295.5 2260,-2873.5 2260,-2794.77 1676.03,-2769.54 1479.02,-2763.26\"/>\n<polygon fill=\"black\" stroke=\"black\" points=\"1478.93,-2759.76 1468.82,-2762.95 1478.71,-2766.76 1478.93,-2759.76\"/>\n</g>\n<!-- 139163174012288&#45;&gt;139163174017040 -->\n<g id=\"edge171\" class=\"edge\">\n<title>139163174012288&#45;&gt;139163174017040</title>\n<path fill=\"none\" stroke=\"black\" d=\"M2158.55,-6397.91C2180.14,-6380.22 2222,-6340.15 2222,-6295.5 2222,-6295.5 2222,-6295.5 2222,-3044.5 2222,-2969.59 1669.34,-2941.96 1478.72,-2934.66\"/>\n<polygon fill=\"black\" stroke=\"black\" points=\"1478.7,-2931.16 1468.57,-2934.28 1478.44,-2938.15 1478.7,-2931.16\"/>\n</g>\n<!-- 139163174012288&#45;&gt;139163174017376 -->\n<g id=\"edge170\" class=\"edge\">\n<title>139163174012288&#45;&gt;139163174017376</title>\n<path fill=\"none\" stroke=\"black\" d=\"M2151.61,-6397.98C2162.18,-6379.11 2184,-6335.33 2184,-6295.5 2184,-6295.5 2184,-6295.5 2184,-3215.5 2184,-3144.45 1663.36,-3114.5 1478.87,-3106.11\"/>\n<polygon fill=\"black\" stroke=\"black\" points=\"1478.92,-3102.61 1468.77,-3105.66 1478.6,-3109.6 1478.92,-3102.61\"/>\n</g>\n<!-- 139163174012288&#45;&gt;139163174017712 -->\n<g id=\"edge169\" class=\"edge\">\n<title>139163174012288&#45;&gt;139163174017712</title>\n<path fill=\"none\" stroke=\"black\" d=\"M2146,-6397.91C2146,-6378.55 2146,-6333.42 2146,-6295.5 2146,-6295.5 2146,-6295.5 2146,-3386.5 2146,-3319.28 1656.75,-3287.08 1478.76,-3277.6\"/>\n<polygon fill=\"black\" stroke=\"black\" points=\"1478.92,-3274.1 1468.75,-3277.07 1478.55,-3281.09 1478.92,-3274.1\"/>\n</g>\n<!-- 139163174012288&#45;&gt;139163174018048 -->\n<g id=\"edge168\" class=\"edge\">\n<title>139163174012288&#45;&gt;139163174018048</title>\n<path fill=\"none\" stroke=\"black\" d=\"M2140.39,-6397.98C2129.82,-6379.11 2108,-6335.33 2108,-6295.5 2108,-6295.5 2108,-6295.5 2108,-3557.5 2108,-3494.09 1649.97,-3459.76 1478.65,-3449.13\"/>\n<polygon fill=\"black\" stroke=\"black\" points=\"1478.71,-3445.63 1468.51,-3448.51 1478.28,-3452.62 1478.71,-3445.63\"/>\n</g>\n<!-- 139163174012288&#45;&gt;139163174018384 -->\n<g id=\"edge167\" class=\"edge\">\n<title>139163174012288&#45;&gt;139163174018384</title>\n<path fill=\"none\" stroke=\"black\" d=\"M2131.39,-6397.87C2119.83,-6389.58 2104.01,-6376.66 2094,-6362 2076.28,-6336.05 2070,-6326.92 2070,-6295.5 2070,-6295.5 2070,-6295.5 2070,-3728.5 2070,-3668.89 1643.1,-3632.53 1478.58,-3620.73\"/>\n<polygon fill=\"black\" stroke=\"black\" points=\"1478.82,-3617.24 1468.6,-3620.02 1478.33,-3624.22 1478.82,-3617.24\"/>\n</g>\n<!-- 139163174012288&#45;&gt;139163174018720 -->\n<g id=\"edge166\" class=\"edge\">\n<title>139163174012288&#45;&gt;139163174018720</title>\n<path fill=\"none\" stroke=\"black\" d=\"M2113.89,-6398C2094.77,-6390.86 2071.32,-6379.31 2056,-6362 2035.17,-6338.47 2032,-6326.92 2032,-6295.5 2032,-6295.5 2032,-6295.5 2032,-3899.5 2032,-3843.71 1636.35,-3805.45 1478.71,-3792.42\"/>\n<polygon fill=\"black\" stroke=\"black\" points=\"1478.93,-3788.93 1468.68,-3791.6 1478.36,-3795.9 1478.93,-3788.93\"/>\n</g>\n<!-- 139163174012288&#45;&gt;139163174019056 -->\n<g id=\"edge165\" class=\"edge\">\n<title>139163174012288&#45;&gt;139163174019056</title>\n<path fill=\"none\" stroke=\"black\" d=\"M2086.86,-6397.93C2062.85,-6391.37 2036.47,-6380.38 2018,-6362 1995.73,-6339.84 1994,-6326.92 1994,-6295.5 1994,-6295.5 1994,-6295.5 1994,-4070.5 1994,-3966.47 1629.19,-3957.03 1478.72,-3957.55\"/>\n<polygon fill=\"black\" stroke=\"black\" points=\"1478.67,-3954.05 1468.69,-3957.6 1478.71,-3961.05 1478.67,-3954.05\"/>\n</g>\n<!-- 139163174012288&#45;&gt;139163174019392 -->\n<g id=\"edge164\" class=\"edge\">\n<title>139163174012288&#45;&gt;139163174019392</title>\n<path fill=\"none\" stroke=\"black\" d=\"M2084.88,-6404.33C2050.24,-6399.51 2008.31,-6388.16 1980,-6362 1956.92,-6340.67 1956,-6326.92 1956,-6295.5 1956,-6295.5 1956,-6295.5 1956,-4241.5 1956,-4145.12 1622.59,-4131.04 1479.25,-4129.44\"/>\n<polygon fill=\"black\" stroke=\"black\" points=\"1478.88,-4125.94 1468.85,-4129.34 1478.82,-4132.94 1478.88,-4125.94\"/>\n</g>\n<!-- 139163174012288&#45;&gt;139163174019728 -->\n<g id=\"edge163\" class=\"edge\">\n<title>139163174012288&#45;&gt;139163174019728</title>\n<path fill=\"none\" stroke=\"black\" d=\"M2084.89,-6400.42C2032.76,-6393.22 1963,-6380.49 1942,-6362 1918.42,-6341.24 1918,-6326.92 1918,-6295.5 1918,-6295.5 1918,-6295.5 1918,-4412.5 1918,-4323.56 1614.6,-4305.21 1479.07,-4301.46\"/>\n<polygon fill=\"black\" stroke=\"black\" points=\"1478.92,-4297.95 1468.83,-4301.19 1478.74,-4304.95 1478.92,-4297.95\"/>\n</g>\n<!-- 139163174012288&#45;&gt;139163174020064 -->\n<g id=\"edge162\" class=\"edge\">\n<title>139163174012288&#45;&gt;139163174020064</title>\n<path fill=\"none\" stroke=\"black\" d=\"M2084.76,-6402.87C2022.22,-6396.97 1930.65,-6384.69 1904,-6362 1880.07,-6341.63 1880,-6326.92 1880,-6295.5 1880,-6295.5 1880,-6295.5 1880,-4583.5 1880,-4501.94 1606.23,-4479.6 1478.82,-4473.62\"/>\n<polygon fill=\"black\" stroke=\"black\" points=\"1478.94,-4470.13 1468.8,-4473.17 1478.63,-4477.12 1478.94,-4470.13\"/>\n</g>\n<!-- 139163174012288&#45;&gt;139163174020400 -->\n<g id=\"edge161\" class=\"edge\">\n<title>139163174012288&#45;&gt;139163174020400</title>\n<path fill=\"none\" stroke=\"black\" d=\"M2084.93,-6404.7C2012.78,-6400.19 1898.45,-6388.93 1866,-6362 1841.82,-6341.93 1842,-6326.92 1842,-6295.5 1842,-6295.5 1842,-6295.5 1842,-4754.5 1842,-4680.31 1597.77,-4654.28 1478.73,-4645.99\"/>\n<polygon fill=\"black\" stroke=\"black\" points=\"1478.86,-4642.5 1468.65,-4645.32 1478.39,-4649.48 1478.86,-4642.5\"/>\n</g>\n<!-- 139163174012288&#45;&gt;139163174020736 -->\n<g id=\"edge160\" class=\"edge\">\n<title>139163174012288&#45;&gt;139163174020736</title>\n<path fill=\"none\" stroke=\"black\" d=\"M2084.78,-6406.08C2003.64,-6402.98 1866.28,-6393.16 1828,-6362 1803.63,-6342.16 1804,-6326.92 1804,-6295.5 1804,-6295.5 1804,-6295.5 1804,-4925.5 1804,-4858.63 1589.03,-4829.28 1478.7,-4818.63\"/>\n<polygon fill=\"black\" stroke=\"black\" points=\"1478.96,-4815.14 1468.68,-4817.69 1478.31,-4822.11 1478.96,-4815.14\"/>\n</g>\n<!-- 139163174012288&#45;&gt;139163174021072 -->\n<g id=\"edge159\" class=\"edge\">\n<title>139163174012288&#45;&gt;139163174021072</title>\n<path fill=\"none\" stroke=\"black\" d=\"M2084.68,-6407.18C1995.07,-6405.48 1834.18,-6397.42 1790,-6362 1765.48,-6342.35 1766,-6326.92 1766,-6295.5 1766,-6295.5 1766,-6295.5 1766,-5096.5 1766,-5036.9 1580.01,-5004.72 1478.81,-4991.63\"/>\n<polygon fill=\"black\" stroke=\"black\" points=\"1479.05,-4988.13 1468.69,-4990.34 1478.17,-4995.07 1479.05,-4988.13\"/>\n</g>\n<!-- 139163174012288&#45;&gt;139163174021408 -->\n<g id=\"edge158\" class=\"edge\">\n<title>139163174012288&#45;&gt;139163174021408</title>\n<path fill=\"none\" stroke=\"black\" d=\"M2085,-6408.07C1987.45,-6407.76 1802.21,-6401.75 1752,-6362 1727.37,-6342.49 1728,-6326.92 1728,-6295.5 1728,-6295.5 1728,-6295.5 1728,-5267.5 1728,-5215.07 1570.34,-5180.65 1478.81,-5165.08\"/>\n<polygon fill=\"black\" stroke=\"black\" points=\"1479.25,-5161.6 1468.81,-5163.41 1478.09,-5168.51 1479.25,-5161.6\"/>\n</g>\n<!-- 139163174012288&#45;&gt;139163174021744 -->\n<g id=\"edge157\" class=\"edge\">\n<title>139163174012288&#45;&gt;139163174021744</title>\n<path fill=\"none\" stroke=\"black\" d=\"M2084.72,-6404.62C1972.44,-6398.83 1742.57,-6384.39 1714,-6362 1689.27,-6342.62 1690,-6326.92 1690,-6295.5 1690,-6295.5 1690,-6295.5 1690,-5438.5 1690,-5392.28 1555.05,-5355.85 1474.22,-5338.18\"/>\n<polygon fill=\"black\" stroke=\"black\" points=\"1474.68,-5334.7 1464.16,-5336.02 1473.2,-5341.54 1474.68,-5334.7\"/>\n</g>\n<!-- 139163174012288&#45;&gt;139163174022080 -->\n<g id=\"edge156\" class=\"edge\">\n<title>139163174012288&#45;&gt;139163174022080</title>\n<path fill=\"none\" stroke=\"black\" d=\"M2084.96,-6405.2C1965.06,-6400.15 1707.64,-6386.58 1676,-6362 1651.19,-6342.72 1652,-6326.92 1652,-6295.5 1652,-6295.5 1652,-6295.5 1652,-5609.5 1652,-5532.72 1549.08,-5508.5 1478.88,-5500.91\"/>\n<polygon fill=\"black\" stroke=\"black\" points=\"1479.08,-5497.41 1468.78,-5499.9 1478.38,-5504.37 1479.08,-5497.41\"/>\n</g>\n<!-- 139163174012288&#45;&gt;139163174022416 -->\n<g id=\"edge155\" class=\"edge\">\n<title>139163174012288&#45;&gt;139163174022416</title>\n<path fill=\"none\" stroke=\"black\" d=\"M2084.93,-6405.67C1957.62,-6401.35 1672.71,-6388.77 1638,-6362 1613.12,-6342.81 1614,-6326.92 1614,-6295.5 1614,-6295.5 1614,-6295.5 1614,-5780.5 1614,-5717.26 1536.73,-5689.34 1478.49,-5677.29\"/>\n<polygon fill=\"black\" stroke=\"black\" points=\"1479.08,-5673.83 1468.59,-5675.35 1477.73,-5680.7 1479.08,-5673.83\"/>\n</g>\n<!-- 139163174012288&#45;&gt;139163174022752 -->\n<g id=\"edge154\" class=\"edge\">\n<title>139163174012288&#45;&gt;139163174022752</title>\n<path fill=\"none\" stroke=\"black\" d=\"M2084.97,-6406.09C1950.55,-6402.45 1637.8,-6390.96 1600,-6362 1575.06,-6342.89 1576,-6326.92 1576,-6295.5 1576,-6295.5 1576,-6295.5 1576,-5951.5 1576,-5897.14 1513.39,-5867.02 1466.26,-5852.05\"/>\n<polygon fill=\"black\" stroke=\"black\" points=\"1467.05,-5848.64 1456.46,-5849.09 1465.02,-5855.34 1467.05,-5848.64\"/>\n</g>\n<!-- 139163174012288&#45;&gt;139163174023088 -->\n<g id=\"edge153\" class=\"edge\">\n<title>139163174012288&#45;&gt;139163174023088</title>\n<path fill=\"none\" stroke=\"black\" d=\"M2084.99,-6406.45C1943.69,-6403.49 1602.9,-6393.16 1562,-6362 1537.01,-6342.96 1538,-6326.92 1538,-6295.5 1538,-6295.5 1538,-6295.5 1538,-6122.5 1538,-6074.38 1485.9,-6041.46 1449.52,-6024.33\"/>\n<polygon fill=\"black\" stroke=\"black\" points=\"1450.74,-6021.04 1440.19,-6020.12 1447.86,-6027.42 1450.74,-6021.04\"/>\n</g>\n<!-- 139163174012288&#45;&gt;139163174023424 -->\n<g id=\"edge152\" class=\"edge\">\n<title>139163174012288&#45;&gt;139163174023424</title>\n<path fill=\"none\" stroke=\"black\" d=\"M2084.9,-6406.74C1936.91,-6404.37 1568.14,-6395.18 1524,-6362 1472.85,-6323.56 1511.92,-6278.54 1474,-6227 1465.08,-6214.88 1452.08,-6204.38 1440.56,-6196.53\"/>\n<polygon fill=\"black\" stroke=\"black\" points=\"1442.41,-6193.56 1432.12,-6191.06 1438.61,-6199.43 1442.41,-6193.56\"/>\n</g>\n<!-- 139163174012288&#45;&gt;139163174023760 -->\n<g id=\"edge150\" class=\"edge\">\n<title>139163174012288&#45;&gt;139163174023760</title>\n<path fill=\"none\" stroke=\"black\" d=\"M2084.92,-6404.6C1968.31,-6398.78 1705.97,-6384.28 1486,-6362 1483.65,-6361.76 1481.26,-6361.51 1478.85,-6361.24\"/>\n<polygon fill=\"black\" stroke=\"black\" points=\"1479.18,-6357.75 1468.84,-6360.07 1478.37,-6364.71 1479.18,-6357.75\"/>\n</g>\n<!-- 139163180494544 -->\n<g id=\"node117\" class=\"node\">\n<title>139163180494544</title>\n<polygon fill=\"lightblue\" stroke=\"black\" points=\"2173,-6489 2119,-6489 2119,-6455 2173,-6455 2173,-6489\"/>\n<text text-anchor=\"middle\" x=\"2146\" y=\"-6475.4\" font-family=\"monospace\" font-size=\"12.00\">x</text>\n<text text-anchor=\"middle\" x=\"2146\" y=\"-6462.4\" font-family=\"monospace\" font-size=\"12.00\"> (10)</text>\n</g>\n<!-- 139163180494544&#45;&gt;139163174012288 -->\n<g id=\"edge151\" class=\"edge\">\n<title>139163180494544&#45;&gt;139163174012288</title>\n<path fill=\"none\" stroke=\"black\" d=\"M2146,-6454.84C2146,-6447.01 2146,-6437.54 2146,-6429.28\"/>\n<polygon fill=\"black\" stroke=\"black\" points=\"2149.5,-6429.04 2146,-6419.04 2142.5,-6429.04 2149.5,-6429.04\"/>\n</g>\n</g>\n</svg>\n",
            "text/plain": [
              "<graphviz.graphs.Digraph at 0x7e91738d8520>"
            ]
          },
          "metadata": {},
          "execution_count": 14
        }
      ]
    },
    {
      "cell_type": "markdown",
      "source": [
        "# limitation of the approach above\n",
        "- if we draw the conputational graph, we can see multiple iterations of the solver\n",
        "- differentiating through all unrolled iterations of the solver can be very ineeficient\n",
        "\n",
        "**Solution: IMPLICIT Function Theorem**\n",
        "- We find the expression for the derivative of the fixed point solution using only derivative information of the function f at the fixed point itself. We can save memory!\n",
        "- Most important take away\n",
        "            ∂z∗(a0)=[I−∂1f(a0,z0)]−1∂1f(a0,z0)"
      ],
      "metadata": {
        "id": "Pblx5c5IgbSz"
      }
    },
    {
      "cell_type": "markdown",
      "source": [
        "# The two transformations of autodiff: JVPs and VJPs"
      ],
      "metadata": {
        "id": "BucH0JzBbXJL"
      }
    },
    {
      "cell_type": "markdown",
      "source": [
        "# Jacobian Vector Product (JVP)\n",
        "- If your automatic differentiation system implements JVPs, that means you can evaluate Jacobian matrices one column at a time.\n",
        "- Each evaluation of a JVP has a similar cost to evaluation of the original function f, requiring at most a small constant multiple of the FLOPs and memory for typical functions"
      ],
      "metadata": {
        "id": "9zFpDhmCeXbj"
      }
    },
    {
      "cell_type": "code",
      "source": [
        "# JVP: Forward-mode automatic differentiation\n",
        "def f(x):\n",
        "  return torch.sin(x) * x**2\n",
        "\n",
        "x = torch.tensor(2.0, requires_grad=True)\n",
        "y = f(x)\n",
        "print(y)"
      ],
      "metadata": {
        "id": "5NjjFqMfga8j",
        "colab": {
          "base_uri": "https://localhost:8080/"
        },
        "outputId": "26ffbce3-b42a-47ca-9d8b-e7ea551ae7ba"
      },
      "execution_count": null,
      "outputs": [
        {
          "output_type": "stream",
          "name": "stdout",
          "text": [
            "tensor(3.6372, grad_fn=<MulBackward0>)\n"
          ]
        }
      ]
    },
    {
      "cell_type": "code",
      "source": [
        "with torch.profiler.profile(\n",
        "    activities=[\n",
        "        torch.profiler.ProfilerActivity.CPU,\n",
        "        torch.profiler.ProfilerActivity.CUDA,\n",
        "    ],\n",
        "    record_shapes=True,\n",
        "    profile_memory=True,\n",
        "    with_stack=True\n",
        ") as prof:\n",
        "  delta_x = torch.tensor(1.0)\n",
        "  y, delta_y = functional.jvp(f, (x,), (delta_x,), create_graph=True)\n",
        "  print(y)\n",
        "  print(delta_y)\n",
        "\n",
        "# Here, \\Delta y represents the value of Δy=∂f(x)Δx, evaluated x=2 and Δx=1"
      ],
      "metadata": {
        "colab": {
          "base_uri": "https://localhost:8080/"
        },
        "id": "yXz4MbiTci6_",
        "outputId": "8c1ebd56-ded5-4747-affa-c43485d63a27"
      },
      "execution_count": null,
      "outputs": [
        {
          "output_type": "stream",
          "name": "stderr",
          "text": [
            "/usr/local/lib/python3.10/dist-packages/torch/autograd/profiler.py:228: UserWarning: CUDA is not available, disabling CUDA profiling\n",
            "  warn(\"CUDA is not available, disabling CUDA profiling\")\n"
          ]
        },
        {
          "output_type": "stream",
          "name": "stdout",
          "text": [
            "tensor(3.6372, grad_fn=<MulBackward0>)\n",
            "tensor(1.9726, grad_fn=<AddBackward0>)\n"
          ]
        }
      ]
    },
    {
      "cell_type": "code",
      "source": [
        "# Plot JVP computational graph\n",
        "graph = make_dot(delta_y, params={'x': x, 'delta_x': delta_x})\n",
        "graph.attr('node', shape='record', style='filled', fillcolor='lightblue', fontname='Helvetica', fontsize='10')\n",
        "graph.node_attr.update(fontsize='12')\n",
        "\n",
        "graph"
      ],
      "metadata": {
        "colab": {
          "base_uri": "https://localhost:8080/",
          "height": 704
        },
        "id": "Thvasb7vfDmM",
        "outputId": "19c347b9-6c0f-466d-9cb4-8d9e1f742f7d"
      },
      "execution_count": null,
      "outputs": [
        {
          "output_type": "execute_result",
          "data": {
            "image/svg+xml": "<?xml version=\"1.0\" encoding=\"UTF-8\" standalone=\"no\"?>\n<!DOCTYPE svg PUBLIC \"-//W3C//DTD SVG 1.1//EN\"\n \"http://www.w3.org/Graphics/SVG/1.1/DTD/svg11.dtd\">\n<!-- Generated by graphviz version 2.43.0 (0)\n -->\n<!-- Title: %3 Pages: 1 -->\n<svg width=\"468pt\" height=\"512pt\"\n viewBox=\"0.00 0.00 468.00 512.00\" xmlns=\"http://www.w3.org/2000/svg\" xmlns:xlink=\"http://www.w3.org/1999/xlink\">\n<g id=\"graph0\" class=\"graph\" transform=\"scale(1 1) rotate(0) translate(4 508)\">\n<title>%3</title>\n<polygon fill=\"white\" stroke=\"transparent\" points=\"-4,4 -4,-508 464,-508 464,4 -4,4\"/>\n<!-- 139163152903728 -->\n<g id=\"node1\" class=\"node\">\n<title>139163152903728</title>\n<polygon fill=\"#caff70\" stroke=\"black\" points=\"246.5,-35 192.5,-35 192.5,0 246.5,0 246.5,-35\"/>\n<text text-anchor=\"middle\" x=\"219.5\" y=\"-7.4\" font-family=\"monospace\" font-size=\"12.00\"> ()</text>\n</g>\n<!-- 139163174018336 -->\n<g id=\"node2\" class=\"node\">\n<title>139163174018336</title>\n<polygon fill=\"lightgrey\" stroke=\"black\" points=\"273,-92 166,-92 166,-71 273,-71 273,-92\"/>\n<text text-anchor=\"middle\" x=\"219.5\" y=\"-78.4\" font-family=\"monospace\" font-size=\"12.00\">AddBackward0</text>\n</g>\n<!-- 139163174018336&#45;&gt;139163152903728 -->\n<g id=\"edge16\" class=\"edge\">\n<title>139163174018336&#45;&gt;139163152903728</title>\n<path fill=\"none\" stroke=\"black\" d=\"M219.5,-70.81C219.5,-63.96 219.5,-54.41 219.5,-45.34\"/>\n<polygon fill=\"black\" stroke=\"black\" points=\"223,-45.11 219.5,-35.11 216,-45.11 223,-45.11\"/>\n</g>\n<!-- 139163174011232 -->\n<g id=\"node3\" class=\"node\">\n<title>139163174011232</title>\n<polygon fill=\"lightgrey\" stroke=\"black\" points=\"210,-206 103,-206 103,-185 210,-185 210,-206\"/>\n<text text-anchor=\"middle\" x=\"156.5\" y=\"-192.4\" font-family=\"monospace\" font-size=\"12.00\">MulBackward0</text>\n</g>\n<!-- 139163174011232&#45;&gt;139163174018336 -->\n<g id=\"edge1\" class=\"edge\">\n<title>139163174011232&#45;&gt;139163174018336</title>\n<path fill=\"none\" stroke=\"black\" d=\"M161.87,-184.95C172.33,-166.35 195.6,-124.99 209.15,-100.9\"/>\n<polygon fill=\"black\" stroke=\"black\" points=\"212.29,-102.46 214.14,-92.02 206.19,-99.02 212.29,-102.46\"/>\n</g>\n<!-- 139163174018672 -->\n<g id=\"node4\" class=\"node\">\n<title>139163174018672</title>\n<polygon fill=\"lightgrey\" stroke=\"black\" points=\"107,-263 0,-263 0,-242 107,-242 107,-263\"/>\n<text text-anchor=\"middle\" x=\"53.5\" y=\"-249.4\" font-family=\"monospace\" font-size=\"12.00\">MulBackward0</text>\n</g>\n<!-- 139163174018672&#45;&gt;139163174011232 -->\n<g id=\"edge2\" class=\"edge\">\n<title>139163174018672&#45;&gt;139163174011232</title>\n<path fill=\"none\" stroke=\"black\" d=\"M71.44,-241.92C87.44,-233.38 111.1,-220.74 129.4,-210.97\"/>\n<polygon fill=\"black\" stroke=\"black\" points=\"131.25,-213.95 138.42,-206.16 127.95,-207.78 131.25,-213.95\"/>\n</g>\n<!-- 139163139999248 -->\n<g id=\"node5\" class=\"node\">\n<title>139163139999248</title>\n<polygon fill=\"lightgrey\" stroke=\"black\" points=\"140,-320 33,-320 33,-299 140,-299 140,-320\"/>\n<text text-anchor=\"middle\" x=\"86.5\" y=\"-306.4\" font-family=\"monospace\" font-size=\"12.00\">CosBackward0</text>\n</g>\n<!-- 139163139999248&#45;&gt;139163174018672 -->\n<g id=\"edge3\" class=\"edge\">\n<title>139163139999248&#45;&gt;139163174018672</title>\n<path fill=\"none\" stroke=\"black\" d=\"M80.75,-298.92C76.31,-291.52 70.03,-281.05 64.62,-272.03\"/>\n<polygon fill=\"black\" stroke=\"black\" points=\"67.55,-270.12 59.4,-263.34 61.55,-273.72 67.55,-270.12\"/>\n</g>\n<!-- 139163139999152 -->\n<g id=\"node6\" class=\"node\">\n<title>139163139999152</title>\n<polygon fill=\"lightgrey\" stroke=\"black\" points=\"298.5,-377 184.5,-377 184.5,-356 298.5,-356 298.5,-377\"/>\n<text text-anchor=\"middle\" x=\"241.5\" y=\"-363.4\" font-family=\"monospace\" font-size=\"12.00\">ViewBackward0</text>\n</g>\n<!-- 139163139999152&#45;&gt;139163139999248 -->\n<g id=\"edge4\" class=\"edge\">\n<title>139163139999152&#45;&gt;139163139999248</title>\n<path fill=\"none\" stroke=\"black\" d=\"M214.5,-355.92C189.13,-346.92 150.97,-333.38 122.91,-323.42\"/>\n<polygon fill=\"black\" stroke=\"black\" points=\"124.04,-320.11 113.45,-320.06 121.7,-326.71 124.04,-320.11\"/>\n</g>\n<!-- 139163174015840 -->\n<g id=\"node9\" class=\"node\">\n<title>139163174015840</title>\n<polygon fill=\"lightgrey\" stroke=\"black\" points=\"232,-263 125,-263 125,-242 232,-242 232,-263\"/>\n<text text-anchor=\"middle\" x=\"178.5\" y=\"-249.4\" font-family=\"monospace\" font-size=\"12.00\">PowBackward0</text>\n</g>\n<!-- 139163139999152&#45;&gt;139163174015840 -->\n<g id=\"edge8\" class=\"edge\">\n<title>139163139999152&#45;&gt;139163174015840</title>\n<path fill=\"none\" stroke=\"black\" d=\"M236.13,-355.95C225.67,-337.35 202.4,-295.99 188.85,-271.9\"/>\n<polygon fill=\"black\" stroke=\"black\" points=\"191.81,-270.02 183.86,-263.02 185.71,-273.46 191.81,-270.02\"/>\n</g>\n<!-- 139163139999872 -->\n<g id=\"node13\" class=\"node\">\n<title>139163139999872</title>\n<polygon fill=\"lightgrey\" stroke=\"black\" points=\"336,-320 229,-320 229,-299 336,-299 336,-320\"/>\n<text text-anchor=\"middle\" x=\"282.5\" y=\"-306.4\" font-family=\"monospace\" font-size=\"12.00\">PowBackward0</text>\n</g>\n<!-- 139163139999152&#45;&gt;139163139999872 -->\n<g id=\"edge13\" class=\"edge\">\n<title>139163139999152&#45;&gt;139163139999872</title>\n<path fill=\"none\" stroke=\"black\" d=\"M248.64,-355.92C254.27,-348.36 262.29,-337.61 269.11,-328.46\"/>\n<polygon fill=\"black\" stroke=\"black\" points=\"271.99,-330.45 275.16,-320.34 266.38,-326.27 271.99,-330.45\"/>\n</g>\n<!-- 139163139999104 -->\n<g id=\"node14\" class=\"node\">\n<title>139163139999104</title>\n<polygon fill=\"lightgrey\" stroke=\"black\" points=\"460,-206 353,-206 353,-185 460,-185 460,-206\"/>\n<text text-anchor=\"middle\" x=\"406.5\" y=\"-192.4\" font-family=\"monospace\" font-size=\"12.00\">SinBackward0</text>\n</g>\n<!-- 139163139999152&#45;&gt;139163139999104 -->\n<g id=\"edge15\" class=\"edge\">\n<title>139163139999152&#45;&gt;139163139999104</title>\n<path fill=\"none\" stroke=\"black\" d=\"M278.91,-355.85C300.22,-348.8 326.23,-337.39 344.5,-320 375.35,-290.63 393.23,-242.6 401.29,-215.92\"/>\n<polygon fill=\"black\" stroke=\"black\" points=\"404.68,-216.78 404.07,-206.21 397.95,-214.86 404.68,-216.78\"/>\n</g>\n<!-- 139163139999056 -->\n<g id=\"node7\" class=\"node\">\n<title>139163139999056</title>\n<polygon fill=\"lightgrey\" stroke=\"black\" points=\"302.5,-434 180.5,-434 180.5,-413 302.5,-413 302.5,-434\"/>\n<text text-anchor=\"middle\" x=\"241.5\" y=\"-420.4\" font-family=\"monospace\" font-size=\"12.00\">AccumulateGrad</text>\n</g>\n<!-- 139163139999056&#45;&gt;139163139999152 -->\n<g id=\"edge5\" class=\"edge\">\n<title>139163139999056&#45;&gt;139163139999152</title>\n<path fill=\"none\" stroke=\"black\" d=\"M241.5,-412.92C241.5,-405.91 241.5,-396.14 241.5,-387.47\"/>\n<polygon fill=\"black\" stroke=\"black\" points=\"245,-387.34 241.5,-377.34 238,-387.34 245,-387.34\"/>\n</g>\n<!-- 139163174031568 -->\n<g id=\"node8\" class=\"node\">\n<title>139163174031568</title>\n<polygon fill=\"lightblue\" stroke=\"black\" points=\"268.5,-504 214.5,-504 214.5,-470 268.5,-470 268.5,-504\"/>\n<text text-anchor=\"middle\" x=\"241.5\" y=\"-490.4\" font-family=\"monospace\" font-size=\"12.00\">x</text>\n<text text-anchor=\"middle\" x=\"241.5\" y=\"-477.4\" font-family=\"monospace\" font-size=\"12.00\"> ()</text>\n</g>\n<!-- 139163174031568&#45;&gt;139163139999056 -->\n<g id=\"edge6\" class=\"edge\">\n<title>139163174031568&#45;&gt;139163139999056</title>\n<path fill=\"none\" stroke=\"black\" d=\"M241.5,-469.84C241.5,-462.01 241.5,-452.54 241.5,-444.28\"/>\n<polygon fill=\"black\" stroke=\"black\" points=\"245,-444.04 241.5,-434.04 238,-444.04 245,-444.04\"/>\n</g>\n<!-- 139163174015840&#45;&gt;139163174011232 -->\n<g id=\"edge7\" class=\"edge\">\n<title>139163174015840&#45;&gt;139163174011232</title>\n<path fill=\"none\" stroke=\"black\" d=\"M174.67,-241.92C171.8,-234.75 167.78,-224.71 164.26,-215.89\"/>\n<polygon fill=\"black\" stroke=\"black\" points=\"167.4,-214.33 160.44,-206.34 160.9,-216.93 167.4,-214.33\"/>\n</g>\n<!-- 139163174012144 -->\n<g id=\"node10\" class=\"node\">\n<title>139163174012144</title>\n<polygon fill=\"lightgrey\" stroke=\"black\" points=\"335,-149 228,-149 228,-128 335,-128 335,-149\"/>\n<text text-anchor=\"middle\" x=\"281.5\" y=\"-135.4\" font-family=\"monospace\" font-size=\"12.00\">MulBackward0</text>\n</g>\n<!-- 139163174012144&#45;&gt;139163174018336 -->\n<g id=\"edge9\" class=\"edge\">\n<title>139163174012144&#45;&gt;139163174018336</title>\n<path fill=\"none\" stroke=\"black\" d=\"M270.7,-127.92C261.74,-119.97 248.8,-108.49 238.17,-99.06\"/>\n<polygon fill=\"black\" stroke=\"black\" points=\"240.4,-96.36 230.59,-92.34 235.75,-101.6 240.4,-96.36\"/>\n</g>\n<!-- 139163139999200 -->\n<g id=\"node11\" class=\"node\">\n<title>139163139999200</title>\n<polygon fill=\"lightgrey\" stroke=\"black\" points=\"335,-206 228,-206 228,-185 335,-185 335,-206\"/>\n<text text-anchor=\"middle\" x=\"281.5\" y=\"-192.4\" font-family=\"monospace\" font-size=\"12.00\">MulBackward0</text>\n</g>\n<!-- 139163139999200&#45;&gt;139163174012144 -->\n<g id=\"edge10\" class=\"edge\">\n<title>139163139999200&#45;&gt;139163174012144</title>\n<path fill=\"none\" stroke=\"black\" d=\"M281.5,-184.92C281.5,-177.91 281.5,-168.14 281.5,-159.47\"/>\n<polygon fill=\"black\" stroke=\"black\" points=\"285,-159.34 281.5,-149.34 278,-159.34 285,-159.34\"/>\n</g>\n<!-- 139163139999776 -->\n<g id=\"node12\" class=\"node\">\n<title>139163139999776</title>\n<polygon fill=\"lightgrey\" stroke=\"black\" points=\"357,-263 250,-263 250,-242 357,-242 357,-263\"/>\n<text text-anchor=\"middle\" x=\"303.5\" y=\"-249.4\" font-family=\"monospace\" font-size=\"12.00\">MulBackward1</text>\n</g>\n<!-- 139163139999776&#45;&gt;139163139999200 -->\n<g id=\"edge11\" class=\"edge\">\n<title>139163139999776&#45;&gt;139163139999200</title>\n<path fill=\"none\" stroke=\"black\" d=\"M299.67,-241.92C296.8,-234.75 292.78,-224.71 289.26,-215.89\"/>\n<polygon fill=\"black\" stroke=\"black\" points=\"292.4,-214.33 285.44,-206.34 285.9,-216.93 292.4,-214.33\"/>\n</g>\n<!-- 139163139999872&#45;&gt;139163139999776 -->\n<g id=\"edge12\" class=\"edge\">\n<title>139163139999872&#45;&gt;139163139999776</title>\n<path fill=\"none\" stroke=\"black\" d=\"M286.16,-298.92C288.89,-291.75 292.73,-281.71 296.1,-272.89\"/>\n<polygon fill=\"black\" stroke=\"black\" points=\"299.45,-273.93 299.74,-263.34 292.91,-271.43 299.45,-273.93\"/>\n</g>\n<!-- 139163139999104&#45;&gt;139163174012144 -->\n<g id=\"edge14\" class=\"edge\">\n<title>139163139999104&#45;&gt;139163174012144</title>\n<path fill=\"none\" stroke=\"black\" d=\"M384.73,-184.92C364.86,-176.18 335.28,-163.16 312.87,-153.3\"/>\n<polygon fill=\"black\" stroke=\"black\" points=\"314.01,-149.98 303.44,-149.16 311.19,-156.39 314.01,-149.98\"/>\n</g>\n</g>\n</svg>\n",
            "text/plain": [
              "<graphviz.graphs.Digraph at 0x7e91738da4d0>"
            ]
          },
          "metadata": {},
          "execution_count": 17
        }
      ]
    },
    {
      "cell_type": "markdown",
      "source": [
        "# Vector Jacobian Product (VJP)\n",
        "- vector-Jacobian products (VJPs) VJPs let us build Jacobian matrices one row at a time,\n",
        "  - with a computational cost in FLOPs that is just a small constant multiple of the cost of evaluating the original function.\n",
        "  - However, VJPs have a memory cost that scales with a notion of the depth of a computation, making it much more memory intensive.\n",
        "- Mathematically, a VJP is the mapping\n",
        "\n",
        "  $(x,w) → (f(x),wᵀ⋅∂f(x))$ , where w ∈ ℝᵐ is a vector that looks like the output of f\n",
        "\n",
        "- VJPs answer questions like:\n",
        "  - At a given input point x∈Rn, if we have a vector w∈Rm that represents a scalar-valued linear function on perturbations Δy of the output, e.g. representing how a scalar-valued loss function changes for small changes to the output, then what is a vector representing the corresponding linear function on perturbations Δx to the input? That is, what is λ ∈ Rn such that\n",
        "\n",
        "    ⟨w,Δy⟩ = ⟨w,∂f(x)Δx⟩ = ⟨λ,Δx⟩,\n",
        "    \n",
        "    for any Δx, where we’ve defined Δy=∂f(x)Δx?"
      ],
      "metadata": {
        "id": "Pdg2AMSnYLOF"
      }
    },
    {
      "cell_type": "code",
      "source": [
        "# VJP: reverse-mode auto-differentiation\n",
        "\n",
        "# Define the function f\n",
        "def f(x):\n",
        "    return torch.sin(x) * x ** 2\n",
        "\n",
        "# Example usage\n",
        "x = torch.tensor(2.0, requires_grad=True)\n",
        "\n",
        "# output vector\n",
        "w = torch.tensor(1.0)\n",
        "\n",
        "# Compute the function output and compute the VJP with a vector w\n",
        "y, lambda_val = torch.autograd.functional.vjp(f, x, create_graph=True)\n",
        "\n",
        "# Output the results\n",
        "print(\"Function output y:\", y)                  # Output of f(x)\n",
        "print(\"VJP (lambda) value:\", lambda_val)        # VJP result\n"
      ],
      "metadata": {
        "colab": {
          "base_uri": "https://localhost:8080/"
        },
        "id": "AUhqQNFMZJpc",
        "outputId": "0182529b-3043-403f-a676-2fc2fabab09a"
      },
      "execution_count": null,
      "outputs": [
        {
          "output_type": "stream",
          "name": "stdout",
          "text": [
            "Function output y: tensor(3.6372, grad_fn=<MulBackward0>)\n",
            "VJP (lambda) value: tensor(1.9726, grad_fn=<AddBackward0>)\n"
          ]
        }
      ]
    },
    {
      "cell_type": "code",
      "source": [
        "# plot VJP computational graph\n",
        "graph = make_dot(lambda_val, params={'x': x, 'w': w})\n",
        "graph.attr('node', shape='record', style='filled', fillcolor='lightblue', fontname='Helvetica', fontsize='10')\n",
        "graph.node_attr.update(fontsize='12')\n",
        "\n",
        "graph"
      ],
      "metadata": {
        "colab": {
          "base_uri": "https://localhost:8080/",
          "height": 628
        },
        "id": "UeqTXYzkXWAo",
        "outputId": "048e31b4-0717-4a8d-cc50-65f6418b606e"
      },
      "execution_count": null,
      "outputs": [
        {
          "output_type": "execute_result",
          "data": {
            "image/svg+xml": "<?xml version=\"1.0\" encoding=\"UTF-8\" standalone=\"no\"?>\n<!DOCTYPE svg PUBLIC \"-//W3C//DTD SVG 1.1//EN\"\n \"http://www.w3.org/Graphics/SVG/1.1/DTD/svg11.dtd\">\n<!-- Generated by graphviz version 2.43.0 (0)\n -->\n<!-- Title: %3 Pages: 1 -->\n<svg width=\"490pt\" height=\"455pt\"\n viewBox=\"0.00 0.00 490.00 455.00\" xmlns=\"http://www.w3.org/2000/svg\" xmlns:xlink=\"http://www.w3.org/1999/xlink\">\n<g id=\"graph0\" class=\"graph\" transform=\"scale(1 1) rotate(0) translate(4 451)\">\n<title>%3</title>\n<polygon fill=\"white\" stroke=\"transparent\" points=\"-4,4 -4,-451 486,-451 486,4 -4,4\"/>\n<!-- 139163179020704 -->\n<g id=\"node1\" class=\"node\">\n<title>139163179020704</title>\n<polygon fill=\"#caff70\" stroke=\"black\" points=\"267.5,-35 213.5,-35 213.5,0 267.5,0 267.5,-35\"/>\n<text text-anchor=\"middle\" x=\"240.5\" y=\"-7.4\" font-family=\"monospace\" font-size=\"12.00\"> ()</text>\n</g>\n<!-- 139163140004384 -->\n<g id=\"node2\" class=\"node\">\n<title>139163140004384</title>\n<polygon fill=\"lightgrey\" stroke=\"black\" points=\"294,-92 187,-92 187,-71 294,-71 294,-92\"/>\n<text text-anchor=\"middle\" x=\"240.5\" y=\"-78.4\" font-family=\"monospace\" font-size=\"12.00\">AddBackward0</text>\n</g>\n<!-- 139163140004384&#45;&gt;139163179020704 -->\n<g id=\"edge16\" class=\"edge\">\n<title>139163140004384&#45;&gt;139163179020704</title>\n<path fill=\"none\" stroke=\"black\" d=\"M240.5,-70.81C240.5,-63.96 240.5,-54.41 240.5,-45.34\"/>\n<polygon fill=\"black\" stroke=\"black\" points=\"244,-45.11 240.5,-35.11 237,-45.11 244,-45.11\"/>\n</g>\n<!-- 139163140000208 -->\n<g id=\"node3\" class=\"node\">\n<title>139163140000208</title>\n<polygon fill=\"lightgrey\" stroke=\"black\" points=\"232,-149 125,-149 125,-128 232,-128 232,-149\"/>\n<text text-anchor=\"middle\" x=\"178.5\" y=\"-135.4\" font-family=\"monospace\" font-size=\"12.00\">MulBackward0</text>\n</g>\n<!-- 139163140000208&#45;&gt;139163140004384 -->\n<g id=\"edge1\" class=\"edge\">\n<title>139163140000208&#45;&gt;139163140004384</title>\n<path fill=\"none\" stroke=\"black\" d=\"M189.3,-127.92C198.26,-119.97 211.2,-108.49 221.83,-99.06\"/>\n<polygon fill=\"black\" stroke=\"black\" points=\"224.25,-101.6 229.41,-92.34 219.6,-96.36 224.25,-101.6\"/>\n</g>\n<!-- 139163140002032 -->\n<g id=\"node4\" class=\"node\">\n<title>139163140002032</title>\n<polygon fill=\"lightgrey\" stroke=\"black\" points=\"107,-206 0,-206 0,-185 107,-185 107,-206\"/>\n<text text-anchor=\"middle\" x=\"53.5\" y=\"-192.4\" font-family=\"monospace\" font-size=\"12.00\">MulBackward0</text>\n</g>\n<!-- 139163140002032&#45;&gt;139163140000208 -->\n<g id=\"edge2\" class=\"edge\">\n<title>139163140002032&#45;&gt;139163140000208</title>\n<path fill=\"none\" stroke=\"black\" d=\"M75.27,-184.92C95.14,-176.18 124.72,-163.16 147.13,-153.3\"/>\n<polygon fill=\"black\" stroke=\"black\" points=\"148.81,-156.39 156.56,-149.16 145.99,-149.98 148.81,-156.39\"/>\n</g>\n<!-- 139163140004144 -->\n<g id=\"node5\" class=\"node\">\n<title>139163140004144</title>\n<polygon fill=\"lightgrey\" stroke=\"black\" points=\"107,-263 0,-263 0,-242 107,-242 107,-263\"/>\n<text text-anchor=\"middle\" x=\"53.5\" y=\"-249.4\" font-family=\"monospace\" font-size=\"12.00\">SinBackward0</text>\n</g>\n<!-- 139163140004144&#45;&gt;139163140002032 -->\n<g id=\"edge3\" class=\"edge\">\n<title>139163140004144&#45;&gt;139163140002032</title>\n<path fill=\"none\" stroke=\"black\" d=\"M53.5,-241.92C53.5,-234.91 53.5,-225.14 53.5,-216.47\"/>\n<polygon fill=\"black\" stroke=\"black\" points=\"57,-216.34 53.5,-206.34 50,-216.34 57,-216.34\"/>\n</g>\n<!-- 139163140004624 -->\n<g id=\"node6\" class=\"node\">\n<title>139163140004624</title>\n<polygon fill=\"lightgrey\" stroke=\"black\" points=\"297.5,-320 183.5,-320 183.5,-299 297.5,-299 297.5,-320\"/>\n<text text-anchor=\"middle\" x=\"240.5\" y=\"-306.4\" font-family=\"monospace\" font-size=\"12.00\">ViewBackward0</text>\n</g>\n<!-- 139163140004624&#45;&gt;139163140004144 -->\n<g id=\"edge4\" class=\"edge\">\n<title>139163140004624&#45;&gt;139163140004144</title>\n<path fill=\"none\" stroke=\"black\" d=\"M207.93,-298.92C176.78,-289.76 129.67,-275.9 95.67,-265.9\"/>\n<polygon fill=\"black\" stroke=\"black\" points=\"96.59,-262.53 86.01,-263.06 94.62,-269.24 96.59,-262.53\"/>\n</g>\n<!-- 139163140001024 -->\n<g id=\"node10\" class=\"node\">\n<title>139163140001024</title>\n<polygon fill=\"lightgrey\" stroke=\"black\" points=\"232,-263 125,-263 125,-242 232,-242 232,-263\"/>\n<text text-anchor=\"middle\" x=\"178.5\" y=\"-249.4\" font-family=\"monospace\" font-size=\"12.00\">PowBackward0</text>\n</g>\n<!-- 139163140004624&#45;&gt;139163140001024 -->\n<g id=\"edge9\" class=\"edge\">\n<title>139163140004624&#45;&gt;139163140001024</title>\n<path fill=\"none\" stroke=\"black\" d=\"M229.7,-298.92C220.74,-290.97 207.8,-279.49 197.17,-270.06\"/>\n<polygon fill=\"black\" stroke=\"black\" points=\"199.4,-267.36 189.59,-263.34 194.75,-272.6 199.4,-267.36\"/>\n</g>\n<!-- 139163140001984 -->\n<g id=\"node13\" class=\"node\">\n<title>139163140001984</title>\n<polygon fill=\"lightgrey\" stroke=\"black\" points=\"357,-263 250,-263 250,-242 357,-242 357,-263\"/>\n<text text-anchor=\"middle\" x=\"303.5\" y=\"-249.4\" font-family=\"monospace\" font-size=\"12.00\">PowBackward0</text>\n</g>\n<!-- 139163140004624&#45;&gt;139163140001984 -->\n<g id=\"edge13\" class=\"edge\">\n<title>139163140004624&#45;&gt;139163140001984</title>\n<path fill=\"none\" stroke=\"black\" d=\"M251.47,-298.92C260.58,-290.97 273.73,-279.49 284.53,-270.06\"/>\n<polygon fill=\"black\" stroke=\"black\" points=\"287,-272.55 292.23,-263.34 282.39,-267.28 287,-272.55\"/>\n</g>\n<!-- 139163140004480 -->\n<g id=\"node14\" class=\"node\">\n<title>139163140004480</title>\n<polygon fill=\"lightgrey\" stroke=\"black\" points=\"482,-206 375,-206 375,-185 482,-185 482,-206\"/>\n<text text-anchor=\"middle\" x=\"428.5\" y=\"-192.4\" font-family=\"monospace\" font-size=\"12.00\">CosBackward0</text>\n</g>\n<!-- 139163140004624&#45;&gt;139163140004480 -->\n<g id=\"edge15\" class=\"edge\">\n<title>139163140004624&#45;&gt;139163140004480</title>\n<path fill=\"none\" stroke=\"black\" d=\"M280.69,-299C306.35,-291.74 339.53,-280.04 365.5,-263 385.32,-249.99 403.42,-229.59 415.08,-214.81\"/>\n<polygon fill=\"black\" stroke=\"black\" points=\"418.18,-216.52 421.47,-206.45 412.61,-212.27 418.18,-216.52\"/>\n</g>\n<!-- 139163140001168 -->\n<g id=\"node7\" class=\"node\">\n<title>139163140001168</title>\n<polygon fill=\"lightgrey\" stroke=\"black\" points=\"301.5,-377 179.5,-377 179.5,-356 301.5,-356 301.5,-377\"/>\n<text text-anchor=\"middle\" x=\"240.5\" y=\"-363.4\" font-family=\"monospace\" font-size=\"12.00\">AccumulateGrad</text>\n</g>\n<!-- 139163140001168&#45;&gt;139163140004624 -->\n<g id=\"edge5\" class=\"edge\">\n<title>139163140001168&#45;&gt;139163140004624</title>\n<path fill=\"none\" stroke=\"black\" d=\"M240.5,-355.92C240.5,-348.91 240.5,-339.14 240.5,-330.47\"/>\n<polygon fill=\"black\" stroke=\"black\" points=\"244,-330.34 240.5,-320.34 237,-330.34 244,-330.34\"/>\n</g>\n<!-- 139163152986848 -->\n<g id=\"node8\" class=\"node\">\n<title>139163152986848</title>\n<polygon fill=\"lightblue\" stroke=\"black\" points=\"267.5,-447 213.5,-447 213.5,-413 267.5,-413 267.5,-447\"/>\n<text text-anchor=\"middle\" x=\"240.5\" y=\"-433.4\" font-family=\"monospace\" font-size=\"12.00\">x</text>\n<text text-anchor=\"middle\" x=\"240.5\" y=\"-420.4\" font-family=\"monospace\" font-size=\"12.00\"> ()</text>\n</g>\n<!-- 139163152986848&#45;&gt;139163140001168 -->\n<g id=\"edge6\" class=\"edge\">\n<title>139163152986848&#45;&gt;139163140001168</title>\n<path fill=\"none\" stroke=\"black\" d=\"M240.5,-412.84C240.5,-405.01 240.5,-395.54 240.5,-387.28\"/>\n<polygon fill=\"black\" stroke=\"black\" points=\"244,-387.04 240.5,-377.04 237,-387.04 244,-387.04\"/>\n</g>\n<!-- 139163140002080 -->\n<g id=\"node9\" class=\"node\">\n<title>139163140002080</title>\n<polygon fill=\"lightgrey\" stroke=\"black\" points=\"232,-206 125,-206 125,-185 232,-185 232,-206\"/>\n<text text-anchor=\"middle\" x=\"178.5\" y=\"-192.4\" font-family=\"monospace\" font-size=\"12.00\">MulBackward1</text>\n</g>\n<!-- 139163140002080&#45;&gt;139163140000208 -->\n<g id=\"edge7\" class=\"edge\">\n<title>139163140002080&#45;&gt;139163140000208</title>\n<path fill=\"none\" stroke=\"black\" d=\"M178.5,-184.92C178.5,-177.91 178.5,-168.14 178.5,-159.47\"/>\n<polygon fill=\"black\" stroke=\"black\" points=\"182,-159.34 178.5,-149.34 175,-159.34 182,-159.34\"/>\n</g>\n<!-- 139163140001024&#45;&gt;139163140002080 -->\n<g id=\"edge8\" class=\"edge\">\n<title>139163140001024&#45;&gt;139163140002080</title>\n<path fill=\"none\" stroke=\"black\" d=\"M178.5,-241.92C178.5,-234.91 178.5,-225.14 178.5,-216.47\"/>\n<polygon fill=\"black\" stroke=\"black\" points=\"182,-216.34 178.5,-206.34 175,-216.34 182,-216.34\"/>\n</g>\n<!-- 139163140004288 -->\n<g id=\"node11\" class=\"node\">\n<title>139163140004288</title>\n<polygon fill=\"lightgrey\" stroke=\"black\" points=\"357,-149 250,-149 250,-128 357,-128 357,-149\"/>\n<text text-anchor=\"middle\" x=\"303.5\" y=\"-135.4\" font-family=\"monospace\" font-size=\"12.00\">MulBackward0</text>\n</g>\n<!-- 139163140004288&#45;&gt;139163140004384 -->\n<g id=\"edge10\" class=\"edge\">\n<title>139163140004288&#45;&gt;139163140004384</title>\n<path fill=\"none\" stroke=\"black\" d=\"M292.53,-127.92C283.42,-119.97 270.27,-108.49 259.47,-99.06\"/>\n<polygon fill=\"black\" stroke=\"black\" points=\"261.61,-96.28 251.77,-92.34 257,-101.55 261.61,-96.28\"/>\n</g>\n<!-- 139163140002128 -->\n<g id=\"node12\" class=\"node\">\n<title>139163140002128</title>\n<polygon fill=\"lightgrey\" stroke=\"black\" points=\"357,-206 250,-206 250,-185 357,-185 357,-206\"/>\n<text text-anchor=\"middle\" x=\"303.5\" y=\"-192.4\" font-family=\"monospace\" font-size=\"12.00\">MulBackward0</text>\n</g>\n<!-- 139163140002128&#45;&gt;139163140004288 -->\n<g id=\"edge11\" class=\"edge\">\n<title>139163140002128&#45;&gt;139163140004288</title>\n<path fill=\"none\" stroke=\"black\" d=\"M303.5,-184.92C303.5,-177.91 303.5,-168.14 303.5,-159.47\"/>\n<polygon fill=\"black\" stroke=\"black\" points=\"307,-159.34 303.5,-149.34 300,-159.34 307,-159.34\"/>\n</g>\n<!-- 139163140001984&#45;&gt;139163140002128 -->\n<g id=\"edge12\" class=\"edge\">\n<title>139163140001984&#45;&gt;139163140002128</title>\n<path fill=\"none\" stroke=\"black\" d=\"M303.5,-241.92C303.5,-234.91 303.5,-225.14 303.5,-216.47\"/>\n<polygon fill=\"black\" stroke=\"black\" points=\"307,-216.34 303.5,-206.34 300,-216.34 307,-216.34\"/>\n</g>\n<!-- 139163140004480&#45;&gt;139163140004288 -->\n<g id=\"edge14\" class=\"edge\">\n<title>139163140004480&#45;&gt;139163140004288</title>\n<path fill=\"none\" stroke=\"black\" d=\"M406.73,-184.92C386.86,-176.18 357.28,-163.16 334.87,-153.3\"/>\n<polygon fill=\"black\" stroke=\"black\" points=\"336.01,-149.98 325.44,-149.16 333.19,-156.39 336.01,-149.98\"/>\n</g>\n</g>\n</svg>\n",
            "text/plain": [
              "<graphviz.graphs.Digraph at 0x7e91718699f0>"
            ]
          },
          "metadata": {},
          "execution_count": 19
        }
      ]
    },
    {
      "cell_type": "code",
      "source": [
        "# VJP: another implementation\n",
        "\n",
        "# Define the gradient function\n",
        "def grad(f):\n",
        "    def gradfun(x):\n",
        "        x = torch.tensor(x, requires_grad=True)\n",
        "        y = f(x)\n",
        "        y.backward()  # Compute the gradient of y with respect to x\n",
        "        return x.grad  # Return the gradient\n",
        "    return gradfun\n",
        "\n",
        "# Define the function f\n",
        "def f(x):\n",
        "    return torch.sin(x) * x ** 2\n",
        "\n",
        "# Example usage\n",
        "x = 2.0\n",
        "grad_f = grad(f)  # Create the gradient function\n",
        "grad_val = grad_f(x)\n",
        "y = f(torch.tensor(x))\n",
        "print(\"Function output y:\", y)\n",
        "print(\"Gradient of f at x:\", grad_val)\n",
        "\n",
        "# Calculate VJP (Vector-Jacobian Product)\n",
        "x = torch.tensor(x, requires_grad=True)\n",
        "y = f(x)\n",
        "w = torch.tensor(1.0)  # Scalar weight\n",
        "y.backward(w, create_graph=True)  # Compute the VJP\n",
        "lambda_val = x.grad  # This is the VJP\n",
        "print(\"Function output y after VJP:\", y)\n",
        "print(\"VJP (lambda) value:\", lambda_val)"
      ],
      "metadata": {
        "colab": {
          "base_uri": "https://localhost:8080/"
        },
        "id": "yU5EuEJIl4ab",
        "outputId": "8b955246-38a4-470f-dfde-9ff6567bd2c7"
      },
      "execution_count": null,
      "outputs": [
        {
          "output_type": "stream",
          "name": "stdout",
          "text": [
            "Function output y: tensor(3.6372)\n",
            "Gradient of f at x: tensor(1.9726)\n",
            "Function output y after VJP: tensor(3.6372, grad_fn=<MulBackward0>)\n",
            "VJP (lambda) value: tensor(1.9726, grad_fn=<CopyBackwards>)\n"
          ]
        },
        {
          "output_type": "stream",
          "name": "stderr",
          "text": [
            "/usr/local/lib/python3.10/dist-packages/torch/autograd/graph.py:744: UserWarning: Using backward() with create_graph=True will create a reference cycle between the parameter and its gradient which can cause a memory leak. We recommend using autograd.grad when creating the graph to avoid this. If you have to use this function, make sure to reset the .grad fields of your parameters to None after use to break the cycle and avoid the leak. (Triggered internally at ../torch/csrc/autograd/engine.cpp:1203.)\n",
            "  return Variable._execution_engine.run_backward(  # Calls into the C++ engine to run the backward pass\n"
          ]
        }
      ]
    },
    {
      "cell_type": "code",
      "source": [
        "# plot VJP computational graph\n",
        "graph = make_dot(lambda_val, params={'x': x, 'w': w})\n",
        "graph.attr('node', shape='record', style='filled', fillcolor='lightblue', fontname='Helvetica', fontsize='10')\n",
        "graph.node_attr.update(fontsize='12')\n",
        "\n",
        "graph"
      ],
      "metadata": {
        "colab": {
          "base_uri": "https://localhost:8080/",
          "height": 628
        },
        "id": "HQPSxRqXmVzl",
        "outputId": "4bee5699-8f41-4f14-b3f2-919bbb0cc495"
      },
      "execution_count": null,
      "outputs": [
        {
          "output_type": "execute_result",
          "data": {
            "image/svg+xml": "<?xml version=\"1.0\" encoding=\"UTF-8\" standalone=\"no\"?>\n<!DOCTYPE svg PUBLIC \"-//W3C//DTD SVG 1.1//EN\"\n \"http://www.w3.org/Graphics/SVG/1.1/DTD/svg11.dtd\">\n<!-- Generated by graphviz version 2.43.0 (0)\n -->\n<!-- Title: %3 Pages: 1 -->\n<svg width=\"490pt\" height=\"455pt\"\n viewBox=\"0.00 0.00 490.00 455.00\" xmlns=\"http://www.w3.org/2000/svg\" xmlns:xlink=\"http://www.w3.org/1999/xlink\">\n<g id=\"graph0\" class=\"graph\" transform=\"scale(1 1) rotate(0) translate(4 451)\">\n<title>%3</title>\n<polygon fill=\"white\" stroke=\"transparent\" points=\"-4,4 -4,-451 486,-451 486,4 -4,4\"/>\n<!-- 139163139592880 -->\n<g id=\"node1\" class=\"node\">\n<title>139163139592880</title>\n<polygon fill=\"#caff70\" stroke=\"black\" points=\"267.5,-35 213.5,-35 213.5,0 267.5,0 267.5,-35\"/>\n<text text-anchor=\"middle\" x=\"240.5\" y=\"-7.4\" font-family=\"monospace\" font-size=\"12.00\"> ()</text>\n</g>\n<!-- 139163140012736 -->\n<g id=\"node2\" class=\"node\">\n<title>139163140012736</title>\n<polygon fill=\"lightgrey\" stroke=\"black\" points=\"297.5,-92 183.5,-92 183.5,-71 297.5,-71 297.5,-92\"/>\n<text text-anchor=\"middle\" x=\"240.5\" y=\"-78.4\" font-family=\"monospace\" font-size=\"12.00\">CopyBackwards</text>\n</g>\n<!-- 139163140012736&#45;&gt;139163139592880 -->\n<g id=\"edge16\" class=\"edge\">\n<title>139163140012736&#45;&gt;139163139592880</title>\n<path fill=\"none\" stroke=\"black\" d=\"M240.5,-70.81C240.5,-63.96 240.5,-54.41 240.5,-45.34\"/>\n<polygon fill=\"black\" stroke=\"black\" points=\"244,-45.11 240.5,-35.11 237,-45.11 244,-45.11\"/>\n</g>\n<!-- 139163140005536 -->\n<g id=\"node3\" class=\"node\">\n<title>139163140005536</title>\n<polygon fill=\"lightgrey\" stroke=\"black\" points=\"294,-149 187,-149 187,-128 294,-128 294,-149\"/>\n<text text-anchor=\"middle\" x=\"240.5\" y=\"-135.4\" font-family=\"monospace\" font-size=\"12.00\">AddBackward0</text>\n</g>\n<!-- 139163140005536&#45;&gt;139163140012736 -->\n<g id=\"edge1\" class=\"edge\">\n<title>139163140005536&#45;&gt;139163140012736</title>\n<path fill=\"none\" stroke=\"black\" d=\"M240.5,-127.92C240.5,-120.91 240.5,-111.14 240.5,-102.47\"/>\n<polygon fill=\"black\" stroke=\"black\" points=\"244,-102.34 240.5,-92.34 237,-102.34 244,-102.34\"/>\n</g>\n<!-- 139163140008368 -->\n<g id=\"node4\" class=\"node\">\n<title>139163140008368</title>\n<polygon fill=\"lightgrey\" stroke=\"black\" points=\"232,-206 125,-206 125,-185 232,-185 232,-206\"/>\n<text text-anchor=\"middle\" x=\"178.5\" y=\"-192.4\" font-family=\"monospace\" font-size=\"12.00\">MulBackward0</text>\n</g>\n<!-- 139163140008368&#45;&gt;139163140005536 -->\n<g id=\"edge2\" class=\"edge\">\n<title>139163140008368&#45;&gt;139163140005536</title>\n<path fill=\"none\" stroke=\"black\" d=\"M189.3,-184.92C198.26,-176.97 211.2,-165.49 221.83,-156.06\"/>\n<polygon fill=\"black\" stroke=\"black\" points=\"224.25,-158.6 229.41,-149.34 219.6,-153.36 224.25,-158.6\"/>\n</g>\n<!-- 139163140008512 -->\n<g id=\"node5\" class=\"node\">\n<title>139163140008512</title>\n<polygon fill=\"lightgrey\" stroke=\"black\" points=\"107,-263 0,-263 0,-242 107,-242 107,-263\"/>\n<text text-anchor=\"middle\" x=\"53.5\" y=\"-249.4\" font-family=\"monospace\" font-size=\"12.00\">MulBackward0</text>\n</g>\n<!-- 139163140008512&#45;&gt;139163140008368 -->\n<g id=\"edge3\" class=\"edge\">\n<title>139163140008512&#45;&gt;139163140008368</title>\n<path fill=\"none\" stroke=\"black\" d=\"M75.27,-241.92C95.14,-233.18 124.72,-220.16 147.13,-210.3\"/>\n<polygon fill=\"black\" stroke=\"black\" points=\"148.81,-213.39 156.56,-206.16 145.99,-206.98 148.81,-213.39\"/>\n</g>\n<!-- 139163140012544 -->\n<g id=\"node6\" class=\"node\">\n<title>139163140012544</title>\n<polygon fill=\"lightgrey\" stroke=\"black\" points=\"107,-320 0,-320 0,-299 107,-299 107,-320\"/>\n<text text-anchor=\"middle\" x=\"53.5\" y=\"-306.4\" font-family=\"monospace\" font-size=\"12.00\">SinBackward0</text>\n</g>\n<!-- 139163140012544&#45;&gt;139163140008512 -->\n<g id=\"edge4\" class=\"edge\">\n<title>139163140012544&#45;&gt;139163140008512</title>\n<path fill=\"none\" stroke=\"black\" d=\"M53.5,-298.92C53.5,-291.91 53.5,-282.14 53.5,-273.47\"/>\n<polygon fill=\"black\" stroke=\"black\" points=\"57,-273.34 53.5,-263.34 50,-273.34 57,-273.34\"/>\n</g>\n<!-- 139163140006112 -->\n<g id=\"node7\" class=\"node\">\n<title>139163140006112</title>\n<polygon fill=\"lightgrey\" stroke=\"black\" points=\"301.5,-377 179.5,-377 179.5,-356 301.5,-356 301.5,-377\"/>\n<text text-anchor=\"middle\" x=\"240.5\" y=\"-363.4\" font-family=\"monospace\" font-size=\"12.00\">AccumulateGrad</text>\n</g>\n<!-- 139163140006112&#45;&gt;139163140012544 -->\n<g id=\"edge5\" class=\"edge\">\n<title>139163140006112&#45;&gt;139163140012544</title>\n<path fill=\"none\" stroke=\"black\" d=\"M207.93,-355.92C176.78,-346.76 129.67,-332.9 95.67,-322.9\"/>\n<polygon fill=\"black\" stroke=\"black\" points=\"96.59,-319.53 86.01,-320.06 94.62,-326.24 96.59,-319.53\"/>\n</g>\n<!-- 139163140008848 -->\n<g id=\"node10\" class=\"node\">\n<title>139163140008848</title>\n<polygon fill=\"lightgrey\" stroke=\"black\" points=\"232,-320 125,-320 125,-299 232,-299 232,-320\"/>\n<text text-anchor=\"middle\" x=\"178.5\" y=\"-306.4\" font-family=\"monospace\" font-size=\"12.00\">PowBackward0</text>\n</g>\n<!-- 139163140006112&#45;&gt;139163140008848 -->\n<g id=\"edge9\" class=\"edge\">\n<title>139163140006112&#45;&gt;139163140008848</title>\n<path fill=\"none\" stroke=\"black\" d=\"M229.7,-355.92C220.74,-347.97 207.8,-336.49 197.17,-327.06\"/>\n<polygon fill=\"black\" stroke=\"black\" points=\"199.4,-324.36 189.59,-320.34 194.75,-329.6 199.4,-324.36\"/>\n</g>\n<!-- 139163140008704 -->\n<g id=\"node13\" class=\"node\">\n<title>139163140008704</title>\n<polygon fill=\"lightgrey\" stroke=\"black\" points=\"357,-320 250,-320 250,-299 357,-299 357,-320\"/>\n<text text-anchor=\"middle\" x=\"303.5\" y=\"-306.4\" font-family=\"monospace\" font-size=\"12.00\">PowBackward0</text>\n</g>\n<!-- 139163140006112&#45;&gt;139163140008704 -->\n<g id=\"edge13\" class=\"edge\">\n<title>139163140006112&#45;&gt;139163140008704</title>\n<path fill=\"none\" stroke=\"black\" d=\"M251.47,-355.92C260.58,-347.97 273.73,-336.49 284.53,-327.06\"/>\n<polygon fill=\"black\" stroke=\"black\" points=\"287,-329.55 292.23,-320.34 282.39,-324.28 287,-329.55\"/>\n</g>\n<!-- 139163140012496 -->\n<g id=\"node14\" class=\"node\">\n<title>139163140012496</title>\n<polygon fill=\"lightgrey\" stroke=\"black\" points=\"482,-263 375,-263 375,-242 482,-242 482,-263\"/>\n<text text-anchor=\"middle\" x=\"428.5\" y=\"-249.4\" font-family=\"monospace\" font-size=\"12.00\">CosBackward0</text>\n</g>\n<!-- 139163140006112&#45;&gt;139163140012496 -->\n<g id=\"edge15\" class=\"edge\">\n<title>139163140006112&#45;&gt;139163140012496</title>\n<path fill=\"none\" stroke=\"black\" d=\"M280.69,-356C306.35,-348.74 339.53,-337.04 365.5,-320 385.32,-306.99 403.42,-286.59 415.08,-271.81\"/>\n<polygon fill=\"black\" stroke=\"black\" points=\"418.18,-273.52 421.47,-263.45 412.61,-269.27 418.18,-273.52\"/>\n</g>\n<!-- 139163140688608 -->\n<g id=\"node8\" class=\"node\">\n<title>139163140688608</title>\n<polygon fill=\"lightblue\" stroke=\"black\" points=\"267.5,-447 213.5,-447 213.5,-413 267.5,-413 267.5,-447\"/>\n<text text-anchor=\"middle\" x=\"240.5\" y=\"-433.4\" font-family=\"monospace\" font-size=\"12.00\">x</text>\n<text text-anchor=\"middle\" x=\"240.5\" y=\"-420.4\" font-family=\"monospace\" font-size=\"12.00\"> ()</text>\n</g>\n<!-- 139163140688608&#45;&gt;139163140006112 -->\n<g id=\"edge6\" class=\"edge\">\n<title>139163140688608&#45;&gt;139163140006112</title>\n<path fill=\"none\" stroke=\"black\" d=\"M240.5,-412.84C240.5,-405.01 240.5,-395.54 240.5,-387.28\"/>\n<polygon fill=\"black\" stroke=\"black\" points=\"244,-387.04 240.5,-377.04 237,-387.04 244,-387.04\"/>\n</g>\n<!-- 139163140008416 -->\n<g id=\"node9\" class=\"node\">\n<title>139163140008416</title>\n<polygon fill=\"lightgrey\" stroke=\"black\" points=\"232,-263 125,-263 125,-242 232,-242 232,-263\"/>\n<text text-anchor=\"middle\" x=\"178.5\" y=\"-249.4\" font-family=\"monospace\" font-size=\"12.00\">MulBackward1</text>\n</g>\n<!-- 139163140008416&#45;&gt;139163140008368 -->\n<g id=\"edge7\" class=\"edge\">\n<title>139163140008416&#45;&gt;139163140008368</title>\n<path fill=\"none\" stroke=\"black\" d=\"M178.5,-241.92C178.5,-234.91 178.5,-225.14 178.5,-216.47\"/>\n<polygon fill=\"black\" stroke=\"black\" points=\"182,-216.34 178.5,-206.34 175,-216.34 182,-216.34\"/>\n</g>\n<!-- 139163140008848&#45;&gt;139163140008416 -->\n<g id=\"edge8\" class=\"edge\">\n<title>139163140008848&#45;&gt;139163140008416</title>\n<path fill=\"none\" stroke=\"black\" d=\"M178.5,-298.92C178.5,-291.91 178.5,-282.14 178.5,-273.47\"/>\n<polygon fill=\"black\" stroke=\"black\" points=\"182,-273.34 178.5,-263.34 175,-273.34 182,-273.34\"/>\n</g>\n<!-- 139163140008560 -->\n<g id=\"node11\" class=\"node\">\n<title>139163140008560</title>\n<polygon fill=\"lightgrey\" stroke=\"black\" points=\"357,-206 250,-206 250,-185 357,-185 357,-206\"/>\n<text text-anchor=\"middle\" x=\"303.5\" y=\"-192.4\" font-family=\"monospace\" font-size=\"12.00\">MulBackward0</text>\n</g>\n<!-- 139163140008560&#45;&gt;139163140005536 -->\n<g id=\"edge10\" class=\"edge\">\n<title>139163140008560&#45;&gt;139163140005536</title>\n<path fill=\"none\" stroke=\"black\" d=\"M292.53,-184.92C283.42,-176.97 270.27,-165.49 259.47,-156.06\"/>\n<polygon fill=\"black\" stroke=\"black\" points=\"261.61,-153.28 251.77,-149.34 257,-158.55 261.61,-153.28\"/>\n</g>\n<!-- 139163140012784 -->\n<g id=\"node12\" class=\"node\">\n<title>139163140012784</title>\n<polygon fill=\"lightgrey\" stroke=\"black\" points=\"357,-263 250,-263 250,-242 357,-242 357,-263\"/>\n<text text-anchor=\"middle\" x=\"303.5\" y=\"-249.4\" font-family=\"monospace\" font-size=\"12.00\">MulBackward0</text>\n</g>\n<!-- 139163140012784&#45;&gt;139163140008560 -->\n<g id=\"edge11\" class=\"edge\">\n<title>139163140012784&#45;&gt;139163140008560</title>\n<path fill=\"none\" stroke=\"black\" d=\"M303.5,-241.92C303.5,-234.91 303.5,-225.14 303.5,-216.47\"/>\n<polygon fill=\"black\" stroke=\"black\" points=\"307,-216.34 303.5,-206.34 300,-216.34 307,-216.34\"/>\n</g>\n<!-- 139163140008704&#45;&gt;139163140012784 -->\n<g id=\"edge12\" class=\"edge\">\n<title>139163140008704&#45;&gt;139163140012784</title>\n<path fill=\"none\" stroke=\"black\" d=\"M303.5,-298.92C303.5,-291.91 303.5,-282.14 303.5,-273.47\"/>\n<polygon fill=\"black\" stroke=\"black\" points=\"307,-273.34 303.5,-263.34 300,-273.34 307,-273.34\"/>\n</g>\n<!-- 139163140012496&#45;&gt;139163140008560 -->\n<g id=\"edge14\" class=\"edge\">\n<title>139163140012496&#45;&gt;139163140008560</title>\n<path fill=\"none\" stroke=\"black\" d=\"M406.73,-241.92C386.86,-233.18 357.28,-220.16 334.87,-210.3\"/>\n<polygon fill=\"black\" stroke=\"black\" points=\"336.01,-206.98 325.44,-206.16 333.19,-213.39 336.01,-206.98\"/>\n</g>\n</g>\n</svg>\n",
            "text/plain": [
              "<graphviz.graphs.Digraph at 0x7e9171869ab0>"
            ]
          },
          "metadata": {},
          "execution_count": 21
        }
      ]
    },
    {
      "cell_type": "markdown",
      "source": [
        "# Back to fixed points: fixed point JVPs and VJPs\n",
        "- Now the idea is to connect our mathematical implicit differentiation expression to pytorch's autodiff.\n",
        "- for a fixed point solution mapping z∗, which for any paramter value a∈Rp gives us a solution to the fixed point equation\n",
        "\n",
        "      z∗(a)=f(a,z∗(a))\n",
        "\n",
        "we deduced that at a particular point a0 with z0=z∗(a0) we must have\n",
        "\n",
        "      ∂z∗(a0)=[I−∂1f(a0,z0)]−1∂0f(a0,z0)"
      ],
      "metadata": {
        "id": "tCd59Mv4m1H2"
      }
    },
    {
      "cell_type": "code",
      "source": [
        "# Hooking implicit differentiation formulas inot pytorch autodiff using functional.jvp and functional.vjp\n",
        "import torch\n",
        "from torch.autograd import Function\n",
        "\n",
        "class FixedPointLayer(Function):\n",
        "    @staticmethod\n",
        "    def forward(ctx, solver, f, params, x):\n",
        "        # Forward pass: compute the fixed point\n",
        "        z_star = solver(lambda z: f(params, x, z), torch.zeros_like(x))\n",
        "        ctx.save_for_backward(params, x, z_star)\n",
        "        ctx.solver = solver\n",
        "        ctx.f = f\n",
        "        return z_star\n",
        "\n",
        "    @staticmethod\n",
        "    def backward(ctx, z_star_bar):\n",
        "        # Backward pass: compute the gradients\n",
        "        params, x, z_star = ctx.saved_tensors\n",
        "        solver = ctx.solver\n",
        "        f = ctx.f\n",
        "\n",
        "        # Calculate VJP for params and x\n",
        "        _, vjp_params_x = torch.autograd.functional.vjp(lambda p, x: f(p, x, z_star), params, x)\n",
        "        _, vjp_z = torch.autograd.functional.vjp(lambda z: f(params, x, z), z_star)\n",
        "\n",
        "        # Solve for the backward pass\n",
        "        grad_params, grad_x = vjp_params_x(solver(lambda u: vjp_z(u)[0] + z_star_bar, torch.zeros_like(z_star)))\n",
        "\n",
        "        return None, None, grad_params, grad_x\n",
        "\n",
        "# Function to create the custom fixed-point layer\n",
        "def fixed_point_layer(solver, f, params, x):\n",
        "    return FixedPointLayer.apply(solver, f, params, x)\n",
        "\n",
        "# Example Usage:\n",
        "def f(params, x, z):\n",
        "    return torch.tanh(torch.matmul(params, z) + x)\n",
        "\n",
        "def solver(func, z_init):\n",
        "    # A simple fixed-point solver (e.g., using iteration)\n",
        "    z = z_init\n",
        "    for _ in range(10):  # fixed number of iterations\n",
        "        z = func(z)\n",
        "    return z\n",
        "\n",
        "params = torch.randn((10, 10), requires_grad=True)\n",
        "x = torch.randn((10,), requires_grad=True)\n",
        "\n",
        "z_star = fixed_point_layer(solver, f, params, x)\n",
        "\n",
        "# Perform backpropagation\n",
        "z_star.sum().backward()\n"
      ],
      "metadata": {
        "id": "cTrFBY7VJaMO"
      },
      "execution_count": null,
      "outputs": []
    }
  ]
}