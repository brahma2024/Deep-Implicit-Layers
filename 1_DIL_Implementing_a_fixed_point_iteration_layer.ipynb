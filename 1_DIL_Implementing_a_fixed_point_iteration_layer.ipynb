{
  "nbformat": 4,
  "nbformat_minor": 0,
  "metadata": {
    "colab": {
      "provenance": [],
      "authorship_tag": "ABX9TyNhkEc1wXUzGhOvbR7A4zU3",
      "include_colab_link": true
    },
    "kernelspec": {
      "name": "python3",
      "display_name": "Python 3"
    },
    "language_info": {
      "name": "python"
    }
  },
  "cells": [
    {
      "cell_type": "markdown",
      "metadata": {
        "id": "view-in-github",
        "colab_type": "text"
      },
      "source": [
        "<a href=\"https://colab.research.google.com/github/brahma2024/Deep-Implicit-Layers/blob/develop/1_DIL_Implementing_a_fixed_point_iteration_layer.ipynb\" target=\"_parent\"><img src=\"https://colab.research.google.com/assets/colab-badge.svg\" alt=\"Open In Colab\"/></a>"
      ]
    },
    {
      "cell_type": "markdown",
      "source": [
        "# Deep Implicit Layer Tutorial\n",
        "\n",
        "- **Implementing a fixed point iteration layer**"
      ],
      "metadata": {
        "id": "cCnct3LWJmDE"
      }
    },
    {
      "cell_type": "code",
      "execution_count": 1,
      "metadata": {
        "id": "YZbezi8zGx4e"
      },
      "outputs": [],
      "source": [
        "import torch\n",
        "import torch.nn as nn\n",
        "import matplotlib.pyplot as plt\n",
        "\n",
        "%matplotlib inline"
      ]
    },
    {
      "cell_type": "code",
      "source": [
        "class TanhFixedPointLayer(nn.Module):\n",
        "  def __init__(self, out_features, tolerance = 1e-4, max_iters = 50):\n",
        "    super().__init__()\n",
        "    self.linear = nn.Linear(out_features, out_features, bias=False)\n",
        "    self.tolerance = tolerance\n",
        "    self.max_iters = max_iters\n",
        "\n",
        "  def forward(self, x):\n",
        "    # forward method builds the computation graph\n",
        "\n",
        "    # initialize output z to be zero\n",
        "    z = torch.zeros_like(x)\n",
        "    self.iterations = 0\n",
        "    errs_stepwise = []\n",
        "\n",
        "    # iterate until convergence\n",
        "    while self.iterations < self.max_iters:\n",
        "      z_next = torch.tanh(self.linear(z) + x)\n",
        "      self.err = torch.norm(z - z_next) # using default Frobenius norm (default, same as L2 norm for matrices)\n",
        "      # The norm is a measure of the magnitude of a tensor, and there are different types of norms,\n",
        "      # such as L1 norm (Manhattan distance), L2 norm (Euclidean distance), and others\n",
        "      errs_stepwise.append(self.err)\n",
        "\n",
        "      z = z_next\n",
        "      self.iterations += 1\n",
        "\n",
        "      if self.iterations % 5 == 0:\n",
        "        print(f\"self.iterations/max_ters: {self.iterations:d}/{self.max_iters:d} | err = {self.err:.7f}\")\n",
        "\n",
        "      if self.err < self.tolerance:\n",
        "        break\n",
        "\n",
        "    return z, errs_stepwise"
      ],
      "metadata": {
        "id": "_7dAUjzTLbhz"
      },
      "execution_count": 5,
      "outputs": []
    },
    {
      "cell_type": "code",
      "source": [
        "# run the above layer on a random output, to see that in reaches a fixed point\n",
        "layer = TanhFixedPointLayer(50)\n",
        "X = torch.randn(10, 50)\n",
        "print(X.shape)\n",
        "Z, errs = layer(X)\n",
        "print(f'Terminated after {layer.iterations} iterations with error {layer.err}')"
      ],
      "metadata": {
        "colab": {
          "base_uri": "https://localhost:8080/"
        },
        "id": "qr_4oJOfRXkH",
        "outputId": "7ae590d2-3b62-46ff-a8c5-d712e5e791bd"
      },
      "execution_count": 6,
      "outputs": [
        {
          "output_type": "stream",
          "name": "stdout",
          "text": [
            "torch.Size([10, 50])\n",
            "self.iterations/max_ters: 5/50 | err = 0.3062996\n",
            "self.iterations/max_ters: 10/50 | err = 0.0033542\n",
            "Terminated after 14 iterations with error 9.445871546631679e-05\n"
          ]
        }
      ]
    },
    {
      "cell_type": "code",
      "source": [
        "plt.plot([err.detach().numpy() for err in errs])"
      ],
      "metadata": {
        "colab": {
          "base_uri": "https://localhost:8080/",
          "height": 447
        },
        "id": "EZQpq5cHTzJe",
        "outputId": "0ff70317-3367-49fb-bf22-5471e5ea4749"
      },
      "execution_count": 7,
      "outputs": [
        {
          "output_type": "execute_result",
          "data": {
            "text/plain": [
              "[<matplotlib.lines.Line2D at 0x7e9f64e70b50>]"
            ]
          },
          "metadata": {},
          "execution_count": 7
        },
        {
          "output_type": "display_data",
          "data": {
            "text/plain": [
              "<Figure size 640x480 with 1 Axes>"
            ],
            "image/png": "[encoded data removed]"
          },
          "metadata": {}
        }
      ]
    },
    {
      "cell_type": "markdown",
      "source": [
        "# Simple model trained on the MNIST dataset,\n",
        "- using a single fixed point layer\n",
        "- with an additional linear input layer before the fixed point layer, and\n",
        "- linear layer after the fixed point layer\n",
        "\n",
        "# Objective:\n",
        "- the network at least trains with this layer"
      ],
      "metadata": {
        "id": "XBVUiebdTZnK"
      }
    }
  ]
}