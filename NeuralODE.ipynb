{
  "nbformat": 4,
  "nbformat_minor": 0,
  "metadata": {
    "colab": {
      "provenance": [],
      "gpuType": "T4",
      "authorship_tag": "ABX9TyNhico0PXmpzgMyfRn6Kz3d",
      "include_colab_link": true
    },
    "kernelspec": {
      "name": "python3",
      "display_name": "Python 3"
    },
    "language_info": {
      "name": "python"
    },
    "accelerator": "GPU"
  },
  "cells": [
    {
      "cell_type": "markdown",
      "metadata": {
        "id": "view-in-github",
        "colab_type": "text"
      },
      "source": [
        "<a href=\"https://colab.research.google.com/github/brahma2024/Deep-Implicit-Layers/blob/main/NeuralODE.ipynb\" target=\"_parent\"><img src=\"https://colab.research.google.com/assets/colab-badge.svg\" alt=\"Open In Colab\"/></a>"
      ]
    },
    {
      "cell_type": "markdown",
      "source": [
        "**Chapter 3: Neural ODE**\n",
        "\n",
        "- Define MLP, ResNet, loss function and training from scratch\n",
        "- Add ODE\n",
        "- Batch ODE\n",
        "- Solve a curve fitting with ODENet and compare with from scratch ResNet"
      ],
      "metadata": {
        "id": "KgIszYah1Sef"
      }
    },
    {
      "cell_type": "code",
      "source": [
        "!pip install torchdiffeq\n",
        "from torchdiffeq import odeint\n",
        "from torchdiffeq import odeint_adjoint"
      ],
      "metadata": {
        "colab": {
          "base_uri": "https://localhost:8080/"
        },
        "id": "JhlVYZVJk5Ze",
        "outputId": "c5929fb8-b04c-4b35-b94e-237e1fdf3352"
      },
      "execution_count": null,
      "outputs": [
        {
          "output_type": "stream",
          "name": "stdout",
          "text": [
            "Collecting torchdiffeq\n",
            "  Downloading torchdiffeq-0.2.4-py3-none-any.whl.metadata (440 bytes)\n",
            "Requirement already satisfied: torch>=1.5.0 in /usr/local/lib/python3.10/dist-packages (from torchdiffeq) (2.4.1+cu121)\n",
            "Requirement already satisfied: scipy>=1.4.0 in /usr/local/lib/python3.10/dist-packages (from torchdiffeq) (1.13.1)\n",
            "Requirement already satisfied: numpy<2.3,>=1.22.4 in /usr/local/lib/python3.10/dist-packages (from scipy>=1.4.0->torchdiffeq) (1.26.4)\n",
            "Requirement already satisfied: filelock in /usr/local/lib/python3.10/dist-packages (from torch>=1.5.0->torchdiffeq) (3.16.1)\n",
            "Requirement already satisfied: typing-extensions>=4.8.0 in /usr/local/lib/python3.10/dist-packages (from torch>=1.5.0->torchdiffeq) (4.12.2)\n",
            "Requirement already satisfied: sympy in /usr/local/lib/python3.10/dist-packages (from torch>=1.5.0->torchdiffeq) (1.13.3)\n",
            "Requirement already satisfied: networkx in /usr/local/lib/python3.10/dist-packages (from torch>=1.5.0->torchdiffeq) (3.3)\n",
            "Requirement already satisfied: jinja2 in /usr/local/lib/python3.10/dist-packages (from torch>=1.5.0->torchdiffeq) (3.1.4)\n",
            "Requirement already satisfied: fsspec in /usr/local/lib/python3.10/dist-packages (from torch>=1.5.0->torchdiffeq) (2024.6.1)\n",
            "Requirement already satisfied: MarkupSafe>=2.0 in /usr/local/lib/python3.10/dist-packages (from jinja2->torch>=1.5.0->torchdiffeq) (2.1.5)\n",
            "Requirement already satisfied: mpmath<1.4,>=1.1.0 in /usr/local/lib/python3.10/dist-packages (from sympy->torch>=1.5.0->torchdiffeq) (1.3.0)\n",
            "Downloading torchdiffeq-0.2.4-py3-none-any.whl (32 kB)\n",
            "Installing collected packages: torchdiffeq\n",
            "Successfully installed torchdiffeq-0.2.4\n"
          ]
        }
      ]
    },
    {
      "cell_type": "code",
      "source": [
        "import torch\n",
        "import torch.nn as nn\n",
        "import torch.nn.functional as F\n",
        "from torch.autograd import grad\n",
        "import torch.optim as optim\n",
        "import numpy as np\n",
        "import matplotlib.pyplot as plt\n",
        "\n",
        "%matplotlib inline"
      ],
      "metadata": {
        "id": "lIRPtAqGkrN3"
      },
      "execution_count": null,
      "outputs": []
    },
    {
      "cell_type": "markdown",
      "source": [
        "**Step 1: Define an MLP**"
      ],
      "metadata": {
        "id": "bw22PODRmCh8"
      }
    },
    {
      "cell_type": "code",
      "source": [
        "# Define an MLP\n",
        "\n",
        "class CustomMLPBlock(nn.Module):\n",
        "    def __init__(self, input_size, output_size):\n",
        "        super(CustomMLPBlock, self).__init__()\n",
        "        self.fc = nn.Linear(input_size, output_size)  # Linear layer\n",
        "        self.bn = nn.BatchNorm1d(output_size)         # Batch normalization\n",
        "        self.activation = nn.Tanh()            # Tanh activation\n",
        "\n",
        "    def forward(self, x):\n",
        "        out = self.fc(x)\n",
        "        out = self.bn(out)\n",
        "        out = self.activation(out)\n",
        "        return out"
      ],
      "metadata": {
        "id": "w2LuwjcR1VMc"
      },
      "execution_count": null,
      "outputs": []
    },
    {
      "cell_type": "code",
      "source": [
        "# Instantiate and test the block\n",
        "block = CustomMLPBlock(input_size=10, output_size=5)\n",
        "inputs = torch.randn(3, 10, requires_grad=True)  # Sample input\n",
        "outputs = block(inputs)\n",
        "loss = outputs.sum()  # Simple loss\n",
        "loss.backward()  # Backward pass\n",
        "print(loss)"
      ],
      "metadata": {
        "colab": {
          "base_uri": "https://localhost:8080/"
        },
        "id": "MazvtC9tNNiF",
        "outputId": "0612bf60-c575-467f-af54-b781a820f429"
      },
      "execution_count": null,
      "outputs": [
        {
          "output_type": "stream",
          "name": "stdout",
          "text": [
            "tensor(0.0814, grad_fn=<SumBackward0>)\n"
          ]
        }
      ]
    },
    {
      "cell_type": "markdown",
      "source": [
        "**Step 2: Define a ResNet**"
      ],
      "metadata": {
        "id": "zFcxN4W8mHIu"
      }
    },
    {
      "cell_type": "code",
      "source": [
        "# To build larger models, chain together or compose layers\n",
        "class ResidualBlock(nn.Module):\n",
        "    def __init__(self, input_size, output_size):\n",
        "        super(ResidualBlock, self).__init__()\n",
        "        self.mlp = CustomMLPBlock(input_size, output_size)\n",
        "\n",
        "        # If input and output sizes differ, apply a linear transformation to the input to match sizes\n",
        "        self.match_dimensions = nn.Linear(input_size, output_size) if input_size != output_size else None\n",
        "\n",
        "    def forward(self, x):\n",
        "        residual = x\n",
        "        out = self.mlp(x)\n",
        "\n",
        "        # If dimensions don't match, transform the input to match the output size\n",
        "        if self.match_dimensions:\n",
        "            residual = self.match_dimensions(x)\n",
        "\n",
        "        out = out + residual  # Add the input (identity connection) to the output\n",
        "        return out\n"
      ],
      "metadata": {
        "id": "niFXb3O9lV0L"
      },
      "execution_count": null,
      "outputs": []
    },
    {
      "cell_type": "markdown",
      "source": [
        "**Step 3: Build a Deep ResNet-like Model**"
      ],
      "metadata": {
        "id": "u3OOnygomMon"
      }
    },
    {
      "cell_type": "code",
      "source": [
        "class DeepResNet(nn.Module):\n",
        "    def __init__(self, input_size, num_blocks, block_size=64, output_size=1):\n",
        "        super(DeepResNet, self).__init__()\n",
        "        self.input_layer = nn.Linear(input_size, block_size)\n",
        "        # block_size refers to the number of neurons (or units) in each layer of the residual blocks\n",
        "        self.blocks = nn.Sequential(*[ResidualBlock(block_size, block_size) for _ in range(num_blocks)])\n",
        "        self.output_layer = nn.Linear(block_size, output_size)\n",
        "\n",
        "    def forward(self, x):\n",
        "      print(f'input step: {x.shape=}')\n",
        "      out = self.input_layer(x)\n",
        "      print(f'1st layer out: {out.shape=}')\n",
        "      out = self.blocks(out)\n",
        "      print(f'2nd layer out: {out.shape=}')\n",
        "      out = self.output_layer(out)\n",
        "      print(f'3rd layer out: {out.shape=}')\n",
        "      return out"
      ],
      "metadata": {
        "id": "VvKZRg9kFgi-"
      },
      "execution_count": null,
      "outputs": []
    },
    {
      "cell_type": "markdown",
      "source": [
        "**Step 4: Define the Model, Loss Criterion, Optimizer**"
      ],
      "metadata": {
        "id": "Fmd7RAPO_O4r"
      }
    },
    {
      "cell_type": "code",
      "source": [
        "# Define Toy Dataset\n",
        "inputs = torch.tensor(np.linspace(-4, 4, 40), dtype=torch.float32).reshape(-1, 1)\n",
        "print(f'{inputs.shape=}')\n",
        "# Generate random noise (from normal distribution)\n",
        "# noise = torch.tensor(np.linspace(-4, 1, 20), dtype=torch.float32).reshape(-1, 1)\n",
        "\n",
        "# Add noise to the inputs\n",
        "# noisy_inputs = inputs\n",
        "\n",
        "# Targets\n",
        "targets = torch.tensor(inputs**3 + 0.1*inputs, dtype=torch.float32)  # Cubic relationship\n",
        "print(f'{targets.shape=}')\n",
        "# Parameters\n",
        "input_size = 1  # For 1D inputs\n",
        "num_blocks = 1  # Number of residual blocks in the ResNet\n",
        "block_size = 20  # Number of neurons in each layer\n",
        "output_size = 1  # Single output for curve fitting\n",
        "\n",
        "# Instantiate the model\n",
        "model = DeepResNet(input_size, num_blocks, block_size, output_size)\n",
        "\n",
        "# Convert model to double precision (float32)\n",
        "model = model.float()\n",
        "\n",
        "# Convert model to double precision (float64)\n",
        "# model = model.double()\n",
        "\n",
        "# Define loss function and optimizer\n",
        "criterion = nn.MSELoss()\n"
      ],
      "metadata": {
        "colab": {
          "base_uri": "https://localhost:8080/"
        },
        "id": "kTCZN3V0_VR1",
        "outputId": "eaca44a9-e2c4-46b1-8db9-538c5f358cca"
      },
      "execution_count": null,
      "outputs": [
        {
          "output_type": "stream",
          "name": "stdout",
          "text": [
            "inputs.shape=torch.Size([40, 1])\n",
            "targets.shape=torch.Size([40, 1])\n"
          ]
        },
        {
          "output_type": "stream",
          "name": "stderr",
          "text": [
            "<ipython-input-24-a3b4276b4a6e>:11: UserWarning: To copy construct from a tensor, it is recommended to use sourceTensor.clone().detach() or sourceTensor.clone().detach().requires_grad_(True), rather than torch.tensor(sourceTensor).\n",
            "  targets = torch.tensor(inputs**3 + 0.1*inputs, dtype=torch.float32)  # Cubic relationship\n"
          ]
        }
      ]
    },
    {
      "cell_type": "markdown",
      "source": [
        "**Step 5: Train the model on a Toy 1D dataset**"
      ],
      "metadata": {
        "id": "qtxRDuM0Kt0Z"
      }
    },
    {
      "cell_type": "code",
      "source": [
        "optimizer = optim.Adam(model.parameters(), lr=0.0001)"
      ],
      "metadata": {
        "id": "xHFIvLlZP8Td"
      },
      "execution_count": null,
      "outputs": []
    },
    {
      "cell_type": "code",
      "source": [
        "# Training loop\n",
        "num_epochs = 1\n",
        "for epoch in range(num_epochs):\n",
        "    # Zero the gradients\n",
        "    optimizer.zero_grad()\n",
        "\n",
        "    # Forward pass\n",
        "    outputs = model(inputs)\n",
        "    # print(f'{outputs.shape=}')\n",
        "\n",
        "    # Calculate loss\n",
        "    loss = criterion(outputs, targets)\n",
        "\n",
        "    # Backward pass and optimization\n",
        "    loss.backward()\n",
        "    optimizer.step()\n",
        "\n",
        "    # Print loss at intervals\n",
        "    if (epoch + 1) % 1000 == 0:\n",
        "        print(f'Epoch [{epoch + 1}/{num_epochs}], Loss: {loss.item():.4f}')\n",
        "\n",
        "# After training, the model should have learned the cubic relationship"
      ],
      "metadata": {
        "colab": {
          "base_uri": "https://localhost:8080/"
        },
        "id": "jy_6qb8XKKgT",
        "outputId": "97fa1a9f-3b7c-4b99-9041-2845ffd2dd8d"
      },
      "execution_count": null,
      "outputs": [
        {
          "output_type": "stream",
          "name": "stdout",
          "text": [
            "input step: x.shape=torch.Size([40, 1])\n",
            "1st layer out: out.shape=torch.Size([40, 20])\n",
            "2nd layer out: out.shape=torch.Size([40, 20])\n",
            "3rd layer out: out.shape=torch.Size([40, 1])\n"
          ]
        }
      ]
    },
    {
      "cell_type": "markdown",
      "source": [
        "**Step 5.5: Save Model Parameters**"
      ],
      "metadata": {
        "id": "4tQ4HGqcTIMo"
      }
    },
    {
      "cell_type": "code",
      "source": [
        "# Assuming `model` trained model\n",
        "torch.save(model.state_dict(), 'model_parameters.pth')"
      ],
      "metadata": {
        "id": "c9T7p6TfTH5Z"
      },
      "execution_count": null,
      "outputs": []
    },
    {
      "cell_type": "code",
      "source": [
        "# Assuming `model` is an instance of the model class\n",
        "model = DeepResNet(input_size, num_blocks, block_size, output_size)  # Re-create the model instance\n",
        "\n",
        "# Load the state_dict (parameters)\n",
        "model.load_state_dict(torch.load('model_parameters.pth'))"
      ],
      "metadata": {
        "colab": {
          "base_uri": "https://localhost:8080/"
        },
        "id": "tPRj3LhUTS3z",
        "outputId": "67b2cc2c-3e1f-4142-a133-05253a932c3a"
      },
      "execution_count": null,
      "outputs": [
        {
          "output_type": "stream",
          "name": "stderr",
          "text": [
            "<ipython-input-11-46307ab36677>:5: FutureWarning: You are using `torch.load` with `weights_only=False` (the current default value), which uses the default pickle module implicitly. It is possible to construct malicious pickle data which will execute arbitrary code during unpickling (See https://github.com/pytorch/pytorch/blob/main/SECURITY.md#untrusted-models for more details). In a future release, the default value for `weights_only` will be flipped to `True`. This limits the functions that could be executed during unpickling. Arbitrary objects will no longer be allowed to be loaded via this mode unless they are explicitly allowlisted by the user via `torch.serialization.add_safe_globals`. We recommend you start setting `weights_only=True` for any use case where you don't have full control of the loaded file. Please open an issue on GitHub for any issues related to this experimental feature.\n",
            "  model.load_state_dict(torch.load('model_parameters.pth'))\n"
          ]
        },
        {
          "output_type": "execute_result",
          "data": {
            "text/plain": [
              "<All keys matched successfully>"
            ]
          },
          "metadata": {},
          "execution_count": 11
        }
      ]
    },
    {
      "cell_type": "markdown",
      "source": [
        "**Step 6: Make Predictions, and plot the results**"
      ],
      "metadata": {
        "id": "9uLhd7rUQbJW"
      }
    },
    {
      "cell_type": "code",
      "source": [
        "# Generate fine inputs for predictions\n",
        "fine_inputs = torch.tensor(np.linspace(-3, 3, 10), dtype=torch.float32).reshape(-1, 1)\n",
        "\n",
        "# Set the model to evaluation mode for inference\n",
        "model.eval()  # Set the model to evaluation mode\n",
        "with torch.no_grad():  # Disable gradient computation\n",
        "    predictions = model(fine_inputs)\n",
        "\n",
        "# Convert tensors to NumPy arrays for plotting\n",
        "inputs_np = inputs.numpy()\n",
        "targets_np = targets.numpy()\n",
        "fine_inputs_np = fine_inputs.numpy()\n",
        "predictions_np = predictions.numpy()\n",
        "\n",
        "\n",
        "fig = plt.figure(figsize=(6, 4), dpi=150)\n",
        "ax = fig.add_subplot()\n",
        "ax.scatter(inputs_np, targets_np, lw=0.5, color='green')\n",
        "ax.plot(fine_inputs_np, predictions_np, lw=0.5, color='blue')\n",
        "ax.set_xlabel('input')\n",
        "ax.set_ylabel('output')\n"
      ],
      "metadata": {
        "colab": {
          "base_uri": "https://localhost:8080/",
          "height": 211
        },
        "id": "9EkP1UT6QaZd",
        "outputId": "2a41a2e4-faaa-4c8a-ca77-3403c8fec5ca"
      },
      "execution_count": null,
      "outputs": [
        {
          "output_type": "error",
          "ename": "NameError",
          "evalue": "name 'noisy_inputs' is not defined",
          "traceback": [
            "\u001b[0;31m---------------------------------------------------------------------------\u001b[0m",
            "\u001b[0;31mNameError\u001b[0m                                 Traceback (most recent call last)",
            "\u001b[0;32m<ipython-input-12-ef5db49cbd41>\u001b[0m in \u001b[0;36m<cell line: 10>\u001b[0;34m()\u001b[0m\n\u001b[1;32m      8\u001b[0m \u001b[0;34m\u001b[0m\u001b[0m\n\u001b[1;32m      9\u001b[0m \u001b[0;31m# Convert tensors to NumPy arrays for plotting\u001b[0m\u001b[0;34m\u001b[0m\u001b[0;34m\u001b[0m\u001b[0m\n\u001b[0;32m---> 10\u001b[0;31m \u001b[0minputs_np\u001b[0m \u001b[0;34m=\u001b[0m \u001b[0mnoisy_inputs\u001b[0m\u001b[0;34m.\u001b[0m\u001b[0mnumpy\u001b[0m\u001b[0;34m(\u001b[0m\u001b[0;34m)\u001b[0m\u001b[0;34m\u001b[0m\u001b[0;34m\u001b[0m\u001b[0m\n\u001b[0m\u001b[1;32m     11\u001b[0m \u001b[0mtargets_np\u001b[0m \u001b[0;34m=\u001b[0m \u001b[0mtargets\u001b[0m\u001b[0;34m.\u001b[0m\u001b[0mnumpy\u001b[0m\u001b[0;34m(\u001b[0m\u001b[0;34m)\u001b[0m\u001b[0;34m\u001b[0m\u001b[0;34m\u001b[0m\u001b[0m\n\u001b[1;32m     12\u001b[0m \u001b[0mfine_inputs_np\u001b[0m \u001b[0;34m=\u001b[0m \u001b[0mfine_inputs\u001b[0m\u001b[0;34m.\u001b[0m\u001b[0mnumpy\u001b[0m\u001b[0;34m(\u001b[0m\u001b[0;34m)\u001b[0m\u001b[0;34m\u001b[0m\u001b[0;34m\u001b[0m\u001b[0m\n",
            "\u001b[0;31mNameError\u001b[0m: name 'noisy_inputs' is not defined"
          ]
        }
      ]
    },
    {
      "cell_type": "markdown",
      "source": [
        "**Step 7: [Optional] Reading/Viewing Model Parameters**"
      ],
      "metadata": {
        "id": "h_AfTDwpTvOl"
      }
    },
    {
      "cell_type": "code",
      "source": [
        "# Load the state_dict from the .pth file\n",
        "state_dict = torch.load('model_parameters.pth')\n",
        "\n",
        "# Print the keys of the state_dict to see the names of the layers\n",
        "print(\"Keys in state_dict:\")\n",
        "print(state_dict.keys())\n",
        "\n",
        "# Print out the actual values for one of the layers (e.g., the weights of the first layer)\n",
        "for key, value in state_dict.items():\n",
        "    print(f\"\\nLayer: {key}\")\n",
        "    print(value)"
      ],
      "metadata": {
        "id": "Kkfl1EpcT17_"
      },
      "execution_count": null,
      "outputs": []
    },
    {
      "cell_type": "markdown",
      "source": [
        "# **Neural ODE (ODE-Net)**\n",
        "\n",
        "the key idea is to model the continuous transformation of data using an ordinary differential equation (ODE). Instead of stacking discrete layers as in a traditional neural network, the model learns the dynamics of the data over time, which are then integrated using an ODE solver.\n",
        "\n",
        "Key Components:\n",
        "Dynamics Function: This function specifies how the state of the system changes over time. In a neural ODE, this is modeled by a neural network.\n",
        "ODE Solver: This numerically integrates the dynamics over a time interval to predict the system's behavior at future times."
      ],
      "metadata": {
        "id": "Gww3MVPvaWn9"
      }
    },
    {
      "cell_type": "markdown",
      "source": [
        "**Step 1: Import ODEINT and ODEINT_ADJOINT Functions**"
      ],
      "metadata": {
        "id": "meZpMI4NatL0"
      }
    },
    {
      "cell_type": "code",
      "source": [
        "from torchdiffeq import odeint, odeint_adjoint\n",
        "from functorch import vmap"
      ],
      "metadata": {
        "id": "n1Mn4Tz5a3vO"
      },
      "execution_count": null,
      "outputs": []
    },
    {
      "cell_type": "markdown",
      "source": [
        "**Step 2: Define the Batched Dynamics Function**"
      ],
      "metadata": {
        "id": "Vyyr7yCyaqXo"
      }
    },
    {
      "cell_type": "code",
      "source": [
        "class BatchedDynamicsFunction(nn.Module):\n",
        "  def __init__(self, hidden_size):\n",
        "    super(BatchedDynamicsFunction, self).__init__()\n",
        "    self.fc1 = nn.Linear(hidden_size + 1, hidden_size)  # +1 for time\n",
        "    self.fc2 = nn.Linear(hidden_size, hidden_size)\n",
        "    self.fc3 = nn.Linear(hidden_size, hidden_size)\n",
        "\n",
        "  def forward(self, t, state):\n",
        "    # print(f'dynamicsFunc_state {state.shape=}')\n",
        "    batch_size, hidden_size = state.shape  # Get batch size and hidden state size from input state\n",
        "    # print(f'{batch_size=}, {hidden_size=}')\n",
        "\n",
        "    time = t.unsqueeze(0).unsqueeze(-1).expand(batch_size, 1)  # Shape [batch_size, 1]\n",
        "    # print(f'{time.shape=}')\n",
        "\n",
        "    # Concatenate state and time along the last dimension\n",
        "    state_and_time = torch.cat([state, time], dim=-1)  # Shape: [batch_size, hidden_size + 1]\n",
        "    # print(f'{state_and_time.shape=}')\n",
        "\n",
        "    out = torch.tanh(self.fc1(state_and_time))\n",
        "    out = torch.tanh(self.fc2(out))\n",
        "    out = self.fc3(out)\n",
        "    return out"
      ],
      "metadata": {
        "id": "xuqgoE8AaY8a"
      },
      "execution_count": null,
      "outputs": []
    },
    {
      "cell_type": "markdown",
      "source": [
        "**Step 2: ODE Solver**"
      ],
      "metadata": {
        "id": "CpXuJg-Va-Hh"
      }
    },
    {
      "cell_type": "code",
      "source": [
        "class BatchedODEBlock(nn.Module):\n",
        "  def __init__(self, dynamics_function, window_size):\n",
        "    super(BatchedODEBlock, self).__init__()\n",
        "    self.dynamics_function = dynamics_function\n",
        "    self.time_steps = window_size\n",
        "\n",
        "  def forward(self, initial_state):\n",
        "    # print(f'BatchedODEBlock_inputstate {initial_state.shape=}')\n",
        "\n",
        "    # Define the time interval to span the entire window (e.g., 10 time steps)\n",
        "    time_interval = torch.arange(0, self.time_steps, dtype=torch.float32)  # Shape: [10]\n",
        "\n",
        "    # Solve ODE for the initial state across the time interval\n",
        "    # odeint expects shape [batch_size, state_size], so input_state should be [batch_size, hidden_size]\n",
        "    out = odeint(self.dynamics_function, initial_state, time_interval, method='dopri5')\n",
        "\n",
        "    # We can return either the final state or the entire trajectory, depending on the use case.\n",
        "    # Here, we return the final state after integration\n",
        "    return out[-1]  # Shape: [batch_size, hidden_size]"
      ],
      "metadata": {
        "id": "YkXyJsIsadl2"
      },
      "execution_count": null,
      "outputs": []
    },
    {
      "cell_type": "markdown",
      "source": [
        "**Step 3: Chain the ODEBlock**"
      ],
      "metadata": {
        "id": "NNns4aUobcs8"
      }
    },
    {
      "cell_type": "code",
      "source": [
        "# Define your model structure\n",
        "class BatchedODENet(nn.Module):\n",
        "  def __init__(self, state_size, hidden_size, window_size):\n",
        "    super(BatchedODENet, self).__init__()\n",
        "    self.input_layer = nn.Linear(state_size, hidden_size)\n",
        "    self.ode_block = BatchedODEBlock(BatchedDynamicsFunction(hidden_size), window_size)\n",
        "    self.output_layer = nn.Linear(hidden_size, state_size)\n",
        "\n",
        "  def forward(self, x):\n",
        "    # print(f'input {x.shape=}')\n",
        "    x = torch.tanh(self.input_layer(x))\n",
        "    # print(f'odeblock_input {x.shape=}')\n",
        "\n",
        "    # Only pass the initial state (first time step) of each batch to ode_block\n",
        "    initial_state = x[:, 0, :]  # Shape: [batch_size, hidden_size]\n",
        "    # print(f'initial_state {initial_state.shape=}')\n",
        "\n",
        "    # Integrate the initial state forward across the time interval\n",
        "    x = self.ode_block(initial_state)\n",
        "    # print(f'odeblock_output {x.shape=}')\n",
        "\n",
        "    x = self.output_layer(x)\n",
        "    return x"
      ],
      "metadata": {
        "id": "n7J3x0eMbfb6"
      },
      "execution_count": null,
      "outputs": []
    },
    {
      "cell_type": "markdown",
      "source": [
        "**Steps: for Batched Neural ODE in PyTorch:**\n",
        "\n",
        "Modify the Dynamics Function to handle batched inputs.\n",
        "Integrate with ODE Solver in a batched fashion by solving for all batch elements simultaneously.\n",
        "Train the model using a typical batch-based gradient descent method.\n",
        "\n",
        "**Sliding Window Concept**\n",
        "Given a time series of stock prices over the last 6 months, let's assume we have 180 daily closing prices,\n",
        "\n",
        "{$𝑥_1, 𝑥_2, …,𝑥_{180}$}\n",
        "\n",
        "The goal is to use a sliding window to create overlapping segments of this time series, each segment representing a small window of consecutive prices.\n",
        "\n",
        "For a window size of 10 days, the sliding window would generate the following sequences:\n",
        "\n",
        "$$\n",
        "X_1 = \\{ x_1, x_2, \\dots, x_{10} \\}, \\\\\n",
        "X_2 = \\{ x_2, x_3, \\dots, x_{11} \\}, \\\\\n",
        "\\vdots \\\\\n",
        "X_{171} = \\{ x_{171}, x_{172}, \\dots, x_{180} \\}.\n",
        "$$\n",
        "\n",
        "Here, each $𝑋_𝑖$ is a 10-dimensional vector representing 10 consecutive days of stock prices."
      ],
      "metadata": {
        "id": "AhkDLIipdBei"
      }
    },
    {
      "cell_type": "markdown",
      "source": [
        "Using a stochastic process like `Geometric Brownian Motion (GBM)`, to model stock prices"
      ],
      "metadata": {
        "id": "Ml5D5UDidPoO"
      }
    },
    {
      "cell_type": "code",
      "source": [
        "# Parameters for the GBM model\n",
        "S0 = 55.0  # Initial stock price\n",
        "mu = 0.05   # Expected return\n",
        "sigma = 0.4 # Volatility\n",
        "T = 1.0     # Time horizon\n",
        "N = 252     # Number of time steps (e.g., trading days in a year)\n",
        "dt = T / N  # Time step size\n",
        "\n",
        "# Generate random normal variables for the Brownian motion\n",
        "z = torch.randn(N)\n",
        "\n",
        "# Convert dt to a tensor\n",
        "dt_tensor = torch.tensor(dt, dtype=torch.float32)\n",
        "\n",
        "# Simulate stock prices using GBM\n",
        "def simulate_gbm(S0, mu, sigma, dt_tensor, z):\n",
        "    S = torch.zeros(len(z) + 1)\n",
        "    S[0] = S0\n",
        "    for t in range(1, len(S)):\n",
        "        S[t] = S[t-1] * torch.exp((mu - 0.5 * sigma**2) * dt_tensor + sigma * torch.sqrt(dt_tensor) * z[t-1])\n",
        "    return S\n",
        "\n",
        "# Generate the simulated prices\n",
        "prices = simulate_gbm(S0, mu, sigma, dt_tensor, z)\n",
        "print(f'{prices.shape=}, {len(prices)=}, {prices=}')"
      ],
      "metadata": {
        "colab": {
          "base_uri": "https://localhost:8080/"
        },
        "id": "hPb8oq5mdJA0",
        "outputId": "993feec1-5fb8-47ca-a75d-673670ccb5d7"
      },
      "execution_count": null,
      "outputs": [
        {
          "output_type": "stream",
          "name": "stdout",
          "text": [
            "prices.shape=torch.Size([253]), len(prices)=253, prices=tensor([55.0000, 56.9702, 57.4069, 57.2471, 56.2790, 56.8320, 55.2449, 56.2978,\n",
            "        54.3865, 54.2178, 55.5135, 56.1347, 55.8590, 56.8322, 57.4726, 56.8909,\n",
            "        56.7270, 57.1388, 58.5935, 56.8580, 57.6819, 55.9749, 57.5737, 60.9535,\n",
            "        64.8523, 66.2642, 69.0800, 66.1451, 65.9249, 65.9805, 67.0559, 70.4720,\n",
            "        69.7736, 68.9730, 71.4295, 69.4464, 64.7717, 64.9055, 64.4862, 65.7970,\n",
            "        63.9955, 64.6272, 63.0489, 64.7788, 64.6500, 64.0811, 63.2136, 64.4543,\n",
            "        63.1575, 63.3444, 63.1333, 64.2682, 64.3236, 65.3465, 63.8727, 64.3728,\n",
            "        64.0395, 65.6848, 66.3200, 66.9975, 67.9128, 68.3168, 71.3728, 72.4362,\n",
            "        75.0944, 74.8898, 74.6737, 75.2464, 74.7058, 77.1593, 74.4598, 73.8811,\n",
            "        74.8200, 71.9846, 72.2362, 72.9213, 70.9071, 70.5718, 71.7610, 70.0825,\n",
            "        71.1025, 70.6620, 72.0822, 71.5649, 71.3289, 73.0817, 75.1169, 74.9274,\n",
            "        73.7972, 73.2976, 74.9075, 75.0399, 77.4943, 78.5904, 77.4407, 77.0871,\n",
            "        74.8346, 73.0655, 71.9470, 72.0172, 75.4286, 77.5775, 75.3649, 72.7881,\n",
            "        72.0861, 71.9173, 71.6046, 69.5022, 68.5777, 66.4726, 64.3053, 62.3652,\n",
            "        62.5007, 60.4211, 60.6150, 59.1577, 61.0959, 60.7883, 64.8096, 62.8626,\n",
            "        63.9710, 65.4432, 63.7805, 62.9509, 65.5223, 66.6408, 65.6172, 68.6328,\n",
            "        68.1530, 70.4734, 72.6356, 72.3565, 72.7267, 72.8245, 73.8026, 76.3328,\n",
            "        73.1299, 73.1574, 77.0654, 75.9254, 77.3263, 75.3076, 73.9820, 72.7325,\n",
            "        73.0810, 72.6264, 72.5766, 73.3820, 76.4545, 76.5520, 78.9781, 79.2757,\n",
            "        79.0556, 75.6153, 75.8141, 77.6115, 77.0369, 75.1571, 73.8126, 71.4850,\n",
            "        69.3760, 69.4404, 66.0229, 65.2316, 64.2719, 66.0934, 66.5705, 65.4062,\n",
            "        63.5922, 64.1189, 62.5912, 64.0968, 64.3986, 64.3822, 63.1571, 60.9654,\n",
            "        60.5590, 61.4979, 60.2331, 60.8474, 61.2651, 64.6605, 63.5258, 65.2422,\n",
            "        64.3192, 65.4080, 66.4449, 65.2796, 65.4735, 65.1390, 63.6180, 63.7602,\n",
            "        61.4237, 62.3102, 62.5830, 59.7954, 57.7811, 58.3214, 58.8715, 57.8259,\n",
            "        57.5432, 59.8741, 60.3238, 58.9952, 58.1515, 56.9655, 58.2711, 59.5516,\n",
            "        58.1357, 59.1675, 62.0341, 61.5159, 60.3570, 58.9088, 56.7430, 56.2705,\n",
            "        55.7037, 58.0947, 58.0272, 56.5049, 56.7350, 55.3544, 55.8103, 57.3900,\n",
            "        57.3436, 59.2344, 57.8418, 58.5180, 59.9173, 59.2778, 60.1310, 58.8637,\n",
            "        59.6147, 59.7277, 63.4047, 64.2332, 65.5260, 64.1495, 65.7777, 64.0538,\n",
            "        62.2253, 63.8517, 63.9020, 61.9706, 59.9141, 58.2132, 58.6806, 58.1040,\n",
            "        59.9312, 59.9666, 63.2112, 59.7506, 59.2229])\n"
          ]
        }
      ]
    },
    {
      "cell_type": "code",
      "source": [
        "prices = prices.view(-1, 1)\n",
        "print(f'{prices.shape=}')\n",
        "print(prices[:10])"
      ],
      "metadata": {
        "colab": {
          "base_uri": "https://localhost:8080/"
        },
        "id": "9u9Z4UlIe2us",
        "outputId": "13feaf26-1f30-49b5-8ff6-99e68e647ee9"
      },
      "execution_count": null,
      "outputs": [
        {
          "output_type": "stream",
          "name": "stdout",
          "text": [
            "prices.shape=torch.Size([253, 1])\n",
            "tensor([[55.0000],\n",
            "        [56.9702],\n",
            "        [57.4069],\n",
            "        [57.2471],\n",
            "        [56.2790],\n",
            "        [56.8320],\n",
            "        [55.2449],\n",
            "        [56.2978],\n",
            "        [54.3865],\n",
            "        [54.2178]])\n"
          ]
        }
      ]
    },
    {
      "cell_type": "code",
      "source": [
        "# Simulated stock prices for 40 days\n",
        "# prices = torch.tensor(np.linspace(-4, 4, 40), dtype=torch.float32).reshape(-1, 1)\n",
        "print(f'{prices.shape=}')\n",
        "# Define the window size\n",
        "window_size = 10\n",
        "\n",
        "# Create sliding windows\n",
        "windows = [prices[i:i+window_size] for i in range(len(prices) - window_size + 1)]\n",
        "batched_inputs = torch.stack(windows)  # Shape: [price.shape - window_size+1, window_size, 1]\n",
        "print(f'{batched_inputs.shape=}')"
      ],
      "metadata": {
        "id": "s5Woi71msFxX",
        "colab": {
          "base_uri": "https://localhost:8080/"
        },
        "outputId": "b8bbe235-641f-47ca-afe6-3aa72430f383"
      },
      "execution_count": null,
      "outputs": [
        {
          "output_type": "stream",
          "name": "stdout",
          "text": [
            "prices.shape=torch.Size([253, 1])\n",
            "batched_inputs.shape=torch.Size([244, 10, 1])\n"
          ]
        }
      ]
    },
    {
      "cell_type": "code",
      "source": [
        "# Assuming a previously defined BatchedODENet model\n",
        "model = BatchedODENet(state_size=1, hidden_size=64, window_size=window_size)  # Example sizes\n",
        "\n",
        "# Define a simple loss function based on returns (example)\n",
        "def loss_fn(predicted, target):\n",
        "  return torch.mean((predicted - target) ** 2)"
      ],
      "metadata": {
        "id": "_GPfnXiNfsuH"
      },
      "execution_count": null,
      "outputs": []
    },
    {
      "cell_type": "code",
      "source": [
        "optimizer = torch.optim.Adam(model.parameters(), lr=0.001)"
      ],
      "metadata": {
        "id": "2vaDqG0DgLSc"
      },
      "execution_count": null,
      "outputs": []
    },
    {
      "cell_type": "code",
      "source": [
        "for epoch in range(1000):  # Example epoch count\n",
        "  optimizer.zero_grad()\n",
        "\n",
        "  # Forward pass through the model\n",
        "  predictions = model(batched_inputs)\n",
        "  # predictions_for_loss_comparison = predictions[:, -1, :]\n",
        "  # print(f'{predictions.shape=}, {predictions_for_loss_comparison.shape=}')\n",
        "  target_returns = batched_inputs[:, -1, :]  # Assuming the target is the price of the last day in each window\n",
        "\n",
        "  # Compute loss\n",
        "  loss = loss_fn(predictions, target_returns)\n",
        "  loss.backward()\n",
        "  optimizer.step()\n",
        "\n",
        "  if epoch % 100 == 0:\n",
        "    print('------------------------------------------')\n",
        "    print(f\"Epoch {epoch}, Loss: {loss.item()}\")\n",
        "    print(f' {predictions[0, :]=} | {target_returns[0, :]=}')"
      ],
      "metadata": {
        "colab": {
          "base_uri": "https://localhost:8080/"
        },
        "id": "MFvMbABCc_Zc",
        "outputId": "9945938e-c119-4593-d9f1-e4299d46a54a"
      },
      "execution_count": null,
      "outputs": [
        {
          "output_type": "stream",
          "name": "stdout",
          "text": [
            "------------------------------------------\n",
            "Epoch 0, Loss: 22.398239135742188\n",
            " predictions[0, :]=tensor([60.6732], grad_fn=<SliceBackward0>) | target_returns[0, :]=tensor([54.2178])\n",
            "------------------------------------------\n",
            "Epoch 100, Loss: 21.566707611083984\n",
            " predictions[0, :]=tensor([59.0135], grad_fn=<SliceBackward0>) | target_returns[0, :]=tensor([54.2178])\n",
            "------------------------------------------\n",
            "Epoch 200, Loss: 21.508665084838867\n",
            " predictions[0, :]=tensor([58.7047], grad_fn=<SliceBackward0>) | target_returns[0, :]=tensor([54.2178])\n",
            "------------------------------------------\n",
            "Epoch 300, Loss: 21.474525451660156\n",
            " predictions[0, :]=tensor([58.6955], grad_fn=<SliceBackward0>) | target_returns[0, :]=tensor([54.2178])\n",
            "------------------------------------------\n",
            "Epoch 400, Loss: 21.434894561767578\n",
            " predictions[0, :]=tensor([58.6961], grad_fn=<SliceBackward0>) | target_returns[0, :]=tensor([54.2178])\n",
            "------------------------------------------\n",
            "Epoch 500, Loss: 21.386873245239258\n",
            " predictions[0, :]=tensor([58.7448], grad_fn=<SliceBackward0>) | target_returns[0, :]=tensor([54.2178])\n",
            "------------------------------------------\n",
            "Epoch 600, Loss: 21.413639068603516\n",
            " predictions[0, :]=tensor([59.0388], grad_fn=<SliceBackward0>) | target_returns[0, :]=tensor([54.2178])\n",
            "------------------------------------------\n",
            "Epoch 700, Loss: 21.722265243530273\n",
            " predictions[0, :]=tensor([58.6385], grad_fn=<SliceBackward0>) | target_returns[0, :]=tensor([54.2178])\n",
            "------------------------------------------\n",
            "Epoch 800, Loss: 21.310678482055664\n",
            " predictions[0, :]=tensor([58.5282], grad_fn=<SliceBackward0>) | target_returns[0, :]=tensor([54.2178])\n",
            "------------------------------------------\n",
            "Epoch 900, Loss: 21.243011474609375\n",
            " predictions[0, :]=tensor([58.7143], grad_fn=<SliceBackward0>) | target_returns[0, :]=tensor([54.2178])\n"
          ]
        }
      ]
    },
    {
      "cell_type": "code",
      "source": [
        "loss"
      ],
      "metadata": {
        "colab": {
          "base_uri": "https://localhost:8080/"
        },
        "id": "yEJ8BWUGvUql",
        "outputId": "5753be19-33bd-43f9-a4a8-21eac9bee93d"
      },
      "execution_count": null,
      "outputs": [
        {
          "output_type": "execute_result",
          "data": {
            "text/plain": [
              "tensor(21.2907, grad_fn=<MeanBackward0>)"
            ]
          },
          "metadata": {},
          "execution_count": 29
        }
      ]
    },
    {
      "cell_type": "code",
      "source": [
        "# Convert tensors to NumPy arrays for plotting\n",
        "prices_np = prices.detach().numpy()\n",
        "predicted_prices_np = predictions.detach().numpy()\n",
        "\n",
        "# Set the index where predicted prices start (9th time stamp)\n",
        "start_index = 8\n",
        "\n",
        "# Create an array of time points for the predicted prices (starts at 9th point in time)\n",
        "time_points_for_predictions = np.arange(start_index, start_index + len(predicted_prices_np))\n",
        "\n",
        "# Plot actual prices (x-axis) vs. predicted prices (y-axis)\n",
        "fig = plt.figure(figsize=(6, 4), dpi=150)\n",
        "ax = fig.add_subplot()\n",
        "\n",
        "# Line plot for all input prices\n",
        "ax.plot(np.arange(len(prices_np)), prices_np, lw=0.5, color='green', label='Actual Prices')\n",
        "\n",
        "# Scatter plot for predicted prices, starting from the 9th timestamp\n",
        "ax.plot(time_points_for_predictions, predicted_prices_np, lw=0.5, color='blue', label='Predicted Prices')\n",
        "\n",
        "# Set labels and title\n",
        "ax.set_xlabel('Time (Index)')\n",
        "ax.set_ylabel('Prices')\n",
        "ax.set_title('Comparison of Actual Prices (Line) vs. Predicted Prices (Scatter)')\n",
        "\n",
        "# Add legend\n",
        "ax.legend()\n",
        "\n",
        "# Show plot\n",
        "plt.show()"
      ],
      "metadata": {
        "colab": {
          "base_uri": "https://localhost:8080/",
          "height": 603
        },
        "id": "zHO0QXQxrHdy",
        "outputId": "7466ad95-8632-4ef7-94b9-9bf4a5bc8e03"
      },
      "execution_count": null,
      "outputs": [
        {
          "output_type": "display_data",
          "data": {
            "text/plain": [
              "<Figure size 900x600 with 1 Axes>"
            ],
            "image/png": "[encoded data removed]"
          },
          "metadata": {}
        }
      ]
    },
    {
      "cell_type": "code",
      "source": [
        "# Assuming `model` trained model\n",
        "torch.save(model.state_dict(), 'NeuralODE_model_parameters.pth')"
      ],
      "metadata": {
        "id": "CqiESVyVsRLD"
      },
      "execution_count": null,
      "outputs": []
    },
    {
      "cell_type": "code",
      "source": [
        "# Assuming `model` is an instance of the model class\n",
        "model_ODE = BatchedODENet(state_size=1, hidden_size=50, window_size=window_size)\n",
        "\n",
        "# Load the state_dict (parameters)\n",
        "model_ODE.load_state_dict(torch.load('NeuralODE_model_parameters.pth'))"
      ],
      "metadata": {
        "colab": {
          "base_uri": "https://localhost:8080/",
          "height": 376
        },
        "id": "kQ8GzELotihN",
        "outputId": "7a0a2e4f-74c8-40ba-b7bf-c350456c7b7e"
      },
      "execution_count": null,
      "outputs": [
        {
          "output_type": "stream",
          "name": "stderr",
          "text": [
            "<ipython-input-11-109301e35573>:5: FutureWarning: You are using `torch.load` with `weights_only=False` (the current default value), which uses the default pickle module implicitly. It is possible to construct malicious pickle data which will execute arbitrary code during unpickling (See https://github.com/pytorch/pytorch/blob/main/SECURITY.md#untrusted-models for more details). In a future release, the default value for `weights_only` will be flipped to `True`. This limits the functions that could be executed during unpickling. Arbitrary objects will no longer be allowed to be loaded via this mode unless they are explicitly allowlisted by the user via `torch.serialization.add_safe_globals`. We recommend you start setting `weights_only=True` for any use case where you don't have full control of the loaded file. Please open an issue on GitHub for any issues related to this experimental feature.\n",
            "  model_ODE.load_state_dict(torch.load('NeuralODE_model_parameters.pth'))\n"
          ]
        },
        {
          "output_type": "error",
          "ename": "FileNotFoundError",
          "evalue": "[Errno 2] No such file or directory: 'NeuralODE_model_parameters.pth'",
          "traceback": [
            "\u001b[0;31m---------------------------------------------------------------------------\u001b[0m",
            "\u001b[0;31mFileNotFoundError\u001b[0m                         Traceback (most recent call last)",
            "\u001b[0;32m<ipython-input-11-109301e35573>\u001b[0m in \u001b[0;36m<cell line: 5>\u001b[0;34m()\u001b[0m\n\u001b[1;32m      3\u001b[0m \u001b[0;34m\u001b[0m\u001b[0m\n\u001b[1;32m      4\u001b[0m \u001b[0;31m# Load the state_dict (parameters)\u001b[0m\u001b[0;34m\u001b[0m\u001b[0;34m\u001b[0m\u001b[0m\n\u001b[0;32m----> 5\u001b[0;31m \u001b[0mmodel_ODE\u001b[0m\u001b[0;34m.\u001b[0m\u001b[0mload_state_dict\u001b[0m\u001b[0;34m(\u001b[0m\u001b[0mtorch\u001b[0m\u001b[0;34m.\u001b[0m\u001b[0mload\u001b[0m\u001b[0;34m(\u001b[0m\u001b[0;34m'NeuralODE_model_parameters.pth'\u001b[0m\u001b[0;34m)\u001b[0m\u001b[0;34m)\u001b[0m\u001b[0;34m\u001b[0m\u001b[0;34m\u001b[0m\u001b[0m\n\u001b[0m",
            "\u001b[0;32m/usr/local/lib/python3.10/dist-packages/torch/serialization.py\u001b[0m in \u001b[0;36mload\u001b[0;34m(f, map_location, pickle_module, weights_only, mmap, **pickle_load_args)\u001b[0m\n\u001b[1;32m   1063\u001b[0m         \u001b[0mpickle_load_args\u001b[0m\u001b[0;34m[\u001b[0m\u001b[0;34m'encoding'\u001b[0m\u001b[0;34m]\u001b[0m \u001b[0;34m=\u001b[0m \u001b[0;34m'utf-8'\u001b[0m\u001b[0;34m\u001b[0m\u001b[0;34m\u001b[0m\u001b[0m\n\u001b[1;32m   1064\u001b[0m \u001b[0;34m\u001b[0m\u001b[0m\n\u001b[0;32m-> 1065\u001b[0;31m     \u001b[0;32mwith\u001b[0m \u001b[0m_open_file_like\u001b[0m\u001b[0;34m(\u001b[0m\u001b[0mf\u001b[0m\u001b[0;34m,\u001b[0m \u001b[0;34m'rb'\u001b[0m\u001b[0;34m)\u001b[0m \u001b[0;32mas\u001b[0m \u001b[0mopened_file\u001b[0m\u001b[0;34m:\u001b[0m\u001b[0;34m\u001b[0m\u001b[0;34m\u001b[0m\u001b[0m\n\u001b[0m\u001b[1;32m   1066\u001b[0m         \u001b[0;32mif\u001b[0m \u001b[0m_is_zipfile\u001b[0m\u001b[0;34m(\u001b[0m\u001b[0mopened_file\u001b[0m\u001b[0;34m)\u001b[0m\u001b[0;34m:\u001b[0m\u001b[0;34m\u001b[0m\u001b[0;34m\u001b[0m\u001b[0m\n\u001b[1;32m   1067\u001b[0m             \u001b[0;31m# The zipfile reader is going to advance the current file position.\u001b[0m\u001b[0;34m\u001b[0m\u001b[0;34m\u001b[0m\u001b[0m\n",
            "\u001b[0;32m/usr/local/lib/python3.10/dist-packages/torch/serialization.py\u001b[0m in \u001b[0;36m_open_file_like\u001b[0;34m(name_or_buffer, mode)\u001b[0m\n\u001b[1;32m    466\u001b[0m \u001b[0;32mdef\u001b[0m \u001b[0m_open_file_like\u001b[0m\u001b[0;34m(\u001b[0m\u001b[0mname_or_buffer\u001b[0m\u001b[0;34m,\u001b[0m \u001b[0mmode\u001b[0m\u001b[0;34m)\u001b[0m\u001b[0;34m:\u001b[0m\u001b[0;34m\u001b[0m\u001b[0;34m\u001b[0m\u001b[0m\n\u001b[1;32m    467\u001b[0m     \u001b[0;32mif\u001b[0m \u001b[0m_is_path\u001b[0m\u001b[0;34m(\u001b[0m\u001b[0mname_or_buffer\u001b[0m\u001b[0;34m)\u001b[0m\u001b[0;34m:\u001b[0m\u001b[0;34m\u001b[0m\u001b[0;34m\u001b[0m\u001b[0m\n\u001b[0;32m--> 468\u001b[0;31m         \u001b[0;32mreturn\u001b[0m \u001b[0m_open_file\u001b[0m\u001b[0;34m(\u001b[0m\u001b[0mname_or_buffer\u001b[0m\u001b[0;34m,\u001b[0m \u001b[0mmode\u001b[0m\u001b[0;34m)\u001b[0m\u001b[0;34m\u001b[0m\u001b[0;34m\u001b[0m\u001b[0m\n\u001b[0m\u001b[1;32m    469\u001b[0m     \u001b[0;32melse\u001b[0m\u001b[0;34m:\u001b[0m\u001b[0;34m\u001b[0m\u001b[0;34m\u001b[0m\u001b[0m\n\u001b[1;32m    470\u001b[0m         \u001b[0;32mif\u001b[0m \u001b[0;34m'w'\u001b[0m \u001b[0;32min\u001b[0m \u001b[0mmode\u001b[0m\u001b[0;34m:\u001b[0m\u001b[0;34m\u001b[0m\u001b[0;34m\u001b[0m\u001b[0m\n",
            "\u001b[0;32m/usr/local/lib/python3.10/dist-packages/torch/serialization.py\u001b[0m in \u001b[0;36m__init__\u001b[0;34m(self, name, mode)\u001b[0m\n\u001b[1;32m    447\u001b[0m \u001b[0;32mclass\u001b[0m \u001b[0m_open_file\u001b[0m\u001b[0;34m(\u001b[0m\u001b[0m_opener\u001b[0m\u001b[0;34m)\u001b[0m\u001b[0;34m:\u001b[0m\u001b[0;34m\u001b[0m\u001b[0;34m\u001b[0m\u001b[0m\n\u001b[1;32m    448\u001b[0m     \u001b[0;32mdef\u001b[0m \u001b[0m__init__\u001b[0m\u001b[0;34m(\u001b[0m\u001b[0mself\u001b[0m\u001b[0;34m,\u001b[0m \u001b[0mname\u001b[0m\u001b[0;34m,\u001b[0m \u001b[0mmode\u001b[0m\u001b[0;34m)\u001b[0m\u001b[0;34m:\u001b[0m\u001b[0;34m\u001b[0m\u001b[0;34m\u001b[0m\u001b[0m\n\u001b[0;32m--> 449\u001b[0;31m         \u001b[0msuper\u001b[0m\u001b[0;34m(\u001b[0m\u001b[0;34m)\u001b[0m\u001b[0;34m.\u001b[0m\u001b[0m__init__\u001b[0m\u001b[0;34m(\u001b[0m\u001b[0mopen\u001b[0m\u001b[0;34m(\u001b[0m\u001b[0mname\u001b[0m\u001b[0;34m,\u001b[0m \u001b[0mmode\u001b[0m\u001b[0;34m)\u001b[0m\u001b[0;34m)\u001b[0m\u001b[0;34m\u001b[0m\u001b[0;34m\u001b[0m\u001b[0m\n\u001b[0m\u001b[1;32m    450\u001b[0m \u001b[0;34m\u001b[0m\u001b[0m\n\u001b[1;32m    451\u001b[0m     \u001b[0;32mdef\u001b[0m \u001b[0m__exit__\u001b[0m\u001b[0;34m(\u001b[0m\u001b[0mself\u001b[0m\u001b[0;34m,\u001b[0m \u001b[0;34m*\u001b[0m\u001b[0margs\u001b[0m\u001b[0;34m)\u001b[0m\u001b[0;34m:\u001b[0m\u001b[0;34m\u001b[0m\u001b[0;34m\u001b[0m\u001b[0m\n",
            "\u001b[0;31mFileNotFoundError\u001b[0m: [Errno 2] No such file or directory: 'NeuralODE_model_parameters.pth'"
          ]
        }
      ]
    },
    {
      "cell_type": "markdown",
      "source": [
        "next steps:\n",
        "1. Implement CT-RNN on the above input data\n",
        "2. Compare Neural ODEs and CT-RNN implementation in terms of their Expressivity\n",
        "    3. A key measure of expressivity in time-continuous models is the trajectory length — how the trajectory of input data is transformed through the network layers\n",
        "2.1. Backward pass with\n",
        "    2.1.1. Adjoint vs Backpropagation through time: plot accuracy and memory requirements\n",
        "2.1.2. Fused Euler Solver: apply to CT-RNN and Neural ODE, see how it performs    \n",
        "4. Memory profiling for Neural ODE vs. CT-RNNs (small-Tau vs Large-Tau)\n",
        "5. Adaptive dynamics in LTCs\n",
        "6. Compare LTCs vs Neural ODEs and CT-RNNs in terms of memory\n",
        "\n"
      ],
      "metadata": {
        "id": "8d3vZYnfOdKt"
      }
    },
    {
      "cell_type": "markdown",
      "source": [
        "# Loss Function as Profit/Loss of the trade\n",
        "- stock price at final state is y_T\n",
        "- we need to maximize (y_T - buy_price)\n",
        "- or say we have to minimize 1/(y_T - buy_price)"
      ],
      "metadata": {
        "id": "lG1UX-onpw_Z"
      }
    },
    {
      "cell_type": "code",
      "execution_count": null,
      "metadata": {
        "id": "NASVc3eqpuYf"
      },
      "outputs": [],
      "source": []
    }
  ]
}