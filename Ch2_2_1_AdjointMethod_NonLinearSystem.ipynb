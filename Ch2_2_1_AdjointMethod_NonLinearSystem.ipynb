{
  "nbformat": 4,
  "nbformat_minor": 0,
  "metadata": {
    "colab": {
      "provenance": [],
      "authorship_tag": "ABX9TyOj493tM+y3mgZxhXbzInAe",
      "include_colab_link": true
    },
    "kernelspec": {
      "name": "python3",
      "display_name": "Python 3"
    },
    "language_info": {
      "name": "python"
    }
  },
  "cells": [
    {
      "cell_type": "markdown",
      "metadata": {
        "id": "view-in-github",
        "colab_type": "text"
      },
      "source": [
        "<a href=\"https://colab.research.google.com/github/brahma2024/Deep-Implicit-Layers/blob/main/Ch2_2_1_AdjointMethod_NonLinearSystem.ipynb\" target=\"_parent\"><img src=\"https://colab.research.google.com/assets/colab-badge.svg\" alt=\"Open In Colab\"/></a>"
      ]
    },
    {
      "cell_type": "markdown",
      "source": [
        "# In this Notebook\n",
        "**1. Compare runtime complexity for solving a linear system of euqation between**\n",
        "  - `Solving the linear system of equation by doing a Matrix Inversion`\n",
        "    e.g. For a linear system of equation given by\n",
        "      $𝑨 ⋅ \\vec{v} = \\vec{b}$,\n",
        "      \n",
        " where $\\vec{v} ϵ  ℝⁿ$ \\begin{pmatrix} 1 & 2 & 3 .. n \\end{pmatrix}\n",
        "\n",
        "      solving through matrix inversion would require solving the following way\n",
        "      \n",
        "      $\\vec{v} = 𝑨\\^{-1} ⋅ \\vec{b}$\n",
        "\n",
        "  - `Directly Solving a System of linear equation using linear solvers like LU decomposition etc` is more efficient\n",
        "\n",
        "\n",
        "\n",
        "**2. Different methods for calculating sensitivities of Non-Linear Equation**\n",
        "\n",
        "**3. Adjoint Sensitivites of Non-Linear system of Equations**\n",
        "\n",
        "**4. Adjoint state method for an ODE**"
      ],
      "metadata": {
        "id": "8NqMTs89JdXw"
      }
    },
    {
      "cell_type": "markdown",
      "source": [
        "# Solving a Matrix Inverse:\n",
        "\n",
        "- **Understanding cost of solving using**\n",
        "  - `*[Non Prefered]* Direct Matrix Inversion`\n",
        "  - `*[Prefered]* Solving the system directly using techniques like Gaussian elimination, LU decomposition, or other numerical methods`\n",
        "\n",
        "- `For detailed explanation`,\n",
        "  - Ask chatGPT the question: explain this with example - \"The matrix 𝐴−1 suggests that we are solving a system of linear equations rather than directly inverting the matrix, which is more computationally efficient.\"\n",
        "\n",
        "Here are the reasons:\n",
        "- `Drawbacks of Direct Matrix Inversion:`\n",
        "  - Computing the inverse 𝐴−1 directly is computationally expensive, especially for large matrices. The time complexity for inverting a matrix is approximately O(n^3).\n",
        "  - Direct inversion can also lead to numerical instability, especially if 𝐴 is close to being singular (i.e., it's not easily invertible due to small determinants).\n",
        "\n",
        "- `Benefits of Solving the system of equations directly using techniques like LU decomposition`\n",
        "  - Solving the linear system Ax=b directly is computationally more efficient, typically having a complexity of 𝑂(𝑛^2) or slightly higher depending on the method used. It's also more numerically stable compared to inverting 𝐴 first."
      ],
      "metadata": {
        "id": "HO1HyIogKjLP"
      }
    },
    {
      "cell_type": "code",
      "execution_count": 8,
      "metadata": {
        "id": "LoTAgO0oJMa-"
      },
      "outputs": [],
      "source": [
        "import numpy as np\n",
        "import time\n",
        "import torch\n",
        "from torch.autograd.functional import jacobian\n",
        "from scipy import optimize\n",
        "import matplotlib.pyplot as plt"
      ]
    },
    {
      "cell_type": "code",
      "source": [
        "# Define Functions to Measure Time for Matrix Inversion and Solving a System\n",
        "\n",
        "def matrix_inversion(A, b):\n",
        "    # Measure the time taken to invert the matrix\n",
        "    start_time = time.time()\n",
        "    A_inv = np.linalg.inv(A)\n",
        "    x_direct = np.dot(A_inv, b)\n",
        "    end_time = time.time()\n",
        "\n",
        "    return x_direct, end_time - start_time\n",
        "\n",
        "def solve_system(A, b):\n",
        "    # Measure the time taken to solve the linear system\n",
        "    start_time = time.time()\n",
        "    x_solve = np.linalg.solve(A, b)\n",
        "    end_time = time.time()\n",
        "\n",
        "    return x_solve, end_time - start_time\n"
      ],
      "metadata": {
        "id": "Fr8pfIDzPX_z"
      },
      "execution_count": 2,
      "outputs": []
    },
    {
      "cell_type": "code",
      "source": [
        "# Comparing output from the 2 Methods: Direct Matrix Inversion and Solving the system of Equations directly\n",
        "\n",
        "# Generate a random n x n matrix\n",
        "n = 5\n",
        "\n",
        "# Create a random n x n matrix and an n x 1 vector\n",
        "A = np.random.rand(n, n)\n",
        "b = np.random.rand(n)\n",
        "\n",
        "# Method 1: Direct inversion (not recommended for large matrices)\n",
        "x_direct, _ = matrix_inversion(A, b)\n",
        "\n",
        "# Method 2: Solving the system directly (preferred method)\n",
        "x_solve, _ = solve_system(A, b)\n",
        "\n",
        "print(\"Solution using direct inversion:\", x_direct, A.shape)\n",
        "print(\"Solution using direct solving:\", x_solve)"
      ],
      "metadata": {
        "colab": {
          "base_uri": "https://localhost:8080/"
        },
        "id": "a1HuO0nYP47q",
        "outputId": "1569238f-b05f-4fb5-abe2-6f0bb6bcf2b2"
      },
      "execution_count": 3,
      "outputs": [
        {
          "output_type": "stream",
          "name": "stdout",
          "text": [
            "Solution using direct inversion: [-0.33259012  0.20809408  1.02050349  0.53425373 -0.68005155] (5, 5)\n",
            "Solution using direct solving: [-0.33259012  0.20809408  1.02050349  0.53425373 -0.68005155]\n"
          ]
        }
      ]
    },
    {
      "cell_type": "code",
      "source": [
        "# Run the experiment for Different Matrix Sizes\n",
        "\n",
        "# Define the matrix sizes to test\n",
        "matrix_sizes = [10, 50, 100, 200, 500, 1000, 2000]\n",
        "\n",
        "# Lists to store the times\n",
        "inversion_times = []\n",
        "solve_times = []\n",
        "\n",
        "# Measure time for each matrix size\n",
        "for n in matrix_sizes:\n",
        "  # Create a random n x n matrix and an n x 1 vector\n",
        "  A = np.random.rand(n, n)\n",
        "  b = np.random.rand(n)\n",
        "  _, inversion_time = matrix_inversion(A, b)\n",
        "  _, solve_time = solve_system(A, b)\n",
        "\n",
        "  inversion_times.append(inversion_time)\n",
        "  solve_times.append(solve_time)\n",
        "\n",
        "  print(f\"Matrix size {n}x{n}: Inversion time = {inversion_time:.6f} seconds, Solve time = {solve_time:.6f} seconds\")\n"
      ],
      "metadata": {
        "colab": {
          "base_uri": "https://localhost:8080/"
        },
        "id": "76z0p2UNPl7O",
        "outputId": "9db33a83-6bd4-4d41-84b3-26e464b281c7"
      },
      "execution_count": 4,
      "outputs": [
        {
          "output_type": "stream",
          "name": "stdout",
          "text": [
            "Matrix size 10x10: Inversion time = 0.000146 seconds, Solve time = 0.000046 seconds\n",
            "Matrix size 50x50: Inversion time = 0.000373 seconds, Solve time = 0.000112 seconds\n",
            "Matrix size 100x100: Inversion time = 0.006233 seconds, Solve time = 0.001454 seconds\n",
            "Matrix size 200x200: Inversion time = 0.007998 seconds, Solve time = 0.008825 seconds\n",
            "Matrix size 500x500: Inversion time = 0.059033 seconds, Solve time = 0.031278 seconds\n",
            "Matrix size 1000x1000: Inversion time = 0.248341 seconds, Solve time = 0.096367 seconds\n",
            "Matrix size 2000x2000: Inversion time = 1.691448 seconds, Solve time = 0.774159 seconds\n"
          ]
        }
      ]
    },
    {
      "cell_type": "markdown",
      "source": [
        "# Interpretation of Results\n",
        "\n",
        "- **Expected Observation:** As the matrix size n increases, the time taken to compute the matrix inverse should grow more rapidly compared to the time taken to solve the system of equations. This will confirm the *𝑂(𝑛^3)* time complexity of matrix inversion versus the typically *𝑂(𝑛^2)* or slightly higher complexity for solving linear systems.\n",
        "\n",
        "- **Plot:** The plot should visually demonstrate that as n increases, the inversion time increases more steeply compared to the time taken to solve the system.\n"
      ],
      "metadata": {
        "id": "c4sk3PpxTnex"
      }
    },
    {
      "cell_type": "code",
      "source": [
        "# Plot the Results\n",
        "plt.figure(figsize=(10, 6))\n",
        "plt.plot(matrix_sizes, inversion_times, label='Matrix Inversion Time', marker='o')\n",
        "plt.plot(matrix_sizes, solve_times, label='Solve System Time', marker='o')\n",
        "plt.xlabel('Matrix Size (n x n)')\n",
        "plt.ylabel('Time (seconds)')\n",
        "plt.title('Matrix Inversion vs. Solve System Time Complexity')\n",
        "plt.legend()\n",
        "plt.grid(True)\n",
        "plt.show()\n"
      ],
      "metadata": {
        "colab": {
          "base_uri": "https://localhost:8080/",
          "height": 564
        },
        "id": "h97bj1fXThH5",
        "outputId": "1ec38cfe-689b-4cfd-b1e3-f3ab689c83ef"
      },
      "execution_count": 5,
      "outputs": [
        {
          "output_type": "display_data",
          "data": {
            "text/plain": [
              "<Figure size 1000x600 with 1 Axes>"
            ],
            "image/png": "[encoded data removed]"
          },
          "metadata": {}
        }
      ]
    },
    {
      "cell_type": "markdown",
      "source": [
        "# Sensitivity methods for Non-Linear Equations\n",
        "\n",
        "**Objective:** Showcases different sensitity methods for gradient propagation over the solution to non-linear equations.\n",
        "\n",
        "**Setup:**\n",
        "- Assume the residual function\n",
        "  \n",
        "  $r(u, θ) = {u}^ 2 - sin(θ)$\n",
        "\n",
        "  is solved for $u$ by a root finding method. (e.g. a Newton-Raphson or Andersson Acceleration method)\n",
        "\n",
        "  The resulting solution $u^*$ associated with $\\theta^*$ enters a loss functional\n",
        "\n",
        "  $J(u) = u^2$\n",
        "\n",
        "  We now seek gradient of this scalar-valued loss-function $J(u, \\theta)$ w.r.t. $θ$\n",
        "  \n",
        "    $𝑑J/𝑑\\theta$      \n",
        "    \n",
        "    e.g. for usage in gradient based optimization\n",
        "\n",
        "  For that we assume we have a (hypothetical) function f that maps from $θ$ to $u$, i.e. it solves the root finding problem.\n",
        "\n",
        "  \n",
        "--\n",
        "\n",
        "  **Finite Differences:**\n",
        "\n",
        "  This is the most Naive appraoch, where\n",
        "  \n",
        "  $𝑑J/𝑑\\theta ≈ ( J ( f(θ^* + ε)) - J(F(θ^*)) / ε$\n",
        "\n",
        "\n",
        "--\n",
        "\n",
        "  **Forward Sensitivities**\n",
        "  \n",
        "  (essentially calculating the full jacobian in the forward pass) - $JVP$\n",
        "\n",
        "  1. Solve classical problem\n",
        "      $u^* = f(\\theta^*)$\n",
        "\n",
        "  2. Obtain solution sensititivities (all evaluated at $u^*$  and $\\theta^*$)\n",
        "\n",
        "  $𝑑u/𝑑θ = (∂r/∂u)^{-1} * ∂r/∂θ$\n",
        "\n",
        "  3. Obtain loss sensititivities ( all evaluated at $u^*$ and $u^*$)\n",
        "\n",
        "  $𝑑J/𝑑θ = ∂J/∂u * 𝑑u/𝑑θ$\n",
        "\n",
        "\n",
        "--\n",
        "\n",
        "**Adjoint Method**\n",
        "\n",
        "  1. Solve classical problem\n",
        "\n",
        "  $u^* = f(θ^*)$\n",
        "\n",
        "  2. Obtain adjoint variable (all evalutaed at $u^*$ and $θ^*$\n",
        "\n",
        "  $λ = (∂r/∂u)^{-1} * ∂J/∂u$\n",
        "\n",
        "  3. Obtain loss sensitivities ( all evaluated at $u^*$ and $θ^*$\n",
        "\n",
        "  $𝑑J/𝑑θ = λ * ∂r/∂θ$"
      ],
      "metadata": {
        "id": "blzQly8doxsK"
      }
    },
    {
      "cell_type": "code",
      "source": [
        "# define the non-linear function determining the dynamics of the system\n",
        "def dynamic_function(u, theta):\n",
        "  # theta is the parameter vector\n",
        "  # u is some input vector, implicitly dependent on parameters theta\n",
        "  return u**2 - np.sin(theta)\n",
        "\n",
        "def del_df_del_u(u, theta):\n",
        "  # partial derivative (jacobian) of dynamic_function w.r.t. u\n",
        "  return 2.0*u\n",
        "\n",
        "def del_df_del_theta(u, theta):\n",
        "  # jacobian of the dynamic_function w.r.t. theta\n",
        "  return np.cos(theta)\n",
        "\n",
        "# Find the root of the non-linear dynamic function\n",
        "def obtain_root(theta):\n",
        "  u_0 = 1.0 # Initial value.\n",
        "  root_finding_result = optimize.root_scalar(\n",
        "      f=lambda u: dynamic_function(u, theta=theta),\n",
        "      x0=u_0,\n",
        "      fprime=lambda u: del_df_del_u(u, theta=theta),\n",
        "  )\n",
        "\n",
        "  assert root_finding_result.converged\n",
        "  return root_finding_result.root\n",
        "\n",
        "\n",
        "def loss_functional(u):\n",
        "  # define the scalar-valued loss functional J\n",
        "  return u**2\n",
        "\n",
        "def del_J_del_u(u):\n",
        "  # calculate the partial derivative of scalar-valued loss functional J w.r.t. u\n",
        "  return 2*u\n",
        "\n",
        "evaluation_point = 1.0\n",
        "u_at_evaluation_point = obtain_root(evaluation_point)\n",
        "J_at_evaluation_point = loss_functional(u_at_evaluation_point)\n",
        "print(f'{u_at_evaluation_point=:.10f}')\n",
        "print(f'{J_at_evaluation_point=:.10f}')"
      ],
      "metadata": {
        "id": "-OfE2jU_fyNQ",
        "colab": {
          "base_uri": "https://localhost:8080/"
        },
        "outputId": "5c02e6c5-1699-4a57-8443-297a6f36f144"
      },
      "execution_count": 49,
      "outputs": [
        {
          "output_type": "stream",
          "name": "stdout",
          "text": [
            "u_at_evaluation_point=0.9173172760\n",
            "J_at_evaluation_point=0.8414709848\n"
          ]
        }
      ]
    },
    {
      "cell_type": "code",
      "source": [
        "### Finite Differences\n",
        "epsilon = 1.0e-6\n",
        "\n",
        "# loss sensitivity using finite difference method\n",
        "d_J_d_theta_finite_differences = (\n",
        "    loss_functional(obtain_root(evaluation_point + epsilon))\n",
        "    -\n",
        "    loss_functional(obtain_root(evaluation_point))\n",
        ") / epsilon\n",
        "\n",
        "print(f'Finite Differences Method to calculate | {d_J_d_theta_finite_differences=:.16f}')"
      ],
      "metadata": {
        "colab": {
          "base_uri": "https://localhost:8080/"
        },
        "id": "IVQGIp_InD8p",
        "outputId": "c9bbf568-00bb-4074-e16b-07c8bc8ec273"
      },
      "execution_count": 66,
      "outputs": [
        {
          "output_type": "stream",
          "name": "stdout",
          "text": [
            "Finite Differences Method to calculate | d_J_d_theta_finite_differences=0.5403018851213304\n"
          ]
        }
      ]
    },
    {
      "cell_type": "code",
      "source": [
        "### Forward sensitivites\n",
        "'''\n",
        "1. Solve classical problem  𝑢∗=𝑓(𝜃∗)\n",
        "\n",
        "2. Obtain solution sensititivities (all evaluated at  𝑢∗  and  𝜃∗ )\n",
        "  𝑑𝑢/𝑑θ=(∂𝑟/∂𝑢)−1∗∂𝑟/∂θ\n",
        "\n",
        "3. Obtain loss sensititivities ( all evaluated at  𝑢∗  and  𝑢∗ )\n",
        "  𝑑𝐽/𝑑θ=∂𝐽/∂𝑢∗𝑑𝑢/𝑑θ\n",
        "'''\n",
        "\n",
        "u_classical = obtain_root(evaluation_point)\n",
        "# del_u_del_theta\n",
        "solution_sensitivity = (\n",
        "    (1.0 / del_df_del_u(u_classical, evaluation_point)) * (del_df_del_theta(u_classical, evaluation_point))\n",
        ")\n",
        "\n",
        "# loss sensitivity using forward sensitivites method\n",
        "d_J_d_theta_forward = (\n",
        "    del_J_del_u(u_classical) * solution_sensitivity\n",
        ")\n",
        "\n",
        "print(f'Forward Sensitivity Approach to calculate | {d_J_d_theta_forward=:.16f}')"
      ],
      "metadata": {
        "colab": {
          "base_uri": "https://localhost:8080/"
        },
        "id": "8nkwQ-oVm12i",
        "outputId": "14942f59-00fc-4aea-9f03-93736951b516"
      },
      "execution_count": 68,
      "outputs": [
        {
          "output_type": "stream",
          "name": "stdout",
          "text": [
            "Forward Sensitivity Approach to calculate | d_J_d_theta_forward=0.5403023058681398\n"
          ]
        }
      ]
    },
    {
      "cell_type": "code",
      "source": [
        "### Adjoint Sensitivity\n",
        "'''\n",
        "Adjoint Method\n",
        "\n",
        "1. Solve classical problem\n",
        "  𝑢∗=𝑓(θ∗)\n",
        "\n",
        "2. Obtain adjoint variable (all evalutaed at  𝑢∗  and  θ∗\n",
        "  λ=(∂𝑟/∂𝑢)−1∗∂𝐽/∂𝑢\n",
        "\n",
        "3. Obtain loss sensitivities ( all evaluated at  𝑢∗  and  θ∗\n",
        "  𝑑𝐽/𝑑θ=λ∗∂𝑟/∂θ\n",
        "'''\n",
        "\n",
        "u_classical = obtain_root(evaluation_point)\n",
        "\n",
        "# adjoint variable\n",
        "adjoint_variable = (1.0 / del_df_del_u(u_classical, evaluation_point)) * (del_J_del_u(u_classical))\n",
        "\n",
        "# loss sensitivity using adjoint method\n",
        "d_J_d_theta_adjoint = adjoint_variable * del_df_del_theta(u_classical, evaluation_point)\n",
        "\n",
        "print(f'Adjoint Sensitivity Approach to calculate | {d_J_d_theta_adjoint=:.16f}')"
      ],
      "metadata": {
        "colab": {
          "base_uri": "https://localhost:8080/"
        },
        "id": "__uPo_Xqq-_V",
        "outputId": "0a121cf6-7b45-4fc0-9578-ac7bd9d8d565"
      },
      "execution_count": 67,
      "outputs": [
        {
          "output_type": "stream",
          "name": "stdout",
          "text": [
            "Adjoint Sensitivity Approach to calculate | d_J_d_theta_adjoint=0.5403023058681398\n"
          ]
        }
      ]
    },
    {
      "cell_type": "markdown",
      "source": [
        "# Adjoint Sensitivities of Non-Linear System of Equations"
      ],
      "metadata": {
        "id": "Cg6nvTT832qu"
      }
    }
  ]
}